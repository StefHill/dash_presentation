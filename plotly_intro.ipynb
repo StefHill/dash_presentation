{
 "cells": [
  {
   "cell_type": "markdown",
   "metadata": {},
   "source": [
    "# Plotly Visualisation demonstrations\n",
    "\n",
    "Plotly visualisation are the core of the graphic visualisation that are used in Plotly Dash. It is therefore a good idea to get familiar with a few of the concepts used in the library, before developing the web application.\n",
    "\n",
    "* First we need to import the necessary libraries for the first examples\n",
    "* Note that we are using the __offline__ mode for plotting here\n",
    "* The online mode can be used to automatically save figures to a Plotly Cloud account, but we will not be doing this here"
   ]
  },
  {
   "cell_type": "code",
   "execution_count": null,
   "metadata": {},
   "outputs": [],
   "source": [
    "import numpy as np\n",
    "import plotly.offline as pyo\n",
    "pyo.init_notebook_mode(connected=True)"
   ]
  },
  {
   "cell_type": "markdown",
   "metadata": {},
   "source": [
    "## Single line plot\n",
    "\n",
    "* Notice the argument is a list containing a single dictionary"
   ]
  },
  {
   "cell_type": "code",
   "execution_count": null,
   "metadata": {},
   "outputs": [],
   "source": [
    "pyo.iplot([{'x': [1, 2, 3], 'y':[5, 4, 3]}])"
   ]
  },
  {
   "cell_type": "markdown",
   "metadata": {},
   "source": [
    "## Multiple line plot\n",
    "\n",
    "* Now you can see why a list is needed"
   ]
  },
  {
   "cell_type": "code",
   "execution_count": null,
   "metadata": {},
   "outputs": [],
   "source": [
    "pyo.iplot([{'x': [1, 2, 3], 'y':[5, 4, 3]}, {'x': [1, 2, 3], 'y':[6, 5, 4]}])"
   ]
  },
  {
   "cell_type": "code",
   "execution_count": null,
   "metadata": {},
   "outputs": [],
   "source": [
    "import pandas as pd\n",
    "import plotly.graph_objs as go"
   ]
  },
  {
   "cell_type": "code",
   "execution_count": null,
   "metadata": {},
   "outputs": [],
   "source": [
    "iris = pd.read_csv('data/iris.csv')"
   ]
  },
  {
   "cell_type": "code",
   "execution_count": null,
   "metadata": {},
   "outputs": [],
   "source": [
    "iris.head()"
   ]
  },
  {
   "cell_type": "markdown",
   "metadata": {},
   "source": [
    "## Isolating out only one of the 3 flowers"
   ]
  },
  {
   "cell_type": "code",
   "execution_count": null,
   "metadata": {},
   "outputs": [],
   "source": [
    "setosa = iris.loc[iris['Flower'] == 'Iris-setosa']"
   ]
  },
  {
   "cell_type": "markdown",
   "metadata": {},
   "source": [
    "## Using `plotly.graph_objs`\n",
    "\n",
    "This is done by creating 3 separate entities:\n",
    "\n",
    "* The data of the plot\n",
    "    * Note that this input is a list\n",
    "* The layout of the plot\n",
    "* A figure that contains both of the above"
   ]
  },
  {
   "cell_type": "code",
   "execution_count": null,
   "metadata": {},
   "outputs": [],
   "source": [
    "data = [\n",
    "    go.Scatter(\n",
    "        x=setosa['Sepal Length'],\n",
    "        y=setosa['Sepal Width'],\n",
    "        name='Iris-setosa'\n",
    "    )\n",
    "]"
   ]
  },
  {
   "cell_type": "markdown",
   "metadata": {},
   "source": [
    "#### Note that some inputs can take dictionaries"
   ]
  },
  {
   "cell_type": "code",
   "execution_count": null,
   "metadata": {},
   "outputs": [],
   "source": [
    "layout = go.Layout(\n",
    "    title='Sepal Length and Width',\n",
    "    xaxis=dict(title='Sepal Length'),\n",
    "    yaxis=dict(title='Sepal Width')\n",
    ")"
   ]
  },
  {
   "cell_type": "code",
   "execution_count": null,
   "metadata": {},
   "outputs": [],
   "source": [
    "fig = go.Figure(data=data, layout=layout)"
   ]
  },
  {
   "cell_type": "markdown",
   "metadata": {},
   "source": [
    "#### This will now go wrong"
   ]
  },
  {
   "cell_type": "code",
   "execution_count": null,
   "metadata": {},
   "outputs": [],
   "source": [
    "pyo.iplot(fig)"
   ]
  },
  {
   "cell_type": "markdown",
   "metadata": {},
   "source": [
    "#### We need to specify the `mode` of the graph `markers`"
   ]
  },
  {
   "cell_type": "code",
   "execution_count": null,
   "metadata": {},
   "outputs": [],
   "source": [
    "data = [\n",
    "    go.Scatter(\n",
    "        x=setosa['Sepal Length'],\n",
    "        y=setosa['Sepal Width'],\n",
    "        name='Iris-setosa',\n",
    "        mode='markers'\n",
    "    )\n",
    "]"
   ]
  },
  {
   "cell_type": "markdown",
   "metadata": {},
   "source": [
    "#### This next example shows why some arguments take dictionaries as inputs - it is because they can take multiple inputs"
   ]
  },
  {
   "cell_type": "code",
   "execution_count": null,
   "metadata": {},
   "outputs": [],
   "source": [
    "layout = go.Layout(\n",
    "    title='Sepal Length and Width',\n",
    "    xaxis=dict(\n",
    "        title='Sepal Length',\n",
    "        dtick=0.1\n",
    "    ),\n",
    "    yaxis=dict(title='Sepal Width')\n",
    ")"
   ]
  },
  {
   "cell_type": "code",
   "execution_count": null,
   "metadata": {},
   "outputs": [],
   "source": [
    "fig = go.Figure(data=data, layout=layout)"
   ]
  },
  {
   "cell_type": "code",
   "execution_count": null,
   "metadata": {},
   "outputs": [],
   "source": [
    "pyo.iplot(fig)"
   ]
  },
  {
   "cell_type": "markdown",
   "metadata": {},
   "source": [
    "## Using styling of the markers\n",
    "\n",
    "Note the American spellings"
   ]
  },
  {
   "cell_type": "code",
   "execution_count": null,
   "metadata": {},
   "outputs": [],
   "source": [
    "data = [\n",
    "    go.Scatter(\n",
    "        x=setosa['Sepal Length'],\n",
    "        y=setosa['Sepal Width'],\n",
    "        name='Iris-setosa',\n",
    "        mode='markers',\n",
    "        marker=dict(\n",
    "            size=12,\n",
    "            color='rgb(51,204,153)',\n",
    "            symbol='pentagon'\n",
    "        )\n",
    "    )\n",
    "]"
   ]
  },
  {
   "cell_type": "code",
   "execution_count": null,
   "metadata": {},
   "outputs": [],
   "source": [
    "fig = go.Figure(data=data, layout=layout)"
   ]
  },
  {
   "cell_type": "code",
   "execution_count": null,
   "metadata": {},
   "outputs": [],
   "source": [
    "pyo.iplot(fig)"
   ]
  },
  {
   "cell_type": "markdown",
   "metadata": {},
   "source": [
    "#### Note that the inputs can be nested dictionaries - this example gets the line"
   ]
  },
  {
   "cell_type": "code",
   "execution_count": null,
   "metadata": {},
   "outputs": [],
   "source": [
    "data = [\n",
    "    go.Scatter(\n",
    "        x=setosa['Sepal Length'],\n",
    "        y=setosa['Sepal Width'],\n",
    "        name='Iris-setosa',\n",
    "        mode='markers',\n",
    "        marker=dict(\n",
    "            size=12,\n",
    "            color='rgb(51,204,153)',\n",
    "            symbol='pentagon',\n",
    "            line=dict(\n",
    "                width=2\n",
    "            )\n",
    "        )\n",
    "    )\n",
    "]"
   ]
  },
  {
   "cell_type": "code",
   "execution_count": null,
   "metadata": {},
   "outputs": [],
   "source": [
    "fig = go.Figure(data=data, layout=layout)"
   ]
  },
  {
   "cell_type": "code",
   "execution_count": null,
   "metadata": {},
   "outputs": [],
   "source": [
    "pyo.iplot(fig)"
   ]
  },
  {
   "cell_type": "markdown",
   "metadata": {},
   "source": [
    "## Note how the hover information is not functioning optionally\n",
    "\n",
    "By setting the `hovermode` to `'closest'` in the the `Layout` changes the behaviour of this"
   ]
  },
  {
   "cell_type": "code",
   "execution_count": null,
   "metadata": {},
   "outputs": [],
   "source": [
    "layout = go.Layout(\n",
    "    title='Sepal Length and Width',\n",
    "    xaxis=dict(title='Sepal Length'),\n",
    "    yaxis=dict(title='Sepal Width'),\n",
    "    hovermode='closest'\n",
    ")"
   ]
  },
  {
   "cell_type": "code",
   "execution_count": null,
   "metadata": {},
   "outputs": [],
   "source": [
    "fig = go.Figure(data=data, layout=layout)"
   ]
  },
  {
   "cell_type": "code",
   "execution_count": null,
   "metadata": {},
   "outputs": [],
   "source": [
    "pyo.iplot(fig)"
   ]
  },
  {
   "cell_type": "markdown",
   "metadata": {},
   "source": [
    "# Now looking at all of the 3 plants on the graph"
   ]
  },
  {
   "cell_type": "code",
   "execution_count": null,
   "metadata": {},
   "outputs": [],
   "source": [
    "iris_plants = iris['Flower'].unique()\n",
    "iris_plants"
   ]
  },
  {
   "cell_type": "markdown",
   "metadata": {},
   "source": [
    "#### A quick reminder of how Python list-comprehensions work - this will be used for viewing multiple categories"
   ]
  },
  {
   "cell_type": "code",
   "execution_count": null,
   "metadata": {},
   "outputs": [],
   "source": [
    "['This plant is {}'.format(x) for x in iris_plants]"
   ]
  },
  {
   "cell_type": "code",
   "execution_count": null,
   "metadata": {},
   "outputs": [],
   "source": [
    "data = [\n",
    "    go.Scatter(\n",
    "        x=iris.loc[iris['Flower'] == name]['Sepal Length'],\n",
    "        y=iris.loc[iris['Flower'] == name]['Sepal Width'],\n",
    "        mode='markers',\n",
    "        name=name\n",
    "    ) for name in iris_plants\n",
    "]"
   ]
  },
  {
   "cell_type": "markdown",
   "metadata": {},
   "source": [
    "#### We can use the same layout from before"
   ]
  },
  {
   "cell_type": "code",
   "execution_count": null,
   "metadata": {},
   "outputs": [],
   "source": [
    "fig = go.Figure(data=data, layout=layout)"
   ]
  },
  {
   "cell_type": "markdown",
   "metadata": {},
   "source": [
    "#### Note that we can use the legend in an interactive manner\n",
    "\n",
    "Click on the values in the legend to isolate out the different groups"
   ]
  },
  {
   "cell_type": "code",
   "execution_count": null,
   "metadata": {},
   "outputs": [],
   "source": [
    "pyo.iplot(fig)"
   ]
  },
  {
   "cell_type": "markdown",
   "metadata": {},
   "source": [
    "#### Even more information can be provided to the graph\n",
    "\n",
    "In this case, we can change the information of the hover message. But this is soon getting quite involved."
   ]
  },
  {
   "cell_type": "code",
   "execution_count": null,
   "metadata": {},
   "outputs": [],
   "source": [
    "data = [\n",
    "    go.Scatter(\n",
    "        x=iris.loc[iris['Flower'] == name]['Sepal Length'],\n",
    "        y=iris.loc[iris['Flower'] == name]['Sepal Width'],\n",
    "        mode='markers',\n",
    "        text=[\n",
    "            'x={}, y={}, Flower={}'\\\n",
    "                .format(x[1]['Sepal Length'],\n",
    "                x[1]['Sepal Width'],\n",
    "                x[1]['Flower']) for x in iris.loc[iris['Flower'] == name].iterrows()\n",
    "        ],\n",
    "        hoverinfo='text',\n",
    "        name=name\n",
    "    ) for name in iris_plants\n",
    "]"
   ]
  },
  {
   "cell_type": "code",
   "execution_count": null,
   "metadata": {},
   "outputs": [],
   "source": [
    "fig = go.Figure(data=data, layout=layout)"
   ]
  },
  {
   "cell_type": "code",
   "execution_count": null,
   "metadata": {},
   "outputs": [],
   "source": [
    "pyo.iplot(fig)"
   ]
  },
  {
   "cell_type": "markdown",
   "metadata": {},
   "source": [
    "# Different types of Graphs"
   ]
  },
  {
   "cell_type": "code",
   "execution_count": null,
   "metadata": {},
   "outputs": [],
   "source": [
    "data = [\n",
    "    go.Histogram(\n",
    "        x=setosa['Sepal Length']\n",
    "    )\n",
    "]"
   ]
  },
  {
   "cell_type": "code",
   "execution_count": null,
   "metadata": {},
   "outputs": [],
   "source": [
    "layout = go.Layout(\n",
    "    title=\"Setosa Sepal Length Histogram\",\n",
    "    xaxis=dict(title=\"Sepal Length\"),\n",
    "    yaxis=dict(title=\"Frequency\")\n",
    ")"
   ]
  },
  {
   "cell_type": "code",
   "execution_count": null,
   "metadata": {},
   "outputs": [],
   "source": [
    "fig = go.Figure(data=data, layout=layout)"
   ]
  },
  {
   "cell_type": "code",
   "execution_count": null,
   "metadata": {},
   "outputs": [],
   "source": [
    "pyo.iplot(fig)"
   ]
  },
  {
   "cell_type": "markdown",
   "metadata": {},
   "source": [
    "## Using the nested dictionaries to style the graph\n",
    "\n",
    "We can also change the y-axis to represent a probability mass function (PMF)"
   ]
  },
  {
   "cell_type": "code",
   "execution_count": null,
   "metadata": {},
   "outputs": [],
   "source": [
    "data = [\n",
    "    go.Histogram(\n",
    "        x=setosa['Sepal Length'],\n",
    "        nbinsx=20,\n",
    "        histnorm='probability',\n",
    "        marker=dict(\n",
    "            line=dict(\n",
    "                width=1,\n",
    "                color='white'\n",
    "            )\n",
    "        )\n",
    "    )\n",
    "]"
   ]
  },
  {
   "cell_type": "code",
   "execution_count": null,
   "metadata": {},
   "outputs": [],
   "source": [
    "layout = go.Layout(\n",
    "    title=\"Setosa Sepal Length PMF Histogram\",\n",
    "    xaxis=dict(title=\"Sepal Length\"),\n",
    "    yaxis=dict(title=\"Probability\")\n",
    ")"
   ]
  },
  {
   "cell_type": "code",
   "execution_count": null,
   "metadata": {},
   "outputs": [],
   "source": [
    "fig = go.Figure(data=data, layout=layout)"
   ]
  },
  {
   "cell_type": "code",
   "execution_count": null,
   "metadata": {},
   "outputs": [],
   "source": [
    "pyo.iplot(fig)"
   ]
  },
  {
   "cell_type": "markdown",
   "metadata": {},
   "source": [
    "## Histograms of multiple classes"
   ]
  },
  {
   "cell_type": "code",
   "execution_count": null,
   "metadata": {},
   "outputs": [],
   "source": [
    "data = [\n",
    "    go.Histogram(\n",
    "        x=iris.loc[iris['Flower'] == name]['Sepal Length'],\n",
    "        marker=dict(\n",
    "            line=dict(\n",
    "                width=1,\n",
    "                color='white'\n",
    "            )\n",
    "        ),\n",
    "        name=name\n",
    "    ) for name in iris_plants\n",
    "]"
   ]
  },
  {
   "cell_type": "code",
   "execution_count": null,
   "metadata": {},
   "outputs": [],
   "source": [
    "layout = go.Layout(\n",
    "    title=\"Setosa Sepal Length PMF Histogram\",\n",
    "    xaxis=dict(title=\"Sepal Length\"),\n",
    "    yaxis=dict(title=\"Frequency\")\n",
    ")"
   ]
  },
  {
   "cell_type": "code",
   "execution_count": null,
   "metadata": {},
   "outputs": [],
   "source": [
    "fig = go.Figure(data=data, layout=layout)"
   ]
  },
  {
   "cell_type": "markdown",
   "metadata": {},
   "source": [
    "#### This first example separates out the different classes"
   ]
  },
  {
   "cell_type": "code",
   "execution_count": null,
   "metadata": {},
   "outputs": [],
   "source": [
    "pyo.iplot(fig)"
   ]
  },
  {
   "cell_type": "markdown",
   "metadata": {},
   "source": [
    "#### The following graphs show overlapping histograms\n",
    "\n",
    "* This is done by changing the `barmode` value to `overlay`\n",
    "* Note that we need to change the `opacity` value in order to see bars behind others\n",
    "    * This is similar to the `alpha` parameter used in `matplotlib`"
   ]
  },
  {
   "cell_type": "code",
   "execution_count": null,
   "metadata": {},
   "outputs": [],
   "source": [
    "data = [\n",
    "    go.Histogram(\n",
    "        x=iris.loc[iris['Flower'] == name]['Sepal Length'],\n",
    "        marker=dict(\n",
    "            line=dict(\n",
    "                width=1,\n",
    "                color='white'\n",
    "            )\n",
    "        ),\n",
    "        name=name,\n",
    "        opacity=0.6\n",
    "    ) for name in iris_plants\n",
    "]"
   ]
  },
  {
   "cell_type": "code",
   "execution_count": null,
   "metadata": {},
   "outputs": [],
   "source": [
    "layout = go.Layout(\n",
    "    title=\"Setosa Sepal Length PMF Histogram\",\n",
    "    xaxis=dict(title=\"Sepal Length\"),\n",
    "    yaxis=dict(title=\"Frequency\"),\n",
    "    barmode='overlay'\n",
    ")"
   ]
  },
  {
   "cell_type": "code",
   "execution_count": null,
   "metadata": {},
   "outputs": [],
   "source": [
    "fig = go.Figure(data=data, layout=layout)"
   ]
  },
  {
   "cell_type": "markdown",
   "metadata": {},
   "source": [
    "#### However - the bin sizes are not uniform"
   ]
  },
  {
   "cell_type": "code",
   "execution_count": null,
   "metadata": {},
   "outputs": [],
   "source": [
    "pyo.iplot(fig)"
   ]
  },
  {
   "cell_type": "markdown",
   "metadata": {},
   "source": [
    "#### This has to be corrected by setting the size of the bins for all classes"
   ]
  },
  {
   "cell_type": "code",
   "execution_count": null,
   "metadata": {},
   "outputs": [],
   "source": [
    "data = [\n",
    "    go.Histogram(\n",
    "        x=iris.loc[iris['Flower'] == name]['Sepal Length'],\n",
    "        marker=dict(\n",
    "            line=dict(\n",
    "                width=1,\n",
    "                color='white'\n",
    "            )\n",
    "        ),\n",
    "        name=name,\n",
    "        opacity=0.6,\n",
    "        xbins=dict(\n",
    "            start=0,\n",
    "            end=iris['Sepal Length'].max() + 0.1,\n",
    "            size=0.2\n",
    "        )\n",
    "    ) for name in iris_plants\n",
    "]"
   ]
  },
  {
   "cell_type": "code",
   "execution_count": null,
   "metadata": {},
   "outputs": [],
   "source": [
    "fig = go.Figure(data=data, layout=layout)"
   ]
  },
  {
   "cell_type": "code",
   "execution_count": null,
   "metadata": {},
   "outputs": [],
   "source": [
    "pyo.iplot(fig)"
   ]
  },
  {
   "cell_type": "markdown",
   "metadata": {},
   "source": [
    "# Using `figure_factory` to simplify the process\n",
    "\n",
    "This library can be used to simplify the process of creating some popular graphs. This is in active development, and sometimes, some research is required to find out how to enter the data.\n",
    "\n",
    "This can be done using the notebook:\n",
    "\n",
    "* Type in `ff.` and then hit `<Shift>` and `<Tab>` together - this shows you a list of all of the available types of plots\n",
    "* These can then be examined using the `?` tool in the notebook"
   ]
  },
  {
   "cell_type": "code",
   "execution_count": null,
   "metadata": {},
   "outputs": [],
   "source": [
    "import plotly.figure_factory as ff"
   ]
  },
  {
   "cell_type": "code",
   "execution_count": null,
   "metadata": {},
   "outputs": [],
   "source": [
    "ff.create_distplot?"
   ]
  },
  {
   "cell_type": "markdown",
   "metadata": {},
   "source": [
    "#### This particular plot takes a list of the different sets of values for each plant"
   ]
  },
  {
   "cell_type": "code",
   "execution_count": null,
   "metadata": {},
   "outputs": [],
   "source": [
    "sepal_lengths = [iris.loc[iris['Flower'] == name]['Sepal Length'].values for name in iris_plants]"
   ]
  },
  {
   "cell_type": "code",
   "execution_count": null,
   "metadata": {},
   "outputs": [],
   "source": [
    "fig = ff.create_distplot(sepal_lengths, iris_plants, bin_size=0.2)"
   ]
  },
  {
   "cell_type": "code",
   "execution_count": null,
   "metadata": {},
   "outputs": [],
   "source": [
    "pyo.iplot(fig)"
   ]
  },
  {
   "cell_type": "markdown",
   "metadata": {},
   "source": [
    "#### The following cell shows what the `figure_factory` has done for us\n",
    "\n",
    "We can also manually update parts of the plot - in this case, I want to get the white lines between the bars again"
   ]
  },
  {
   "cell_type": "code",
   "execution_count": null,
   "metadata": {},
   "outputs": [],
   "source": [
    "fig"
   ]
  },
  {
   "cell_type": "code",
   "execution_count": null,
   "metadata": {},
   "outputs": [],
   "source": [
    "for hist in fig['data']:\n",
    "    hist['marker']['line'] = dict(width=1, color='white')"
   ]
  },
  {
   "cell_type": "code",
   "execution_count": null,
   "metadata": {},
   "outputs": [],
   "source": [
    "pyo.iplot(fig)"
   ]
  },
  {
   "cell_type": "markdown",
   "metadata": {},
   "source": [
    "#### Another very useful plot to quickly examine the relationship between the columns in the dataframes\n",
    "\n",
    "This is very similar to `pairplot` in the `seaborn` library"
   ]
  },
  {
   "cell_type": "code",
   "execution_count": null,
   "metadata": {},
   "outputs": [],
   "source": [
    "fig = ff.create_scatterplotmatrix(iris, index='Flower', height=700, width=700,\n",
    "                                  diag='histogram', title='Scatter Matrix of Iris Features')"
   ]
  },
  {
   "cell_type": "code",
   "execution_count": null,
   "metadata": {},
   "outputs": [],
   "source": [
    "pyo.iplot(fig)"
   ]
  },
  {
   "cell_type": "code",
   "execution_count": null,
   "metadata": {},
   "outputs": [],
   "source": [
    "fig"
   ]
  },
  {
   "cell_type": "code",
   "execution_count": null,
   "metadata": {},
   "outputs": [],
   "source": [
    "for graph in fig['data']:\n",
    "    if graph['type'] == 'histogram':\n",
    "        graph['opacity'] = 0.6\n",
    "        \n",
    "fig['layout']['barmode'] = 'overlay'"
   ]
  },
  {
   "cell_type": "code",
   "execution_count": null,
   "metadata": {},
   "outputs": [],
   "source": [
    "pyo.iplot(fig)"
   ]
  },
  {
   "cell_type": "code",
   "execution_count": null,
   "metadata": {},
   "outputs": [],
   "source": []
  }
 ],
 "metadata": {
  "kernelspec": {
   "display_name": "Python 3",
   "language": "python",
   "name": "python3"
  },
  "language_info": {
   "codemirror_mode": {
    "name": "ipython",
    "version": 3
   },
   "file_extension": ".py",
   "mimetype": "text/x-python",
   "name": "python",
   "nbconvert_exporter": "python",
   "pygments_lexer": "ipython3",
   "version": "3.7.1"
  }
 },
 "nbformat": 4,
 "nbformat_minor": 2
}
