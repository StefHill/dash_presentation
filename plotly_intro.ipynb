{
 "cells": [
  {
   "cell_type": "markdown",
   "metadata": {},
   "source": [
    "# Plotly Visualisation demonstrations\n",
    "\n",
    "Plotly visualisation are the core of the graphic visualisation that are used in Plotly Dash. It is therefore a good idea to get familiar with a few of the concepts used in the library, before developing the web application.\n",
    "\n",
    "* First we need to import the necessary libraries for the first examples\n",
    "* Note that we are using the __offline__ mode for plotting here\n",
    "* The online mode can be used to automatically save figures to a Plotly Cloud account, but we will not be doing this here"
   ]
  },
  {
   "cell_type": "code",
   "execution_count": 1,
   "metadata": {},
   "outputs": [
    {
     "data": {
      "text/html": [
       "<script type=\"text/javascript\">window.PlotlyConfig = {MathJaxConfig: 'local'};</script><script type=\"text/javascript\">if (window.MathJax) {MathJax.Hub.Config({SVG: {font: \"STIX-Web\"}});}</script><script>requirejs.config({paths: { 'plotly': ['https://cdn.plot.ly/plotly-latest.min']},});if(!window._Plotly) {require(['plotly'],function(plotly) {window._Plotly=plotly;});}</script>"
      ],
      "text/vnd.plotly.v1+html": [
       "<script type=\"text/javascript\">window.PlotlyConfig = {MathJaxConfig: 'local'};</script><script type=\"text/javascript\">if (window.MathJax) {MathJax.Hub.Config({SVG: {font: \"STIX-Web\"}});}</script><script>requirejs.config({paths: { 'plotly': ['https://cdn.plot.ly/plotly-latest.min']},});if(!window._Plotly) {require(['plotly'],function(plotly) {window._Plotly=plotly;});}</script>"
      ]
     },
     "metadata": {},
     "output_type": "display_data"
    }
   ],
   "source": [
    "import numpy as np\n",
    "import plotly.offline as pyo\n",
    "pyo.init_notebook_mode(connected=True)"
   ]
  },
  {
   "cell_type": "markdown",
   "metadata": {},
   "source": [
    "## Single line plot\n",
    "\n",
    "* Notice the argument is a list containing a single dictionary"
   ]
  },
  {
   "cell_type": "code",
   "execution_count": 2,
   "metadata": {},
   "outputs": [
    {
     "data": {
      "application/vnd.plotly.v1+json": {
       "config": {
        "linkText": "Export to plot.ly",
        "plotlyServerURL": "https://plot.ly",
        "showLink": true
       },
       "data": [
        {
         "type": "scatter",
         "uid": "100c6029-d300-42b6-8da9-586fae792a0c",
         "x": [
          1,
          2,
          3
         ],
         "y": [
          5,
          4,
          3
         ]
        }
       ],
       "layout": {}
      },
      "text/html": [
       "<div id=\"eb638460-5478-4bf1-b4d0-dd9ffa1aeb32\" style=\"height: 525px; width: 100%;\" class=\"plotly-graph-div\"></div><script type=\"text/javascript\">require([\"plotly\"], function(Plotly) { window.PLOTLYENV=window.PLOTLYENV || {};window.PLOTLYENV.BASE_URL=\"https://plot.ly\";Plotly.newPlot(\"eb638460-5478-4bf1-b4d0-dd9ffa1aeb32\", [{\"x\": [1, 2, 3], \"y\": [5, 4, 3], \"type\": \"scatter\", \"uid\": \"008530b8-0b54-4bdb-894d-9ff96778eeed\"}], {}, {\"showLink\": true, \"linkText\": \"Export to plot.ly\", \"plotlyServerURL\": \"https://plot.ly\"})});</script><script type=\"text/javascript\">window.addEventListener(\"resize\", function(){window._Plotly.Plots.resize(document.getElementById(\"eb638460-5478-4bf1-b4d0-dd9ffa1aeb32\"));});</script>"
      ],
      "text/vnd.plotly.v1+html": [
       "<div id=\"eb638460-5478-4bf1-b4d0-dd9ffa1aeb32\" style=\"height: 525px; width: 100%;\" class=\"plotly-graph-div\"></div><script type=\"text/javascript\">require([\"plotly\"], function(Plotly) { window.PLOTLYENV=window.PLOTLYENV || {};window.PLOTLYENV.BASE_URL=\"https://plot.ly\";Plotly.newPlot(\"eb638460-5478-4bf1-b4d0-dd9ffa1aeb32\", [{\"x\": [1, 2, 3], \"y\": [5, 4, 3], \"type\": \"scatter\", \"uid\": \"008530b8-0b54-4bdb-894d-9ff96778eeed\"}], {}, {\"showLink\": true, \"linkText\": \"Export to plot.ly\", \"plotlyServerURL\": \"https://plot.ly\"})});</script><script type=\"text/javascript\">window.addEventListener(\"resize\", function(){window._Plotly.Plots.resize(document.getElementById(\"eb638460-5478-4bf1-b4d0-dd9ffa1aeb32\"));});</script>"
      ]
     },
     "metadata": {},
     "output_type": "display_data"
    }
   ],
   "source": [
    "pyo.iplot([{'x': [1, 2, 3], 'y':[5, 4, 3]}])"
   ]
  },
  {
   "cell_type": "markdown",
   "metadata": {},
   "source": [
    "## Multiple line plot\n",
    "\n",
    "* Now you can see why a list is needed"
   ]
  },
  {
   "cell_type": "code",
   "execution_count": 3,
   "metadata": {},
   "outputs": [
    {
     "data": {
      "application/vnd.plotly.v1+json": {
       "config": {
        "linkText": "Export to plot.ly",
        "plotlyServerURL": "https://plot.ly",
        "showLink": true
       },
       "data": [
        {
         "type": "scatter",
         "uid": "3d9a2007-1546-426c-92f1-194a5f27fa12",
         "x": [
          1,
          2,
          3
         ],
         "y": [
          5,
          4,
          3
         ]
        },
        {
         "type": "scatter",
         "uid": "d0a884c5-8bbb-48ed-ae88-cced63fdebfc",
         "x": [
          1,
          2,
          3
         ],
         "y": [
          6,
          5,
          4
         ]
        }
       ],
       "layout": {}
      },
      "text/html": [
       "<div id=\"248d2f1d-5db1-4421-8554-cd5b6c9c1088\" style=\"height: 525px; width: 100%;\" class=\"plotly-graph-div\"></div><script type=\"text/javascript\">require([\"plotly\"], function(Plotly) { window.PLOTLYENV=window.PLOTLYENV || {};window.PLOTLYENV.BASE_URL=\"https://plot.ly\";Plotly.newPlot(\"248d2f1d-5db1-4421-8554-cd5b6c9c1088\", [{\"x\": [1, 2, 3], \"y\": [5, 4, 3], \"type\": \"scatter\", \"uid\": \"c3dc82db-6442-4223-adf2-113b13e305b6\"}, {\"x\": [1, 2, 3], \"y\": [6, 5, 4], \"type\": \"scatter\", \"uid\": \"d84be713-d18a-4d18-af6b-44c2d15cb45f\"}], {}, {\"showLink\": true, \"linkText\": \"Export to plot.ly\", \"plotlyServerURL\": \"https://plot.ly\"})});</script><script type=\"text/javascript\">window.addEventListener(\"resize\", function(){window._Plotly.Plots.resize(document.getElementById(\"248d2f1d-5db1-4421-8554-cd5b6c9c1088\"));});</script>"
      ],
      "text/vnd.plotly.v1+html": [
       "<div id=\"248d2f1d-5db1-4421-8554-cd5b6c9c1088\" style=\"height: 525px; width: 100%;\" class=\"plotly-graph-div\"></div><script type=\"text/javascript\">require([\"plotly\"], function(Plotly) { window.PLOTLYENV=window.PLOTLYENV || {};window.PLOTLYENV.BASE_URL=\"https://plot.ly\";Plotly.newPlot(\"248d2f1d-5db1-4421-8554-cd5b6c9c1088\", [{\"x\": [1, 2, 3], \"y\": [5, 4, 3], \"type\": \"scatter\", \"uid\": \"c3dc82db-6442-4223-adf2-113b13e305b6\"}, {\"x\": [1, 2, 3], \"y\": [6, 5, 4], \"type\": \"scatter\", \"uid\": \"d84be713-d18a-4d18-af6b-44c2d15cb45f\"}], {}, {\"showLink\": true, \"linkText\": \"Export to plot.ly\", \"plotlyServerURL\": \"https://plot.ly\"})});</script><script type=\"text/javascript\">window.addEventListener(\"resize\", function(){window._Plotly.Plots.resize(document.getElementById(\"248d2f1d-5db1-4421-8554-cd5b6c9c1088\"));});</script>"
      ]
     },
     "metadata": {},
     "output_type": "display_data"
    }
   ],
   "source": [
    "pyo.iplot([{'x': [1, 2, 3], 'y':[5, 4, 3]}, {'x': [1, 2, 3], 'y':[6, 5, 4]}])"
   ]
  },
  {
   "cell_type": "code",
   "execution_count": 4,
   "metadata": {},
   "outputs": [],
   "source": [
    "import pandas as pd\n",
    "import plotly.graph_objs as go"
   ]
  },
  {
   "cell_type": "code",
   "execution_count": 5,
   "metadata": {},
   "outputs": [],
   "source": [
    "iris = pd.read_csv('data/iris.csv')"
   ]
  },
  {
   "cell_type": "code",
   "execution_count": 6,
   "metadata": {},
   "outputs": [
    {
     "data": {
      "text/html": [
       "<div>\n",
       "<style scoped>\n",
       "    .dataframe tbody tr th:only-of-type {\n",
       "        vertical-align: middle;\n",
       "    }\n",
       "\n",
       "    .dataframe tbody tr th {\n",
       "        vertical-align: top;\n",
       "    }\n",
       "\n",
       "    .dataframe thead th {\n",
       "        text-align: right;\n",
       "    }\n",
       "</style>\n",
       "<table border=\"1\" class=\"dataframe\">\n",
       "  <thead>\n",
       "    <tr style=\"text-align: right;\">\n",
       "      <th></th>\n",
       "      <th>Sepal Length</th>\n",
       "      <th>Sepal Width</th>\n",
       "      <th>Petal Length</th>\n",
       "      <th>Petal Width</th>\n",
       "      <th>Flower</th>\n",
       "    </tr>\n",
       "  </thead>\n",
       "  <tbody>\n",
       "    <tr>\n",
       "      <th>0</th>\n",
       "      <td>5.1</td>\n",
       "      <td>3.5</td>\n",
       "      <td>1.4</td>\n",
       "      <td>0.2</td>\n",
       "      <td>Iris-setosa</td>\n",
       "    </tr>\n",
       "    <tr>\n",
       "      <th>1</th>\n",
       "      <td>4.9</td>\n",
       "      <td>3.0</td>\n",
       "      <td>1.4</td>\n",
       "      <td>0.2</td>\n",
       "      <td>Iris-setosa</td>\n",
       "    </tr>\n",
       "    <tr>\n",
       "      <th>2</th>\n",
       "      <td>4.7</td>\n",
       "      <td>3.2</td>\n",
       "      <td>1.3</td>\n",
       "      <td>0.2</td>\n",
       "      <td>Iris-setosa</td>\n",
       "    </tr>\n",
       "    <tr>\n",
       "      <th>3</th>\n",
       "      <td>4.6</td>\n",
       "      <td>3.1</td>\n",
       "      <td>1.5</td>\n",
       "      <td>0.2</td>\n",
       "      <td>Iris-setosa</td>\n",
       "    </tr>\n",
       "    <tr>\n",
       "      <th>4</th>\n",
       "      <td>5.0</td>\n",
       "      <td>3.6</td>\n",
       "      <td>1.4</td>\n",
       "      <td>0.2</td>\n",
       "      <td>Iris-setosa</td>\n",
       "    </tr>\n",
       "  </tbody>\n",
       "</table>\n",
       "</div>"
      ],
      "text/plain": [
       "   Sepal Length  Sepal Width  Petal Length  Petal Width       Flower\n",
       "0           5.1          3.5           1.4          0.2  Iris-setosa\n",
       "1           4.9          3.0           1.4          0.2  Iris-setosa\n",
       "2           4.7          3.2           1.3          0.2  Iris-setosa\n",
       "3           4.6          3.1           1.5          0.2  Iris-setosa\n",
       "4           5.0          3.6           1.4          0.2  Iris-setosa"
      ]
     },
     "execution_count": 6,
     "metadata": {},
     "output_type": "execute_result"
    }
   ],
   "source": [
    "iris.head()"
   ]
  },
  {
   "cell_type": "markdown",
   "metadata": {},
   "source": [
    "## Isolating out only one of the 3 flowers"
   ]
  },
  {
   "cell_type": "code",
   "execution_count": 7,
   "metadata": {},
   "outputs": [],
   "source": [
    "setosa = iris.loc[iris['Flower'] == 'Iris-setosa']"
   ]
  },
  {
   "cell_type": "markdown",
   "metadata": {},
   "source": [
    "## Using `plotly.graph_objs`\n",
    "\n",
    "This is done by creating 3 separate entities:\n",
    "\n",
    "* The data of the plot\n",
    "    * Note that this input is a list\n",
    "* The layout of the plot\n",
    "* A figure that contains both of the above"
   ]
  },
  {
   "cell_type": "code",
   "execution_count": 8,
   "metadata": {},
   "outputs": [],
   "source": [
    "data = [\n",
    "    go.Scatter(\n",
    "        x=setosa['Sepal Length'],\n",
    "        y=setosa['Sepal Width'],\n",
    "        name='Iris-setosa'\n",
    "    )\n",
    "]"
   ]
  },
  {
   "cell_type": "markdown",
   "metadata": {},
   "source": [
    "#### Note that the inputs can take dictionaries"
   ]
  },
  {
   "cell_type": "code",
   "execution_count": 9,
   "metadata": {},
   "outputs": [],
   "source": [
    "layout = go.Layout(\n",
    "    title='Sepal Length and Width',\n",
    "    xaxis=dict(title='Sepal Length'),\n",
    "    yaxis=dict(title='Sepal Width')\n",
    ")"
   ]
  },
  {
   "cell_type": "code",
   "execution_count": 10,
   "metadata": {},
   "outputs": [],
   "source": [
    "fig = go.Figure(data=data, layout=layout)"
   ]
  },
  {
   "cell_type": "markdown",
   "metadata": {},
   "source": [
    "#### This will now go wrong"
   ]
  },
  {
   "cell_type": "code",
   "execution_count": 11,
   "metadata": {},
   "outputs": [
    {
     "data": {
      "application/vnd.plotly.v1+json": {
       "config": {
        "linkText": "Export to plot.ly",
        "plotlyServerURL": "https://plot.ly",
        "showLink": true
       },
       "data": [
        {
         "name": "Iris-setosa",
         "type": "scatter",
         "uid": "000850c3-a43b-4dba-a21a-c592a56cd6bb",
         "x": [
          5.1,
          4.9,
          4.7,
          4.6,
          5,
          5.4,
          4.6,
          5,
          4.4,
          4.9,
          5.4,
          4.8,
          4.8,
          4.3,
          5.8,
          5.7,
          5.4,
          5.1,
          5.7,
          5.1,
          5.4,
          5.1,
          4.6,
          5.1,
          4.8,
          5,
          5,
          5.2,
          5.2,
          4.7,
          4.8,
          5.4,
          5.2,
          5.5,
          4.9,
          5,
          5.5,
          4.9,
          4.4,
          5.1,
          5,
          4.5,
          4.4,
          5,
          5.1,
          4.8,
          5.1,
          4.6,
          5.3,
          5
         ],
         "y": [
          3.5,
          3,
          3.2,
          3.1,
          3.6,
          3.9,
          3.4,
          3.4,
          2.9,
          3.1,
          3.7,
          3.4,
          3,
          3,
          4,
          4.4,
          3.9,
          3.5,
          3.8,
          3.8,
          3.4,
          3.7,
          3.6,
          3.3,
          3.4,
          3,
          3.4,
          3.5,
          3.4,
          3.2,
          3.1,
          3.4,
          4.1,
          4.2,
          3.1,
          3.2,
          3.5,
          3.1,
          3,
          3.4,
          3.5,
          2.3,
          3.2,
          3.5,
          3.8,
          3,
          3.8,
          3.2,
          3.7,
          3.3
         ]
        }
       ],
       "layout": {
        "title": "Sepal Length and Width",
        "xaxis": {
         "title": "Sepal Length"
        },
        "yaxis": {
         "title": "Sepal Width"
        }
       }
      },
      "text/html": [
       "<div id=\"df8c45bb-aa53-43c4-8527-ab6ed89ccddb\" style=\"height: 525px; width: 100%;\" class=\"plotly-graph-div\"></div><script type=\"text/javascript\">require([\"plotly\"], function(Plotly) { window.PLOTLYENV=window.PLOTLYENV || {};window.PLOTLYENV.BASE_URL=\"https://plot.ly\";Plotly.newPlot(\"df8c45bb-aa53-43c4-8527-ab6ed89ccddb\", [{\"name\": \"Iris-setosa\", \"x\": [5.1, 4.9, 4.7, 4.6, 5.0, 5.4, 4.6, 5.0, 4.4, 4.9, 5.4, 4.8, 4.8, 4.3, 5.8, 5.7, 5.4, 5.1, 5.7, 5.1, 5.4, 5.1, 4.6, 5.1, 4.8, 5.0, 5.0, 5.2, 5.2, 4.7, 4.8, 5.4, 5.2, 5.5, 4.9, 5.0, 5.5, 4.9, 4.4, 5.1, 5.0, 4.5, 4.4, 5.0, 5.1, 4.8, 5.1, 4.6, 5.3, 5.0], \"y\": [3.5, 3.0, 3.2, 3.1, 3.6, 3.9, 3.4, 3.4, 2.9, 3.1, 3.7, 3.4, 3.0, 3.0, 4.0, 4.4, 3.9, 3.5, 3.8, 3.8, 3.4, 3.7, 3.6, 3.3, 3.4, 3.0, 3.4, 3.5, 3.4, 3.2, 3.1, 3.4, 4.1, 4.2, 3.1, 3.2, 3.5, 3.1, 3.0, 3.4, 3.5, 2.3, 3.2, 3.5, 3.8, 3.0, 3.8, 3.2, 3.7, 3.3], \"type\": \"scatter\", \"uid\": \"000850c3-a43b-4dba-a21a-c592a56cd6bb\"}], {\"title\": \"Sepal Length and Width\", \"xaxis\": {\"title\": \"Sepal Length\"}, \"yaxis\": {\"title\": \"Sepal Width\"}}, {\"showLink\": true, \"linkText\": \"Export to plot.ly\", \"plotlyServerURL\": \"https://plot.ly\"})});</script><script type=\"text/javascript\">window.addEventListener(\"resize\", function(){window._Plotly.Plots.resize(document.getElementById(\"df8c45bb-aa53-43c4-8527-ab6ed89ccddb\"));});</script>"
      ],
      "text/vnd.plotly.v1+html": [
       "<div id=\"df8c45bb-aa53-43c4-8527-ab6ed89ccddb\" style=\"height: 525px; width: 100%;\" class=\"plotly-graph-div\"></div><script type=\"text/javascript\">require([\"plotly\"], function(Plotly) { window.PLOTLYENV=window.PLOTLYENV || {};window.PLOTLYENV.BASE_URL=\"https://plot.ly\";Plotly.newPlot(\"df8c45bb-aa53-43c4-8527-ab6ed89ccddb\", [{\"name\": \"Iris-setosa\", \"x\": [5.1, 4.9, 4.7, 4.6, 5.0, 5.4, 4.6, 5.0, 4.4, 4.9, 5.4, 4.8, 4.8, 4.3, 5.8, 5.7, 5.4, 5.1, 5.7, 5.1, 5.4, 5.1, 4.6, 5.1, 4.8, 5.0, 5.0, 5.2, 5.2, 4.7, 4.8, 5.4, 5.2, 5.5, 4.9, 5.0, 5.5, 4.9, 4.4, 5.1, 5.0, 4.5, 4.4, 5.0, 5.1, 4.8, 5.1, 4.6, 5.3, 5.0], \"y\": [3.5, 3.0, 3.2, 3.1, 3.6, 3.9, 3.4, 3.4, 2.9, 3.1, 3.7, 3.4, 3.0, 3.0, 4.0, 4.4, 3.9, 3.5, 3.8, 3.8, 3.4, 3.7, 3.6, 3.3, 3.4, 3.0, 3.4, 3.5, 3.4, 3.2, 3.1, 3.4, 4.1, 4.2, 3.1, 3.2, 3.5, 3.1, 3.0, 3.4, 3.5, 2.3, 3.2, 3.5, 3.8, 3.0, 3.8, 3.2, 3.7, 3.3], \"type\": \"scatter\", \"uid\": \"000850c3-a43b-4dba-a21a-c592a56cd6bb\"}], {\"title\": \"Sepal Length and Width\", \"xaxis\": {\"title\": \"Sepal Length\"}, \"yaxis\": {\"title\": \"Sepal Width\"}}, {\"showLink\": true, \"linkText\": \"Export to plot.ly\", \"plotlyServerURL\": \"https://plot.ly\"})});</script><script type=\"text/javascript\">window.addEventListener(\"resize\", function(){window._Plotly.Plots.resize(document.getElementById(\"df8c45bb-aa53-43c4-8527-ab6ed89ccddb\"));});</script>"
      ]
     },
     "metadata": {},
     "output_type": "display_data"
    }
   ],
   "source": [
    "pyo.iplot(fig)"
   ]
  },
  {
   "cell_type": "markdown",
   "metadata": {},
   "source": [
    "#### We need to specify the `mode` of the graph `markers`"
   ]
  },
  {
   "cell_type": "code",
   "execution_count": 12,
   "metadata": {},
   "outputs": [],
   "source": [
    "data = [\n",
    "    go.Scatter(\n",
    "        x=setosa['Sepal Length'],\n",
    "        y=setosa['Sepal Width'],\n",
    "        name='Iris-setosa',\n",
    "        mode='markers'\n",
    "    )\n",
    "]"
   ]
  },
  {
   "cell_type": "markdown",
   "metadata": {},
   "source": [
    "#### This next example shows why some arguments take dictionaries as inputs - it is because they can take multiple inputs"
   ]
  },
  {
   "cell_type": "code",
   "execution_count": 13,
   "metadata": {},
   "outputs": [],
   "source": [
    "layout = go.Layout(\n",
    "    title='Sepal Length and Width',\n",
    "    xaxis=dict(\n",
    "        title='Sepal Length',\n",
    "        dtick=0.1\n",
    "    ),\n",
    "    yaxis=dict(title='Sepal Width')\n",
    ")"
   ]
  },
  {
   "cell_type": "code",
   "execution_count": 14,
   "metadata": {},
   "outputs": [],
   "source": [
    "fig = go.Figure(data=data, layout=layout)"
   ]
  },
  {
   "cell_type": "code",
   "execution_count": 15,
   "metadata": {},
   "outputs": [
    {
     "data": {
      "application/vnd.plotly.v1+json": {
       "config": {
        "linkText": "Export to plot.ly",
        "plotlyServerURL": "https://plot.ly",
        "showLink": true
       },
       "data": [
        {
         "mode": "markers",
         "name": "Iris-setosa",
         "type": "scatter",
         "uid": "141c5673-dc15-4b13-9ae6-14e8b4fe9451",
         "x": [
          5.1,
          4.9,
          4.7,
          4.6,
          5,
          5.4,
          4.6,
          5,
          4.4,
          4.9,
          5.4,
          4.8,
          4.8,
          4.3,
          5.8,
          5.7,
          5.4,
          5.1,
          5.7,
          5.1,
          5.4,
          5.1,
          4.6,
          5.1,
          4.8,
          5,
          5,
          5.2,
          5.2,
          4.7,
          4.8,
          5.4,
          5.2,
          5.5,
          4.9,
          5,
          5.5,
          4.9,
          4.4,
          5.1,
          5,
          4.5,
          4.4,
          5,
          5.1,
          4.8,
          5.1,
          4.6,
          5.3,
          5
         ],
         "y": [
          3.5,
          3,
          3.2,
          3.1,
          3.6,
          3.9,
          3.4,
          3.4,
          2.9,
          3.1,
          3.7,
          3.4,
          3,
          3,
          4,
          4.4,
          3.9,
          3.5,
          3.8,
          3.8,
          3.4,
          3.7,
          3.6,
          3.3,
          3.4,
          3,
          3.4,
          3.5,
          3.4,
          3.2,
          3.1,
          3.4,
          4.1,
          4.2,
          3.1,
          3.2,
          3.5,
          3.1,
          3,
          3.4,
          3.5,
          2.3,
          3.2,
          3.5,
          3.8,
          3,
          3.8,
          3.2,
          3.7,
          3.3
         ]
        }
       ],
       "layout": {
        "title": "Sepal Length and Width",
        "xaxis": {
         "dtick": 0.1,
         "title": "Sepal Length"
        },
        "yaxis": {
         "title": "Sepal Width"
        }
       }
      },
      "text/html": [
       "<div id=\"094696d4-7df6-46c0-b727-dd77631902a4\" style=\"height: 525px; width: 100%;\" class=\"plotly-graph-div\"></div><script type=\"text/javascript\">require([\"plotly\"], function(Plotly) { window.PLOTLYENV=window.PLOTLYENV || {};window.PLOTLYENV.BASE_URL=\"https://plot.ly\";Plotly.newPlot(\"094696d4-7df6-46c0-b727-dd77631902a4\", [{\"mode\": \"markers\", \"name\": \"Iris-setosa\", \"x\": [5.1, 4.9, 4.7, 4.6, 5.0, 5.4, 4.6, 5.0, 4.4, 4.9, 5.4, 4.8, 4.8, 4.3, 5.8, 5.7, 5.4, 5.1, 5.7, 5.1, 5.4, 5.1, 4.6, 5.1, 4.8, 5.0, 5.0, 5.2, 5.2, 4.7, 4.8, 5.4, 5.2, 5.5, 4.9, 5.0, 5.5, 4.9, 4.4, 5.1, 5.0, 4.5, 4.4, 5.0, 5.1, 4.8, 5.1, 4.6, 5.3, 5.0], \"y\": [3.5, 3.0, 3.2, 3.1, 3.6, 3.9, 3.4, 3.4, 2.9, 3.1, 3.7, 3.4, 3.0, 3.0, 4.0, 4.4, 3.9, 3.5, 3.8, 3.8, 3.4, 3.7, 3.6, 3.3, 3.4, 3.0, 3.4, 3.5, 3.4, 3.2, 3.1, 3.4, 4.1, 4.2, 3.1, 3.2, 3.5, 3.1, 3.0, 3.4, 3.5, 2.3, 3.2, 3.5, 3.8, 3.0, 3.8, 3.2, 3.7, 3.3], \"type\": \"scatter\", \"uid\": \"141c5673-dc15-4b13-9ae6-14e8b4fe9451\"}], {\"title\": \"Sepal Length and Width\", \"xaxis\": {\"dtick\": 0.1, \"title\": \"Sepal Length\"}, \"yaxis\": {\"title\": \"Sepal Width\"}}, {\"showLink\": true, \"linkText\": \"Export to plot.ly\", \"plotlyServerURL\": \"https://plot.ly\"})});</script><script type=\"text/javascript\">window.addEventListener(\"resize\", function(){window._Plotly.Plots.resize(document.getElementById(\"094696d4-7df6-46c0-b727-dd77631902a4\"));});</script>"
      ],
      "text/vnd.plotly.v1+html": [
       "<div id=\"094696d4-7df6-46c0-b727-dd77631902a4\" style=\"height: 525px; width: 100%;\" class=\"plotly-graph-div\"></div><script type=\"text/javascript\">require([\"plotly\"], function(Plotly) { window.PLOTLYENV=window.PLOTLYENV || {};window.PLOTLYENV.BASE_URL=\"https://plot.ly\";Plotly.newPlot(\"094696d4-7df6-46c0-b727-dd77631902a4\", [{\"mode\": \"markers\", \"name\": \"Iris-setosa\", \"x\": [5.1, 4.9, 4.7, 4.6, 5.0, 5.4, 4.6, 5.0, 4.4, 4.9, 5.4, 4.8, 4.8, 4.3, 5.8, 5.7, 5.4, 5.1, 5.7, 5.1, 5.4, 5.1, 4.6, 5.1, 4.8, 5.0, 5.0, 5.2, 5.2, 4.7, 4.8, 5.4, 5.2, 5.5, 4.9, 5.0, 5.5, 4.9, 4.4, 5.1, 5.0, 4.5, 4.4, 5.0, 5.1, 4.8, 5.1, 4.6, 5.3, 5.0], \"y\": [3.5, 3.0, 3.2, 3.1, 3.6, 3.9, 3.4, 3.4, 2.9, 3.1, 3.7, 3.4, 3.0, 3.0, 4.0, 4.4, 3.9, 3.5, 3.8, 3.8, 3.4, 3.7, 3.6, 3.3, 3.4, 3.0, 3.4, 3.5, 3.4, 3.2, 3.1, 3.4, 4.1, 4.2, 3.1, 3.2, 3.5, 3.1, 3.0, 3.4, 3.5, 2.3, 3.2, 3.5, 3.8, 3.0, 3.8, 3.2, 3.7, 3.3], \"type\": \"scatter\", \"uid\": \"141c5673-dc15-4b13-9ae6-14e8b4fe9451\"}], {\"title\": \"Sepal Length and Width\", \"xaxis\": {\"dtick\": 0.1, \"title\": \"Sepal Length\"}, \"yaxis\": {\"title\": \"Sepal Width\"}}, {\"showLink\": true, \"linkText\": \"Export to plot.ly\", \"plotlyServerURL\": \"https://plot.ly\"})});</script><script type=\"text/javascript\">window.addEventListener(\"resize\", function(){window._Plotly.Plots.resize(document.getElementById(\"094696d4-7df6-46c0-b727-dd77631902a4\"));});</script>"
      ]
     },
     "metadata": {},
     "output_type": "display_data"
    }
   ],
   "source": [
    "pyo.iplot(fig)"
   ]
  },
  {
   "cell_type": "markdown",
   "metadata": {},
   "source": [
    "## Using styling of the markers\n",
    "\n",
    "Note the American spellings"
   ]
  },
  {
   "cell_type": "code",
   "execution_count": 16,
   "metadata": {},
   "outputs": [],
   "source": [
    "data = [\n",
    "    go.Scatter(\n",
    "        x=setosa['Sepal Length'],\n",
    "        y=setosa['Sepal Width'],\n",
    "        name='Iris-setosa',\n",
    "        mode='markers',\n",
    "        marker=dict(\n",
    "            size=12,\n",
    "            color='rgb(51,204,153)',\n",
    "            symbol='pentagon'\n",
    "        )\n",
    "    )\n",
    "]"
   ]
  },
  {
   "cell_type": "code",
   "execution_count": 17,
   "metadata": {},
   "outputs": [],
   "source": [
    "fig = go.Figure(data=data, layout=layout)"
   ]
  },
  {
   "cell_type": "code",
   "execution_count": 18,
   "metadata": {},
   "outputs": [
    {
     "data": {
      "application/vnd.plotly.v1+json": {
       "config": {
        "linkText": "Export to plot.ly",
        "plotlyServerURL": "https://plot.ly",
        "showLink": true
       },
       "data": [
        {
         "marker": {
          "color": "rgb(51,204,153)",
          "size": 12,
          "symbol": "pentagon"
         },
         "mode": "markers",
         "name": "Iris-setosa",
         "type": "scatter",
         "uid": "f28fcea0-07d4-463b-aa2d-e6dced0f26d9",
         "x": [
          5.1,
          4.9,
          4.7,
          4.6,
          5,
          5.4,
          4.6,
          5,
          4.4,
          4.9,
          5.4,
          4.8,
          4.8,
          4.3,
          5.8,
          5.7,
          5.4,
          5.1,
          5.7,
          5.1,
          5.4,
          5.1,
          4.6,
          5.1,
          4.8,
          5,
          5,
          5.2,
          5.2,
          4.7,
          4.8,
          5.4,
          5.2,
          5.5,
          4.9,
          5,
          5.5,
          4.9,
          4.4,
          5.1,
          5,
          4.5,
          4.4,
          5,
          5.1,
          4.8,
          5.1,
          4.6,
          5.3,
          5
         ],
         "y": [
          3.5,
          3,
          3.2,
          3.1,
          3.6,
          3.9,
          3.4,
          3.4,
          2.9,
          3.1,
          3.7,
          3.4,
          3,
          3,
          4,
          4.4,
          3.9,
          3.5,
          3.8,
          3.8,
          3.4,
          3.7,
          3.6,
          3.3,
          3.4,
          3,
          3.4,
          3.5,
          3.4,
          3.2,
          3.1,
          3.4,
          4.1,
          4.2,
          3.1,
          3.2,
          3.5,
          3.1,
          3,
          3.4,
          3.5,
          2.3,
          3.2,
          3.5,
          3.8,
          3,
          3.8,
          3.2,
          3.7,
          3.3
         ]
        }
       ],
       "layout": {
        "title": "Sepal Length and Width",
        "xaxis": {
         "dtick": 0.1,
         "title": "Sepal Length"
        },
        "yaxis": {
         "title": "Sepal Width"
        }
       }
      },
      "text/html": [
       "<div id=\"d7d628f2-e8a3-413c-a972-c1d3486aea99\" style=\"height: 525px; width: 100%;\" class=\"plotly-graph-div\"></div><script type=\"text/javascript\">require([\"plotly\"], function(Plotly) { window.PLOTLYENV=window.PLOTLYENV || {};window.PLOTLYENV.BASE_URL=\"https://plot.ly\";Plotly.newPlot(\"d7d628f2-e8a3-413c-a972-c1d3486aea99\", [{\"marker\": {\"color\": \"rgb(51,204,153)\", \"size\": 12, \"symbol\": \"pentagon\"}, \"mode\": \"markers\", \"name\": \"Iris-setosa\", \"x\": [5.1, 4.9, 4.7, 4.6, 5.0, 5.4, 4.6, 5.0, 4.4, 4.9, 5.4, 4.8, 4.8, 4.3, 5.8, 5.7, 5.4, 5.1, 5.7, 5.1, 5.4, 5.1, 4.6, 5.1, 4.8, 5.0, 5.0, 5.2, 5.2, 4.7, 4.8, 5.4, 5.2, 5.5, 4.9, 5.0, 5.5, 4.9, 4.4, 5.1, 5.0, 4.5, 4.4, 5.0, 5.1, 4.8, 5.1, 4.6, 5.3, 5.0], \"y\": [3.5, 3.0, 3.2, 3.1, 3.6, 3.9, 3.4, 3.4, 2.9, 3.1, 3.7, 3.4, 3.0, 3.0, 4.0, 4.4, 3.9, 3.5, 3.8, 3.8, 3.4, 3.7, 3.6, 3.3, 3.4, 3.0, 3.4, 3.5, 3.4, 3.2, 3.1, 3.4, 4.1, 4.2, 3.1, 3.2, 3.5, 3.1, 3.0, 3.4, 3.5, 2.3, 3.2, 3.5, 3.8, 3.0, 3.8, 3.2, 3.7, 3.3], \"type\": \"scatter\", \"uid\": \"f28fcea0-07d4-463b-aa2d-e6dced0f26d9\"}], {\"title\": \"Sepal Length and Width\", \"xaxis\": {\"dtick\": 0.1, \"title\": \"Sepal Length\"}, \"yaxis\": {\"title\": \"Sepal Width\"}}, {\"showLink\": true, \"linkText\": \"Export to plot.ly\", \"plotlyServerURL\": \"https://plot.ly\"})});</script><script type=\"text/javascript\">window.addEventListener(\"resize\", function(){window._Plotly.Plots.resize(document.getElementById(\"d7d628f2-e8a3-413c-a972-c1d3486aea99\"));});</script>"
      ],
      "text/vnd.plotly.v1+html": [
       "<div id=\"d7d628f2-e8a3-413c-a972-c1d3486aea99\" style=\"height: 525px; width: 100%;\" class=\"plotly-graph-div\"></div><script type=\"text/javascript\">require([\"plotly\"], function(Plotly) { window.PLOTLYENV=window.PLOTLYENV || {};window.PLOTLYENV.BASE_URL=\"https://plot.ly\";Plotly.newPlot(\"d7d628f2-e8a3-413c-a972-c1d3486aea99\", [{\"marker\": {\"color\": \"rgb(51,204,153)\", \"size\": 12, \"symbol\": \"pentagon\"}, \"mode\": \"markers\", \"name\": \"Iris-setosa\", \"x\": [5.1, 4.9, 4.7, 4.6, 5.0, 5.4, 4.6, 5.0, 4.4, 4.9, 5.4, 4.8, 4.8, 4.3, 5.8, 5.7, 5.4, 5.1, 5.7, 5.1, 5.4, 5.1, 4.6, 5.1, 4.8, 5.0, 5.0, 5.2, 5.2, 4.7, 4.8, 5.4, 5.2, 5.5, 4.9, 5.0, 5.5, 4.9, 4.4, 5.1, 5.0, 4.5, 4.4, 5.0, 5.1, 4.8, 5.1, 4.6, 5.3, 5.0], \"y\": [3.5, 3.0, 3.2, 3.1, 3.6, 3.9, 3.4, 3.4, 2.9, 3.1, 3.7, 3.4, 3.0, 3.0, 4.0, 4.4, 3.9, 3.5, 3.8, 3.8, 3.4, 3.7, 3.6, 3.3, 3.4, 3.0, 3.4, 3.5, 3.4, 3.2, 3.1, 3.4, 4.1, 4.2, 3.1, 3.2, 3.5, 3.1, 3.0, 3.4, 3.5, 2.3, 3.2, 3.5, 3.8, 3.0, 3.8, 3.2, 3.7, 3.3], \"type\": \"scatter\", \"uid\": \"f28fcea0-07d4-463b-aa2d-e6dced0f26d9\"}], {\"title\": \"Sepal Length and Width\", \"xaxis\": {\"dtick\": 0.1, \"title\": \"Sepal Length\"}, \"yaxis\": {\"title\": \"Sepal Width\"}}, {\"showLink\": true, \"linkText\": \"Export to plot.ly\", \"plotlyServerURL\": \"https://plot.ly\"})});</script><script type=\"text/javascript\">window.addEventListener(\"resize\", function(){window._Plotly.Plots.resize(document.getElementById(\"d7d628f2-e8a3-413c-a972-c1d3486aea99\"));});</script>"
      ]
     },
     "metadata": {},
     "output_type": "display_data"
    }
   ],
   "source": [
    "pyo.iplot(fig)"
   ]
  },
  {
   "cell_type": "markdown",
   "metadata": {},
   "source": [
    "#### Note that the inputs can be nested dictionaries - this example gets the line"
   ]
  },
  {
   "cell_type": "code",
   "execution_count": 19,
   "metadata": {},
   "outputs": [],
   "source": [
    "data = [\n",
    "    go.Scatter(\n",
    "        x=setosa['Sepal Length'],\n",
    "        y=setosa['Sepal Width'],\n",
    "        name='Iris-setosa',\n",
    "        mode='markers',\n",
    "        marker=dict(\n",
    "            size=12,\n",
    "            color='rgb(51,204,153)',\n",
    "            symbol='pentagon',\n",
    "            line=dict(\n",
    "                width=2\n",
    "            )\n",
    "        )\n",
    "    )\n",
    "]"
   ]
  },
  {
   "cell_type": "code",
   "execution_count": 20,
   "metadata": {},
   "outputs": [],
   "source": [
    "fig = go.Figure(data=data, layout=layout)"
   ]
  },
  {
   "cell_type": "code",
   "execution_count": 21,
   "metadata": {},
   "outputs": [
    {
     "data": {
      "application/vnd.plotly.v1+json": {
       "config": {
        "linkText": "Export to plot.ly",
        "plotlyServerURL": "https://plot.ly",
        "showLink": true
       },
       "data": [
        {
         "marker": {
          "color": "rgb(51,204,153)",
          "line": {
           "width": 2
          },
          "size": 12,
          "symbol": "pentagon"
         },
         "mode": "markers",
         "name": "Iris-setosa",
         "type": "scatter",
         "uid": "75800a88-fa1f-47c1-84c7-b2c437bde2c7",
         "x": [
          5.1,
          4.9,
          4.7,
          4.6,
          5,
          5.4,
          4.6,
          5,
          4.4,
          4.9,
          5.4,
          4.8,
          4.8,
          4.3,
          5.8,
          5.7,
          5.4,
          5.1,
          5.7,
          5.1,
          5.4,
          5.1,
          4.6,
          5.1,
          4.8,
          5,
          5,
          5.2,
          5.2,
          4.7,
          4.8,
          5.4,
          5.2,
          5.5,
          4.9,
          5,
          5.5,
          4.9,
          4.4,
          5.1,
          5,
          4.5,
          4.4,
          5,
          5.1,
          4.8,
          5.1,
          4.6,
          5.3,
          5
         ],
         "y": [
          3.5,
          3,
          3.2,
          3.1,
          3.6,
          3.9,
          3.4,
          3.4,
          2.9,
          3.1,
          3.7,
          3.4,
          3,
          3,
          4,
          4.4,
          3.9,
          3.5,
          3.8,
          3.8,
          3.4,
          3.7,
          3.6,
          3.3,
          3.4,
          3,
          3.4,
          3.5,
          3.4,
          3.2,
          3.1,
          3.4,
          4.1,
          4.2,
          3.1,
          3.2,
          3.5,
          3.1,
          3,
          3.4,
          3.5,
          2.3,
          3.2,
          3.5,
          3.8,
          3,
          3.8,
          3.2,
          3.7,
          3.3
         ]
        }
       ],
       "layout": {
        "title": "Sepal Length and Width",
        "xaxis": {
         "dtick": 0.1,
         "title": "Sepal Length"
        },
        "yaxis": {
         "title": "Sepal Width"
        }
       }
      },
      "text/html": [
       "<div id=\"7dcd2b18-b5c1-43d9-ab7c-df51699ffcda\" style=\"height: 525px; width: 100%;\" class=\"plotly-graph-div\"></div><script type=\"text/javascript\">require([\"plotly\"], function(Plotly) { window.PLOTLYENV=window.PLOTLYENV || {};window.PLOTLYENV.BASE_URL=\"https://plot.ly\";Plotly.newPlot(\"7dcd2b18-b5c1-43d9-ab7c-df51699ffcda\", [{\"marker\": {\"color\": \"rgb(51,204,153)\", \"line\": {\"width\": 2}, \"size\": 12, \"symbol\": \"pentagon\"}, \"mode\": \"markers\", \"name\": \"Iris-setosa\", \"x\": [5.1, 4.9, 4.7, 4.6, 5.0, 5.4, 4.6, 5.0, 4.4, 4.9, 5.4, 4.8, 4.8, 4.3, 5.8, 5.7, 5.4, 5.1, 5.7, 5.1, 5.4, 5.1, 4.6, 5.1, 4.8, 5.0, 5.0, 5.2, 5.2, 4.7, 4.8, 5.4, 5.2, 5.5, 4.9, 5.0, 5.5, 4.9, 4.4, 5.1, 5.0, 4.5, 4.4, 5.0, 5.1, 4.8, 5.1, 4.6, 5.3, 5.0], \"y\": [3.5, 3.0, 3.2, 3.1, 3.6, 3.9, 3.4, 3.4, 2.9, 3.1, 3.7, 3.4, 3.0, 3.0, 4.0, 4.4, 3.9, 3.5, 3.8, 3.8, 3.4, 3.7, 3.6, 3.3, 3.4, 3.0, 3.4, 3.5, 3.4, 3.2, 3.1, 3.4, 4.1, 4.2, 3.1, 3.2, 3.5, 3.1, 3.0, 3.4, 3.5, 2.3, 3.2, 3.5, 3.8, 3.0, 3.8, 3.2, 3.7, 3.3], \"type\": \"scatter\", \"uid\": \"75800a88-fa1f-47c1-84c7-b2c437bde2c7\"}], {\"title\": \"Sepal Length and Width\", \"xaxis\": {\"dtick\": 0.1, \"title\": \"Sepal Length\"}, \"yaxis\": {\"title\": \"Sepal Width\"}}, {\"showLink\": true, \"linkText\": \"Export to plot.ly\", \"plotlyServerURL\": \"https://plot.ly\"})});</script><script type=\"text/javascript\">window.addEventListener(\"resize\", function(){window._Plotly.Plots.resize(document.getElementById(\"7dcd2b18-b5c1-43d9-ab7c-df51699ffcda\"));});</script>"
      ],
      "text/vnd.plotly.v1+html": [
       "<div id=\"7dcd2b18-b5c1-43d9-ab7c-df51699ffcda\" style=\"height: 525px; width: 100%;\" class=\"plotly-graph-div\"></div><script type=\"text/javascript\">require([\"plotly\"], function(Plotly) { window.PLOTLYENV=window.PLOTLYENV || {};window.PLOTLYENV.BASE_URL=\"https://plot.ly\";Plotly.newPlot(\"7dcd2b18-b5c1-43d9-ab7c-df51699ffcda\", [{\"marker\": {\"color\": \"rgb(51,204,153)\", \"line\": {\"width\": 2}, \"size\": 12, \"symbol\": \"pentagon\"}, \"mode\": \"markers\", \"name\": \"Iris-setosa\", \"x\": [5.1, 4.9, 4.7, 4.6, 5.0, 5.4, 4.6, 5.0, 4.4, 4.9, 5.4, 4.8, 4.8, 4.3, 5.8, 5.7, 5.4, 5.1, 5.7, 5.1, 5.4, 5.1, 4.6, 5.1, 4.8, 5.0, 5.0, 5.2, 5.2, 4.7, 4.8, 5.4, 5.2, 5.5, 4.9, 5.0, 5.5, 4.9, 4.4, 5.1, 5.0, 4.5, 4.4, 5.0, 5.1, 4.8, 5.1, 4.6, 5.3, 5.0], \"y\": [3.5, 3.0, 3.2, 3.1, 3.6, 3.9, 3.4, 3.4, 2.9, 3.1, 3.7, 3.4, 3.0, 3.0, 4.0, 4.4, 3.9, 3.5, 3.8, 3.8, 3.4, 3.7, 3.6, 3.3, 3.4, 3.0, 3.4, 3.5, 3.4, 3.2, 3.1, 3.4, 4.1, 4.2, 3.1, 3.2, 3.5, 3.1, 3.0, 3.4, 3.5, 2.3, 3.2, 3.5, 3.8, 3.0, 3.8, 3.2, 3.7, 3.3], \"type\": \"scatter\", \"uid\": \"75800a88-fa1f-47c1-84c7-b2c437bde2c7\"}], {\"title\": \"Sepal Length and Width\", \"xaxis\": {\"dtick\": 0.1, \"title\": \"Sepal Length\"}, \"yaxis\": {\"title\": \"Sepal Width\"}}, {\"showLink\": true, \"linkText\": \"Export to plot.ly\", \"plotlyServerURL\": \"https://plot.ly\"})});</script><script type=\"text/javascript\">window.addEventListener(\"resize\", function(){window._Plotly.Plots.resize(document.getElementById(\"7dcd2b18-b5c1-43d9-ab7c-df51699ffcda\"));});</script>"
      ]
     },
     "metadata": {},
     "output_type": "display_data"
    }
   ],
   "source": [
    "pyo.iplot(fig)"
   ]
  },
  {
   "cell_type": "markdown",
   "metadata": {},
   "source": [
    "## Note how the hover information is not functioning optionally\n",
    "\n",
    "By setting the `hovermode` to `'closest'` in the the `Layout` changes the behaviour of this"
   ]
  },
  {
   "cell_type": "code",
   "execution_count": 22,
   "metadata": {},
   "outputs": [],
   "source": [
    "layout = go.Layout(\n",
    "    title='Sepal Length and Width',\n",
    "    xaxis=dict(title='Sepal Length'),\n",
    "    yaxis=dict(title='Sepal Width'),\n",
    "    hovermode='closest'\n",
    ")"
   ]
  },
  {
   "cell_type": "code",
   "execution_count": 23,
   "metadata": {},
   "outputs": [],
   "source": [
    "fig = go.Figure(data=data, layout=layout)"
   ]
  },
  {
   "cell_type": "code",
   "execution_count": 24,
   "metadata": {},
   "outputs": [
    {
     "data": {
      "application/vnd.plotly.v1+json": {
       "config": {
        "linkText": "Export to plot.ly",
        "plotlyServerURL": "https://plot.ly",
        "showLink": true
       },
       "data": [
        {
         "marker": {
          "color": "rgb(51,204,153)",
          "line": {
           "width": 2
          },
          "size": 12,
          "symbol": "pentagon"
         },
         "mode": "markers",
         "name": "Iris-setosa",
         "type": "scatter",
         "uid": "df1db256-3fbb-437f-ab37-2075c24bde36",
         "x": [
          5.1,
          4.9,
          4.7,
          4.6,
          5,
          5.4,
          4.6,
          5,
          4.4,
          4.9,
          5.4,
          4.8,
          4.8,
          4.3,
          5.8,
          5.7,
          5.4,
          5.1,
          5.7,
          5.1,
          5.4,
          5.1,
          4.6,
          5.1,
          4.8,
          5,
          5,
          5.2,
          5.2,
          4.7,
          4.8,
          5.4,
          5.2,
          5.5,
          4.9,
          5,
          5.5,
          4.9,
          4.4,
          5.1,
          5,
          4.5,
          4.4,
          5,
          5.1,
          4.8,
          5.1,
          4.6,
          5.3,
          5
         ],
         "y": [
          3.5,
          3,
          3.2,
          3.1,
          3.6,
          3.9,
          3.4,
          3.4,
          2.9,
          3.1,
          3.7,
          3.4,
          3,
          3,
          4,
          4.4,
          3.9,
          3.5,
          3.8,
          3.8,
          3.4,
          3.7,
          3.6,
          3.3,
          3.4,
          3,
          3.4,
          3.5,
          3.4,
          3.2,
          3.1,
          3.4,
          4.1,
          4.2,
          3.1,
          3.2,
          3.5,
          3.1,
          3,
          3.4,
          3.5,
          2.3,
          3.2,
          3.5,
          3.8,
          3,
          3.8,
          3.2,
          3.7,
          3.3
         ]
        }
       ],
       "layout": {
        "hovermode": "closest",
        "title": "Sepal Length and Width",
        "xaxis": {
         "title": "Sepal Length"
        },
        "yaxis": {
         "title": "Sepal Width"
        }
       }
      },
      "text/html": [
       "<div id=\"53bdf6e5-f8c6-4587-9de7-fe8530279f48\" style=\"height: 525px; width: 100%;\" class=\"plotly-graph-div\"></div><script type=\"text/javascript\">require([\"plotly\"], function(Plotly) { window.PLOTLYENV=window.PLOTLYENV || {};window.PLOTLYENV.BASE_URL=\"https://plot.ly\";Plotly.newPlot(\"53bdf6e5-f8c6-4587-9de7-fe8530279f48\", [{\"marker\": {\"color\": \"rgb(51,204,153)\", \"line\": {\"width\": 2}, \"size\": 12, \"symbol\": \"pentagon\"}, \"mode\": \"markers\", \"name\": \"Iris-setosa\", \"x\": [5.1, 4.9, 4.7, 4.6, 5.0, 5.4, 4.6, 5.0, 4.4, 4.9, 5.4, 4.8, 4.8, 4.3, 5.8, 5.7, 5.4, 5.1, 5.7, 5.1, 5.4, 5.1, 4.6, 5.1, 4.8, 5.0, 5.0, 5.2, 5.2, 4.7, 4.8, 5.4, 5.2, 5.5, 4.9, 5.0, 5.5, 4.9, 4.4, 5.1, 5.0, 4.5, 4.4, 5.0, 5.1, 4.8, 5.1, 4.6, 5.3, 5.0], \"y\": [3.5, 3.0, 3.2, 3.1, 3.6, 3.9, 3.4, 3.4, 2.9, 3.1, 3.7, 3.4, 3.0, 3.0, 4.0, 4.4, 3.9, 3.5, 3.8, 3.8, 3.4, 3.7, 3.6, 3.3, 3.4, 3.0, 3.4, 3.5, 3.4, 3.2, 3.1, 3.4, 4.1, 4.2, 3.1, 3.2, 3.5, 3.1, 3.0, 3.4, 3.5, 2.3, 3.2, 3.5, 3.8, 3.0, 3.8, 3.2, 3.7, 3.3], \"type\": \"scatter\", \"uid\": \"df1db256-3fbb-437f-ab37-2075c24bde36\"}], {\"hovermode\": \"closest\", \"title\": \"Sepal Length and Width\", \"xaxis\": {\"title\": \"Sepal Length\"}, \"yaxis\": {\"title\": \"Sepal Width\"}}, {\"showLink\": true, \"linkText\": \"Export to plot.ly\", \"plotlyServerURL\": \"https://plot.ly\"})});</script><script type=\"text/javascript\">window.addEventListener(\"resize\", function(){window._Plotly.Plots.resize(document.getElementById(\"53bdf6e5-f8c6-4587-9de7-fe8530279f48\"));});</script>"
      ],
      "text/vnd.plotly.v1+html": [
       "<div id=\"53bdf6e5-f8c6-4587-9de7-fe8530279f48\" style=\"height: 525px; width: 100%;\" class=\"plotly-graph-div\"></div><script type=\"text/javascript\">require([\"plotly\"], function(Plotly) { window.PLOTLYENV=window.PLOTLYENV || {};window.PLOTLYENV.BASE_URL=\"https://plot.ly\";Plotly.newPlot(\"53bdf6e5-f8c6-4587-9de7-fe8530279f48\", [{\"marker\": {\"color\": \"rgb(51,204,153)\", \"line\": {\"width\": 2}, \"size\": 12, \"symbol\": \"pentagon\"}, \"mode\": \"markers\", \"name\": \"Iris-setosa\", \"x\": [5.1, 4.9, 4.7, 4.6, 5.0, 5.4, 4.6, 5.0, 4.4, 4.9, 5.4, 4.8, 4.8, 4.3, 5.8, 5.7, 5.4, 5.1, 5.7, 5.1, 5.4, 5.1, 4.6, 5.1, 4.8, 5.0, 5.0, 5.2, 5.2, 4.7, 4.8, 5.4, 5.2, 5.5, 4.9, 5.0, 5.5, 4.9, 4.4, 5.1, 5.0, 4.5, 4.4, 5.0, 5.1, 4.8, 5.1, 4.6, 5.3, 5.0], \"y\": [3.5, 3.0, 3.2, 3.1, 3.6, 3.9, 3.4, 3.4, 2.9, 3.1, 3.7, 3.4, 3.0, 3.0, 4.0, 4.4, 3.9, 3.5, 3.8, 3.8, 3.4, 3.7, 3.6, 3.3, 3.4, 3.0, 3.4, 3.5, 3.4, 3.2, 3.1, 3.4, 4.1, 4.2, 3.1, 3.2, 3.5, 3.1, 3.0, 3.4, 3.5, 2.3, 3.2, 3.5, 3.8, 3.0, 3.8, 3.2, 3.7, 3.3], \"type\": \"scatter\", \"uid\": \"df1db256-3fbb-437f-ab37-2075c24bde36\"}], {\"hovermode\": \"closest\", \"title\": \"Sepal Length and Width\", \"xaxis\": {\"title\": \"Sepal Length\"}, \"yaxis\": {\"title\": \"Sepal Width\"}}, {\"showLink\": true, \"linkText\": \"Export to plot.ly\", \"plotlyServerURL\": \"https://plot.ly\"})});</script><script type=\"text/javascript\">window.addEventListener(\"resize\", function(){window._Plotly.Plots.resize(document.getElementById(\"53bdf6e5-f8c6-4587-9de7-fe8530279f48\"));});</script>"
      ]
     },
     "metadata": {},
     "output_type": "display_data"
    }
   ],
   "source": [
    "pyo.iplot(fig)"
   ]
  },
  {
   "cell_type": "markdown",
   "metadata": {},
   "source": [
    "# Now looking at all of the 3 plants on the graph"
   ]
  },
  {
   "cell_type": "code",
   "execution_count": 25,
   "metadata": {},
   "outputs": [
    {
     "data": {
      "text/plain": [
       "array(['Iris-setosa', 'Iris-versicolor', 'Iris-virginica'], dtype=object)"
      ]
     },
     "execution_count": 25,
     "metadata": {},
     "output_type": "execute_result"
    }
   ],
   "source": [
    "iris_plants = iris['Flower'].unique()\n",
    "iris_plants"
   ]
  },
  {
   "cell_type": "markdown",
   "metadata": {},
   "source": [
    "#### A quick reminder of how Python list-comprehensions work - this will be used for viewing multiple categories"
   ]
  },
  {
   "cell_type": "code",
   "execution_count": 26,
   "metadata": {},
   "outputs": [
    {
     "data": {
      "text/plain": [
       "['This plant is Iris-setosa',\n",
       " 'This plant is Iris-versicolor',\n",
       " 'This plant is Iris-virginica']"
      ]
     },
     "execution_count": 26,
     "metadata": {},
     "output_type": "execute_result"
    }
   ],
   "source": [
    "['This plant is {}'.format(x) for x in iris_plants]"
   ]
  },
  {
   "cell_type": "code",
   "execution_count": 27,
   "metadata": {},
   "outputs": [],
   "source": [
    "data = [\n",
    "    go.Scatter(\n",
    "        x=iris.loc[iris['Flower'] == name]['Sepal Length'],\n",
    "        y=iris.loc[iris['Flower'] == name]['Sepal Width'],\n",
    "        mode='markers',\n",
    "        name=name\n",
    "    ) for name in iris_plants\n",
    "]"
   ]
  },
  {
   "cell_type": "markdown",
   "metadata": {},
   "source": [
    "#### We can use the same layout from before"
   ]
  },
  {
   "cell_type": "code",
   "execution_count": 28,
   "metadata": {},
   "outputs": [],
   "source": [
    "fig = go.Figure(data=data, layout=layout)"
   ]
  },
  {
   "cell_type": "markdown",
   "metadata": {},
   "source": [
    "#### Note that we can use the legend in an interactive manner\n",
    "\n",
    "Click on the values in the legend to isolate out the different groups"
   ]
  },
  {
   "cell_type": "code",
   "execution_count": 29,
   "metadata": {},
   "outputs": [
    {
     "data": {
      "application/vnd.plotly.v1+json": {
       "config": {
        "linkText": "Export to plot.ly",
        "plotlyServerURL": "https://plot.ly",
        "showLink": true
       },
       "data": [
        {
         "mode": "markers",
         "name": "Iris-setosa",
         "type": "scatter",
         "uid": "d3ffedb7-2343-4975-993d-8684c9a2da60",
         "x": [
          5.1,
          4.9,
          4.7,
          4.6,
          5,
          5.4,
          4.6,
          5,
          4.4,
          4.9,
          5.4,
          4.8,
          4.8,
          4.3,
          5.8,
          5.7,
          5.4,
          5.1,
          5.7,
          5.1,
          5.4,
          5.1,
          4.6,
          5.1,
          4.8,
          5,
          5,
          5.2,
          5.2,
          4.7,
          4.8,
          5.4,
          5.2,
          5.5,
          4.9,
          5,
          5.5,
          4.9,
          4.4,
          5.1,
          5,
          4.5,
          4.4,
          5,
          5.1,
          4.8,
          5.1,
          4.6,
          5.3,
          5
         ],
         "y": [
          3.5,
          3,
          3.2,
          3.1,
          3.6,
          3.9,
          3.4,
          3.4,
          2.9,
          3.1,
          3.7,
          3.4,
          3,
          3,
          4,
          4.4,
          3.9,
          3.5,
          3.8,
          3.8,
          3.4,
          3.7,
          3.6,
          3.3,
          3.4,
          3,
          3.4,
          3.5,
          3.4,
          3.2,
          3.1,
          3.4,
          4.1,
          4.2,
          3.1,
          3.2,
          3.5,
          3.1,
          3,
          3.4,
          3.5,
          2.3,
          3.2,
          3.5,
          3.8,
          3,
          3.8,
          3.2,
          3.7,
          3.3
         ]
        },
        {
         "mode": "markers",
         "name": "Iris-versicolor",
         "type": "scatter",
         "uid": "80789a07-0fb0-4604-b0d4-c2289f7cb4dc",
         "x": [
          7,
          6.4,
          6.9,
          5.5,
          6.5,
          5.7,
          6.3,
          4.9,
          6.6,
          5.2,
          5,
          5.9,
          6,
          6.1,
          5.6,
          6.7,
          5.6,
          5.8,
          6.2,
          5.6,
          5.9,
          6.1,
          6.3,
          6.1,
          6.4,
          6.6,
          6.8,
          6.7,
          6,
          5.7,
          5.5,
          5.5,
          5.8,
          6,
          5.4,
          6,
          6.7,
          6.3,
          5.6,
          5.5,
          5.5,
          6.1,
          5.8,
          5,
          5.6,
          5.7,
          5.7,
          6.2,
          5.1,
          5.7
         ],
         "y": [
          3.2,
          3.2,
          3.1,
          2.3,
          2.8,
          2.8,
          3.3,
          2.4,
          2.9,
          2.7,
          2,
          3,
          2.2,
          2.9,
          2.9,
          3.1,
          3,
          2.7,
          2.2,
          2.5,
          3.2,
          2.8,
          2.5,
          2.8,
          2.9,
          3,
          2.8,
          3,
          2.9,
          2.6,
          2.4,
          2.4,
          2.7,
          2.7,
          3,
          3.4,
          3.1,
          2.3,
          3,
          2.5,
          2.6,
          3,
          2.6,
          2.3,
          2.7,
          3,
          2.9,
          2.9,
          2.5,
          2.8
         ]
        },
        {
         "mode": "markers",
         "name": "Iris-virginica",
         "type": "scatter",
         "uid": "d9710bcd-944d-4ebd-93a2-7b3646b060a9",
         "x": [
          6.3,
          5.8,
          7.1,
          6.3,
          6.5,
          7.6,
          4.9,
          7.3,
          6.7,
          7.2,
          6.5,
          6.4,
          6.8,
          5.7,
          5.8,
          6.4,
          6.5,
          7.7,
          7.7,
          6,
          6.9,
          5.6,
          7.7,
          6.3,
          6.7,
          7.2,
          6.2,
          6.1,
          6.4,
          7.2,
          7.4,
          7.9,
          6.4,
          6.3,
          6.1,
          7.7,
          6.3,
          6.4,
          6,
          6.9,
          6.7,
          6.9,
          5.8,
          6.8,
          6.7,
          6.7,
          6.3,
          6.5,
          6.2,
          5.9
         ],
         "y": [
          3.3,
          2.7,
          3,
          2.9,
          3,
          3,
          2.5,
          2.9,
          2.5,
          3.6,
          3.2,
          2.7,
          3,
          2.5,
          2.8,
          3.2,
          3,
          3.8,
          2.6,
          2.2,
          3.2,
          2.8,
          2.8,
          2.7,
          3.3,
          3.2,
          2.8,
          3,
          2.8,
          3,
          2.8,
          3.8,
          2.8,
          2.8,
          2.6,
          3,
          3.4,
          3.1,
          3,
          3.1,
          3.1,
          3.1,
          2.7,
          3.2,
          3.3,
          3,
          2.5,
          3,
          3.4,
          3
         ]
        }
       ],
       "layout": {
        "hovermode": "closest",
        "title": "Sepal Length and Width",
        "xaxis": {
         "title": "Sepal Length"
        },
        "yaxis": {
         "title": "Sepal Width"
        }
       }
      },
      "text/html": [
       "<div id=\"dbfeb9d2-0696-4f18-9836-bfa59ae775cb\" style=\"height: 525px; width: 100%;\" class=\"plotly-graph-div\"></div><script type=\"text/javascript\">require([\"plotly\"], function(Plotly) { window.PLOTLYENV=window.PLOTLYENV || {};window.PLOTLYENV.BASE_URL=\"https://plot.ly\";Plotly.newPlot(\"dbfeb9d2-0696-4f18-9836-bfa59ae775cb\", [{\"mode\": \"markers\", \"name\": \"Iris-setosa\", \"x\": [5.1, 4.9, 4.7, 4.6, 5.0, 5.4, 4.6, 5.0, 4.4, 4.9, 5.4, 4.8, 4.8, 4.3, 5.8, 5.7, 5.4, 5.1, 5.7, 5.1, 5.4, 5.1, 4.6, 5.1, 4.8, 5.0, 5.0, 5.2, 5.2, 4.7, 4.8, 5.4, 5.2, 5.5, 4.9, 5.0, 5.5, 4.9, 4.4, 5.1, 5.0, 4.5, 4.4, 5.0, 5.1, 4.8, 5.1, 4.6, 5.3, 5.0], \"y\": [3.5, 3.0, 3.2, 3.1, 3.6, 3.9, 3.4, 3.4, 2.9, 3.1, 3.7, 3.4, 3.0, 3.0, 4.0, 4.4, 3.9, 3.5, 3.8, 3.8, 3.4, 3.7, 3.6, 3.3, 3.4, 3.0, 3.4, 3.5, 3.4, 3.2, 3.1, 3.4, 4.1, 4.2, 3.1, 3.2, 3.5, 3.1, 3.0, 3.4, 3.5, 2.3, 3.2, 3.5, 3.8, 3.0, 3.8, 3.2, 3.7, 3.3], \"type\": \"scatter\", \"uid\": \"d3ffedb7-2343-4975-993d-8684c9a2da60\"}, {\"mode\": \"markers\", \"name\": \"Iris-versicolor\", \"x\": [7.0, 6.4, 6.9, 5.5, 6.5, 5.7, 6.3, 4.9, 6.6, 5.2, 5.0, 5.9, 6.0, 6.1, 5.6, 6.7, 5.6, 5.8, 6.2, 5.6, 5.9, 6.1, 6.3, 6.1, 6.4, 6.6, 6.8, 6.7, 6.0, 5.7, 5.5, 5.5, 5.8, 6.0, 5.4, 6.0, 6.7, 6.3, 5.6, 5.5, 5.5, 6.1, 5.8, 5.0, 5.6, 5.7, 5.7, 6.2, 5.1, 5.7], \"y\": [3.2, 3.2, 3.1, 2.3, 2.8, 2.8, 3.3, 2.4, 2.9, 2.7, 2.0, 3.0, 2.2, 2.9, 2.9, 3.1, 3.0, 2.7, 2.2, 2.5, 3.2, 2.8, 2.5, 2.8, 2.9, 3.0, 2.8, 3.0, 2.9, 2.6, 2.4, 2.4, 2.7, 2.7, 3.0, 3.4, 3.1, 2.3, 3.0, 2.5, 2.6, 3.0, 2.6, 2.3, 2.7, 3.0, 2.9, 2.9, 2.5, 2.8], \"type\": \"scatter\", \"uid\": \"80789a07-0fb0-4604-b0d4-c2289f7cb4dc\"}, {\"mode\": \"markers\", \"name\": \"Iris-virginica\", \"x\": [6.3, 5.8, 7.1, 6.3, 6.5, 7.6, 4.9, 7.3, 6.7, 7.2, 6.5, 6.4, 6.8, 5.7, 5.8, 6.4, 6.5, 7.7, 7.7, 6.0, 6.9, 5.6, 7.7, 6.3, 6.7, 7.2, 6.2, 6.1, 6.4, 7.2, 7.4, 7.9, 6.4, 6.3, 6.1, 7.7, 6.3, 6.4, 6.0, 6.9, 6.7, 6.9, 5.8, 6.8, 6.7, 6.7, 6.3, 6.5, 6.2, 5.9], \"y\": [3.3, 2.7, 3.0, 2.9, 3.0, 3.0, 2.5, 2.9, 2.5, 3.6, 3.2, 2.7, 3.0, 2.5, 2.8, 3.2, 3.0, 3.8, 2.6, 2.2, 3.2, 2.8, 2.8, 2.7, 3.3, 3.2, 2.8, 3.0, 2.8, 3.0, 2.8, 3.8, 2.8, 2.8, 2.6, 3.0, 3.4, 3.1, 3.0, 3.1, 3.1, 3.1, 2.7, 3.2, 3.3, 3.0, 2.5, 3.0, 3.4, 3.0], \"type\": \"scatter\", \"uid\": \"d9710bcd-944d-4ebd-93a2-7b3646b060a9\"}], {\"hovermode\": \"closest\", \"title\": \"Sepal Length and Width\", \"xaxis\": {\"title\": \"Sepal Length\"}, \"yaxis\": {\"title\": \"Sepal Width\"}}, {\"showLink\": true, \"linkText\": \"Export to plot.ly\", \"plotlyServerURL\": \"https://plot.ly\"})});</script><script type=\"text/javascript\">window.addEventListener(\"resize\", function(){window._Plotly.Plots.resize(document.getElementById(\"dbfeb9d2-0696-4f18-9836-bfa59ae775cb\"));});</script>"
      ],
      "text/vnd.plotly.v1+html": [
       "<div id=\"dbfeb9d2-0696-4f18-9836-bfa59ae775cb\" style=\"height: 525px; width: 100%;\" class=\"plotly-graph-div\"></div><script type=\"text/javascript\">require([\"plotly\"], function(Plotly) { window.PLOTLYENV=window.PLOTLYENV || {};window.PLOTLYENV.BASE_URL=\"https://plot.ly\";Plotly.newPlot(\"dbfeb9d2-0696-4f18-9836-bfa59ae775cb\", [{\"mode\": \"markers\", \"name\": \"Iris-setosa\", \"x\": [5.1, 4.9, 4.7, 4.6, 5.0, 5.4, 4.6, 5.0, 4.4, 4.9, 5.4, 4.8, 4.8, 4.3, 5.8, 5.7, 5.4, 5.1, 5.7, 5.1, 5.4, 5.1, 4.6, 5.1, 4.8, 5.0, 5.0, 5.2, 5.2, 4.7, 4.8, 5.4, 5.2, 5.5, 4.9, 5.0, 5.5, 4.9, 4.4, 5.1, 5.0, 4.5, 4.4, 5.0, 5.1, 4.8, 5.1, 4.6, 5.3, 5.0], \"y\": [3.5, 3.0, 3.2, 3.1, 3.6, 3.9, 3.4, 3.4, 2.9, 3.1, 3.7, 3.4, 3.0, 3.0, 4.0, 4.4, 3.9, 3.5, 3.8, 3.8, 3.4, 3.7, 3.6, 3.3, 3.4, 3.0, 3.4, 3.5, 3.4, 3.2, 3.1, 3.4, 4.1, 4.2, 3.1, 3.2, 3.5, 3.1, 3.0, 3.4, 3.5, 2.3, 3.2, 3.5, 3.8, 3.0, 3.8, 3.2, 3.7, 3.3], \"type\": \"scatter\", \"uid\": \"d3ffedb7-2343-4975-993d-8684c9a2da60\"}, {\"mode\": \"markers\", \"name\": \"Iris-versicolor\", \"x\": [7.0, 6.4, 6.9, 5.5, 6.5, 5.7, 6.3, 4.9, 6.6, 5.2, 5.0, 5.9, 6.0, 6.1, 5.6, 6.7, 5.6, 5.8, 6.2, 5.6, 5.9, 6.1, 6.3, 6.1, 6.4, 6.6, 6.8, 6.7, 6.0, 5.7, 5.5, 5.5, 5.8, 6.0, 5.4, 6.0, 6.7, 6.3, 5.6, 5.5, 5.5, 6.1, 5.8, 5.0, 5.6, 5.7, 5.7, 6.2, 5.1, 5.7], \"y\": [3.2, 3.2, 3.1, 2.3, 2.8, 2.8, 3.3, 2.4, 2.9, 2.7, 2.0, 3.0, 2.2, 2.9, 2.9, 3.1, 3.0, 2.7, 2.2, 2.5, 3.2, 2.8, 2.5, 2.8, 2.9, 3.0, 2.8, 3.0, 2.9, 2.6, 2.4, 2.4, 2.7, 2.7, 3.0, 3.4, 3.1, 2.3, 3.0, 2.5, 2.6, 3.0, 2.6, 2.3, 2.7, 3.0, 2.9, 2.9, 2.5, 2.8], \"type\": \"scatter\", \"uid\": \"80789a07-0fb0-4604-b0d4-c2289f7cb4dc\"}, {\"mode\": \"markers\", \"name\": \"Iris-virginica\", \"x\": [6.3, 5.8, 7.1, 6.3, 6.5, 7.6, 4.9, 7.3, 6.7, 7.2, 6.5, 6.4, 6.8, 5.7, 5.8, 6.4, 6.5, 7.7, 7.7, 6.0, 6.9, 5.6, 7.7, 6.3, 6.7, 7.2, 6.2, 6.1, 6.4, 7.2, 7.4, 7.9, 6.4, 6.3, 6.1, 7.7, 6.3, 6.4, 6.0, 6.9, 6.7, 6.9, 5.8, 6.8, 6.7, 6.7, 6.3, 6.5, 6.2, 5.9], \"y\": [3.3, 2.7, 3.0, 2.9, 3.0, 3.0, 2.5, 2.9, 2.5, 3.6, 3.2, 2.7, 3.0, 2.5, 2.8, 3.2, 3.0, 3.8, 2.6, 2.2, 3.2, 2.8, 2.8, 2.7, 3.3, 3.2, 2.8, 3.0, 2.8, 3.0, 2.8, 3.8, 2.8, 2.8, 2.6, 3.0, 3.4, 3.1, 3.0, 3.1, 3.1, 3.1, 2.7, 3.2, 3.3, 3.0, 2.5, 3.0, 3.4, 3.0], \"type\": \"scatter\", \"uid\": \"d9710bcd-944d-4ebd-93a2-7b3646b060a9\"}], {\"hovermode\": \"closest\", \"title\": \"Sepal Length and Width\", \"xaxis\": {\"title\": \"Sepal Length\"}, \"yaxis\": {\"title\": \"Sepal Width\"}}, {\"showLink\": true, \"linkText\": \"Export to plot.ly\", \"plotlyServerURL\": \"https://plot.ly\"})});</script><script type=\"text/javascript\">window.addEventListener(\"resize\", function(){window._Plotly.Plots.resize(document.getElementById(\"dbfeb9d2-0696-4f18-9836-bfa59ae775cb\"));});</script>"
      ]
     },
     "metadata": {},
     "output_type": "display_data"
    }
   ],
   "source": [
    "pyo.iplot(fig)"
   ]
  },
  {
   "cell_type": "markdown",
   "metadata": {},
   "source": [
    "#### Even more information can be provided to the graph\n",
    "\n",
    "In this case, we can change the information of the hover message. But this is soon getting quite involved."
   ]
  },
  {
   "cell_type": "code",
   "execution_count": 30,
   "metadata": {},
   "outputs": [],
   "source": [
    "data = [\n",
    "    go.Scatter(\n",
    "        x=iris.loc[iris['Flower'] == name]['Sepal Length'],\n",
    "        y=iris.loc[iris['Flower'] == name]['Sepal Width'],\n",
    "        mode='markers',\n",
    "        text=[\n",
    "            'x={}, y={}, Flower={}'\\\n",
    "                .format(x[1]['Sepal Length'],\n",
    "                x[1]['Sepal Width'],\n",
    "                x[1]['Flower']) for x in iris.loc[iris['Flower'] == name].iterrows()\n",
    "        ],\n",
    "        hoverinfo='text',\n",
    "        name=name\n",
    "    ) for name in iris_plants\n",
    "]"
   ]
  },
  {
   "cell_type": "code",
   "execution_count": 31,
   "metadata": {},
   "outputs": [],
   "source": [
    "fig = go.Figure(data=data, layout=layout)"
   ]
  },
  {
   "cell_type": "code",
   "execution_count": 32,
   "metadata": {},
   "outputs": [
    {
     "data": {
      "application/vnd.plotly.v1+json": {
       "config": {
        "linkText": "Export to plot.ly",
        "plotlyServerURL": "https://plot.ly",
        "showLink": true
       },
       "data": [
        {
         "hoverinfo": "text",
         "mode": "markers",
         "name": "Iris-setosa",
         "text": [
          "x=5.1, y=3.5, Flower=Iris-setosa",
          "x=4.9, y=3.0, Flower=Iris-setosa",
          "x=4.7, y=3.2, Flower=Iris-setosa",
          "x=4.6, y=3.1, Flower=Iris-setosa",
          "x=5.0, y=3.6, Flower=Iris-setosa",
          "x=5.4, y=3.9, Flower=Iris-setosa",
          "x=4.6, y=3.4, Flower=Iris-setosa",
          "x=5.0, y=3.4, Flower=Iris-setosa",
          "x=4.4, y=2.9, Flower=Iris-setosa",
          "x=4.9, y=3.1, Flower=Iris-setosa",
          "x=5.4, y=3.7, Flower=Iris-setosa",
          "x=4.8, y=3.4, Flower=Iris-setosa",
          "x=4.8, y=3.0, Flower=Iris-setosa",
          "x=4.3, y=3.0, Flower=Iris-setosa",
          "x=5.8, y=4.0, Flower=Iris-setosa",
          "x=5.7, y=4.4, Flower=Iris-setosa",
          "x=5.4, y=3.9, Flower=Iris-setosa",
          "x=5.1, y=3.5, Flower=Iris-setosa",
          "x=5.7, y=3.8, Flower=Iris-setosa",
          "x=5.1, y=3.8, Flower=Iris-setosa",
          "x=5.4, y=3.4, Flower=Iris-setosa",
          "x=5.1, y=3.7, Flower=Iris-setosa",
          "x=4.6, y=3.6, Flower=Iris-setosa",
          "x=5.1, y=3.3, Flower=Iris-setosa",
          "x=4.8, y=3.4, Flower=Iris-setosa",
          "x=5.0, y=3.0, Flower=Iris-setosa",
          "x=5.0, y=3.4, Flower=Iris-setosa",
          "x=5.2, y=3.5, Flower=Iris-setosa",
          "x=5.2, y=3.4, Flower=Iris-setosa",
          "x=4.7, y=3.2, Flower=Iris-setosa",
          "x=4.8, y=3.1, Flower=Iris-setosa",
          "x=5.4, y=3.4, Flower=Iris-setosa",
          "x=5.2, y=4.1, Flower=Iris-setosa",
          "x=5.5, y=4.2, Flower=Iris-setosa",
          "x=4.9, y=3.1, Flower=Iris-setosa",
          "x=5.0, y=3.2, Flower=Iris-setosa",
          "x=5.5, y=3.5, Flower=Iris-setosa",
          "x=4.9, y=3.1, Flower=Iris-setosa",
          "x=4.4, y=3.0, Flower=Iris-setosa",
          "x=5.1, y=3.4, Flower=Iris-setosa",
          "x=5.0, y=3.5, Flower=Iris-setosa",
          "x=4.5, y=2.3, Flower=Iris-setosa",
          "x=4.4, y=3.2, Flower=Iris-setosa",
          "x=5.0, y=3.5, Flower=Iris-setosa",
          "x=5.1, y=3.8, Flower=Iris-setosa",
          "x=4.8, y=3.0, Flower=Iris-setosa",
          "x=5.1, y=3.8, Flower=Iris-setosa",
          "x=4.6, y=3.2, Flower=Iris-setosa",
          "x=5.3, y=3.7, Flower=Iris-setosa",
          "x=5.0, y=3.3, Flower=Iris-setosa"
         ],
         "type": "scatter",
         "uid": "2d0f2967-534f-41d1-a396-24162b7e0af5",
         "x": [
          5.1,
          4.9,
          4.7,
          4.6,
          5,
          5.4,
          4.6,
          5,
          4.4,
          4.9,
          5.4,
          4.8,
          4.8,
          4.3,
          5.8,
          5.7,
          5.4,
          5.1,
          5.7,
          5.1,
          5.4,
          5.1,
          4.6,
          5.1,
          4.8,
          5,
          5,
          5.2,
          5.2,
          4.7,
          4.8,
          5.4,
          5.2,
          5.5,
          4.9,
          5,
          5.5,
          4.9,
          4.4,
          5.1,
          5,
          4.5,
          4.4,
          5,
          5.1,
          4.8,
          5.1,
          4.6,
          5.3,
          5
         ],
         "y": [
          3.5,
          3,
          3.2,
          3.1,
          3.6,
          3.9,
          3.4,
          3.4,
          2.9,
          3.1,
          3.7,
          3.4,
          3,
          3,
          4,
          4.4,
          3.9,
          3.5,
          3.8,
          3.8,
          3.4,
          3.7,
          3.6,
          3.3,
          3.4,
          3,
          3.4,
          3.5,
          3.4,
          3.2,
          3.1,
          3.4,
          4.1,
          4.2,
          3.1,
          3.2,
          3.5,
          3.1,
          3,
          3.4,
          3.5,
          2.3,
          3.2,
          3.5,
          3.8,
          3,
          3.8,
          3.2,
          3.7,
          3.3
         ]
        },
        {
         "hoverinfo": "text",
         "mode": "markers",
         "name": "Iris-versicolor",
         "text": [
          "x=7.0, y=3.2, Flower=Iris-versicolor",
          "x=6.4, y=3.2, Flower=Iris-versicolor",
          "x=6.9, y=3.1, Flower=Iris-versicolor",
          "x=5.5, y=2.3, Flower=Iris-versicolor",
          "x=6.5, y=2.8, Flower=Iris-versicolor",
          "x=5.7, y=2.8, Flower=Iris-versicolor",
          "x=6.3, y=3.3, Flower=Iris-versicolor",
          "x=4.9, y=2.4, Flower=Iris-versicolor",
          "x=6.6, y=2.9, Flower=Iris-versicolor",
          "x=5.2, y=2.7, Flower=Iris-versicolor",
          "x=5.0, y=2.0, Flower=Iris-versicolor",
          "x=5.9, y=3.0, Flower=Iris-versicolor",
          "x=6.0, y=2.2, Flower=Iris-versicolor",
          "x=6.1, y=2.9, Flower=Iris-versicolor",
          "x=5.6, y=2.9, Flower=Iris-versicolor",
          "x=6.7, y=3.1, Flower=Iris-versicolor",
          "x=5.6, y=3.0, Flower=Iris-versicolor",
          "x=5.8, y=2.7, Flower=Iris-versicolor",
          "x=6.2, y=2.2, Flower=Iris-versicolor",
          "x=5.6, y=2.5, Flower=Iris-versicolor",
          "x=5.9, y=3.2, Flower=Iris-versicolor",
          "x=6.1, y=2.8, Flower=Iris-versicolor",
          "x=6.3, y=2.5, Flower=Iris-versicolor",
          "x=6.1, y=2.8, Flower=Iris-versicolor",
          "x=6.4, y=2.9, Flower=Iris-versicolor",
          "x=6.6, y=3.0, Flower=Iris-versicolor",
          "x=6.8, y=2.8, Flower=Iris-versicolor",
          "x=6.7, y=3.0, Flower=Iris-versicolor",
          "x=6.0, y=2.9, Flower=Iris-versicolor",
          "x=5.7, y=2.6, Flower=Iris-versicolor",
          "x=5.5, y=2.4, Flower=Iris-versicolor",
          "x=5.5, y=2.4, Flower=Iris-versicolor",
          "x=5.8, y=2.7, Flower=Iris-versicolor",
          "x=6.0, y=2.7, Flower=Iris-versicolor",
          "x=5.4, y=3.0, Flower=Iris-versicolor",
          "x=6.0, y=3.4, Flower=Iris-versicolor",
          "x=6.7, y=3.1, Flower=Iris-versicolor",
          "x=6.3, y=2.3, Flower=Iris-versicolor",
          "x=5.6, y=3.0, Flower=Iris-versicolor",
          "x=5.5, y=2.5, Flower=Iris-versicolor",
          "x=5.5, y=2.6, Flower=Iris-versicolor",
          "x=6.1, y=3.0, Flower=Iris-versicolor",
          "x=5.8, y=2.6, Flower=Iris-versicolor",
          "x=5.0, y=2.3, Flower=Iris-versicolor",
          "x=5.6, y=2.7, Flower=Iris-versicolor",
          "x=5.7, y=3.0, Flower=Iris-versicolor",
          "x=5.7, y=2.9, Flower=Iris-versicolor",
          "x=6.2, y=2.9, Flower=Iris-versicolor",
          "x=5.1, y=2.5, Flower=Iris-versicolor",
          "x=5.7, y=2.8, Flower=Iris-versicolor"
         ],
         "type": "scatter",
         "uid": "c0dd8319-4366-49ad-8bd1-a1e82fbc063c",
         "x": [
          7,
          6.4,
          6.9,
          5.5,
          6.5,
          5.7,
          6.3,
          4.9,
          6.6,
          5.2,
          5,
          5.9,
          6,
          6.1,
          5.6,
          6.7,
          5.6,
          5.8,
          6.2,
          5.6,
          5.9,
          6.1,
          6.3,
          6.1,
          6.4,
          6.6,
          6.8,
          6.7,
          6,
          5.7,
          5.5,
          5.5,
          5.8,
          6,
          5.4,
          6,
          6.7,
          6.3,
          5.6,
          5.5,
          5.5,
          6.1,
          5.8,
          5,
          5.6,
          5.7,
          5.7,
          6.2,
          5.1,
          5.7
         ],
         "y": [
          3.2,
          3.2,
          3.1,
          2.3,
          2.8,
          2.8,
          3.3,
          2.4,
          2.9,
          2.7,
          2,
          3,
          2.2,
          2.9,
          2.9,
          3.1,
          3,
          2.7,
          2.2,
          2.5,
          3.2,
          2.8,
          2.5,
          2.8,
          2.9,
          3,
          2.8,
          3,
          2.9,
          2.6,
          2.4,
          2.4,
          2.7,
          2.7,
          3,
          3.4,
          3.1,
          2.3,
          3,
          2.5,
          2.6,
          3,
          2.6,
          2.3,
          2.7,
          3,
          2.9,
          2.9,
          2.5,
          2.8
         ]
        },
        {
         "hoverinfo": "text",
         "mode": "markers",
         "name": "Iris-virginica",
         "text": [
          "x=6.3, y=3.3, Flower=Iris-virginica",
          "x=5.8, y=2.7, Flower=Iris-virginica",
          "x=7.1, y=3.0, Flower=Iris-virginica",
          "x=6.3, y=2.9, Flower=Iris-virginica",
          "x=6.5, y=3.0, Flower=Iris-virginica",
          "x=7.6, y=3.0, Flower=Iris-virginica",
          "x=4.9, y=2.5, Flower=Iris-virginica",
          "x=7.3, y=2.9, Flower=Iris-virginica",
          "x=6.7, y=2.5, Flower=Iris-virginica",
          "x=7.2, y=3.6, Flower=Iris-virginica",
          "x=6.5, y=3.2, Flower=Iris-virginica",
          "x=6.4, y=2.7, Flower=Iris-virginica",
          "x=6.8, y=3.0, Flower=Iris-virginica",
          "x=5.7, y=2.5, Flower=Iris-virginica",
          "x=5.8, y=2.8, Flower=Iris-virginica",
          "x=6.4, y=3.2, Flower=Iris-virginica",
          "x=6.5, y=3.0, Flower=Iris-virginica",
          "x=7.7, y=3.8, Flower=Iris-virginica",
          "x=7.7, y=2.6, Flower=Iris-virginica",
          "x=6.0, y=2.2, Flower=Iris-virginica",
          "x=6.9, y=3.2, Flower=Iris-virginica",
          "x=5.6, y=2.8, Flower=Iris-virginica",
          "x=7.7, y=2.8, Flower=Iris-virginica",
          "x=6.3, y=2.7, Flower=Iris-virginica",
          "x=6.7, y=3.3, Flower=Iris-virginica",
          "x=7.2, y=3.2, Flower=Iris-virginica",
          "x=6.2, y=2.8, Flower=Iris-virginica",
          "x=6.1, y=3.0, Flower=Iris-virginica",
          "x=6.4, y=2.8, Flower=Iris-virginica",
          "x=7.2, y=3.0, Flower=Iris-virginica",
          "x=7.4, y=2.8, Flower=Iris-virginica",
          "x=7.9, y=3.8, Flower=Iris-virginica",
          "x=6.4, y=2.8, Flower=Iris-virginica",
          "x=6.3, y=2.8, Flower=Iris-virginica",
          "x=6.1, y=2.6, Flower=Iris-virginica",
          "x=7.7, y=3.0, Flower=Iris-virginica",
          "x=6.3, y=3.4, Flower=Iris-virginica",
          "x=6.4, y=3.1, Flower=Iris-virginica",
          "x=6.0, y=3.0, Flower=Iris-virginica",
          "x=6.9, y=3.1, Flower=Iris-virginica",
          "x=6.7, y=3.1, Flower=Iris-virginica",
          "x=6.9, y=3.1, Flower=Iris-virginica",
          "x=5.8, y=2.7, Flower=Iris-virginica",
          "x=6.8, y=3.2, Flower=Iris-virginica",
          "x=6.7, y=3.3, Flower=Iris-virginica",
          "x=6.7, y=3.0, Flower=Iris-virginica",
          "x=6.3, y=2.5, Flower=Iris-virginica",
          "x=6.5, y=3.0, Flower=Iris-virginica",
          "x=6.2, y=3.4, Flower=Iris-virginica",
          "x=5.9, y=3.0, Flower=Iris-virginica"
         ],
         "type": "scatter",
         "uid": "1c933a92-0577-41c1-82e5-1fe7735afaa3",
         "x": [
          6.3,
          5.8,
          7.1,
          6.3,
          6.5,
          7.6,
          4.9,
          7.3,
          6.7,
          7.2,
          6.5,
          6.4,
          6.8,
          5.7,
          5.8,
          6.4,
          6.5,
          7.7,
          7.7,
          6,
          6.9,
          5.6,
          7.7,
          6.3,
          6.7,
          7.2,
          6.2,
          6.1,
          6.4,
          7.2,
          7.4,
          7.9,
          6.4,
          6.3,
          6.1,
          7.7,
          6.3,
          6.4,
          6,
          6.9,
          6.7,
          6.9,
          5.8,
          6.8,
          6.7,
          6.7,
          6.3,
          6.5,
          6.2,
          5.9
         ],
         "y": [
          3.3,
          2.7,
          3,
          2.9,
          3,
          3,
          2.5,
          2.9,
          2.5,
          3.6,
          3.2,
          2.7,
          3,
          2.5,
          2.8,
          3.2,
          3,
          3.8,
          2.6,
          2.2,
          3.2,
          2.8,
          2.8,
          2.7,
          3.3,
          3.2,
          2.8,
          3,
          2.8,
          3,
          2.8,
          3.8,
          2.8,
          2.8,
          2.6,
          3,
          3.4,
          3.1,
          3,
          3.1,
          3.1,
          3.1,
          2.7,
          3.2,
          3.3,
          3,
          2.5,
          3,
          3.4,
          3
         ]
        }
       ],
       "layout": {
        "hovermode": "closest",
        "title": "Sepal Length and Width",
        "xaxis": {
         "title": "Sepal Length"
        },
        "yaxis": {
         "title": "Sepal Width"
        }
       }
      },
      "text/html": [
       "<div id=\"af636ae4-9c10-4fd4-b81c-35d2ac28c440\" style=\"height: 525px; width: 100%;\" class=\"plotly-graph-div\"></div><script type=\"text/javascript\">require([\"plotly\"], function(Plotly) { window.PLOTLYENV=window.PLOTLYENV || {};window.PLOTLYENV.BASE_URL=\"https://plot.ly\";Plotly.newPlot(\"af636ae4-9c10-4fd4-b81c-35d2ac28c440\", [{\"hoverinfo\": \"text\", \"mode\": \"markers\", \"name\": \"Iris-setosa\", \"text\": [\"x=5.1, y=3.5, Flower=Iris-setosa\", \"x=4.9, y=3.0, Flower=Iris-setosa\", \"x=4.7, y=3.2, Flower=Iris-setosa\", \"x=4.6, y=3.1, Flower=Iris-setosa\", \"x=5.0, y=3.6, Flower=Iris-setosa\", \"x=5.4, y=3.9, Flower=Iris-setosa\", \"x=4.6, y=3.4, Flower=Iris-setosa\", \"x=5.0, y=3.4, Flower=Iris-setosa\", \"x=4.4, y=2.9, Flower=Iris-setosa\", \"x=4.9, y=3.1, Flower=Iris-setosa\", \"x=5.4, y=3.7, Flower=Iris-setosa\", \"x=4.8, y=3.4, Flower=Iris-setosa\", \"x=4.8, y=3.0, Flower=Iris-setosa\", \"x=4.3, y=3.0, Flower=Iris-setosa\", \"x=5.8, y=4.0, Flower=Iris-setosa\", \"x=5.7, y=4.4, Flower=Iris-setosa\", \"x=5.4, y=3.9, Flower=Iris-setosa\", \"x=5.1, y=3.5, Flower=Iris-setosa\", \"x=5.7, y=3.8, Flower=Iris-setosa\", \"x=5.1, y=3.8, Flower=Iris-setosa\", \"x=5.4, y=3.4, Flower=Iris-setosa\", \"x=5.1, y=3.7, Flower=Iris-setosa\", \"x=4.6, y=3.6, Flower=Iris-setosa\", \"x=5.1, y=3.3, Flower=Iris-setosa\", \"x=4.8, y=3.4, Flower=Iris-setosa\", \"x=5.0, y=3.0, Flower=Iris-setosa\", \"x=5.0, y=3.4, Flower=Iris-setosa\", \"x=5.2, y=3.5, Flower=Iris-setosa\", \"x=5.2, y=3.4, Flower=Iris-setosa\", \"x=4.7, y=3.2, Flower=Iris-setosa\", \"x=4.8, y=3.1, Flower=Iris-setosa\", \"x=5.4, y=3.4, Flower=Iris-setosa\", \"x=5.2, y=4.1, Flower=Iris-setosa\", \"x=5.5, y=4.2, Flower=Iris-setosa\", \"x=4.9, y=3.1, Flower=Iris-setosa\", \"x=5.0, y=3.2, Flower=Iris-setosa\", \"x=5.5, y=3.5, Flower=Iris-setosa\", \"x=4.9, y=3.1, Flower=Iris-setosa\", \"x=4.4, y=3.0, Flower=Iris-setosa\", \"x=5.1, y=3.4, Flower=Iris-setosa\", \"x=5.0, y=3.5, Flower=Iris-setosa\", \"x=4.5, y=2.3, Flower=Iris-setosa\", \"x=4.4, y=3.2, Flower=Iris-setosa\", \"x=5.0, y=3.5, Flower=Iris-setosa\", \"x=5.1, y=3.8, Flower=Iris-setosa\", \"x=4.8, y=3.0, Flower=Iris-setosa\", \"x=5.1, y=3.8, Flower=Iris-setosa\", \"x=4.6, y=3.2, Flower=Iris-setosa\", \"x=5.3, y=3.7, Flower=Iris-setosa\", \"x=5.0, y=3.3, Flower=Iris-setosa\"], \"x\": [5.1, 4.9, 4.7, 4.6, 5.0, 5.4, 4.6, 5.0, 4.4, 4.9, 5.4, 4.8, 4.8, 4.3, 5.8, 5.7, 5.4, 5.1, 5.7, 5.1, 5.4, 5.1, 4.6, 5.1, 4.8, 5.0, 5.0, 5.2, 5.2, 4.7, 4.8, 5.4, 5.2, 5.5, 4.9, 5.0, 5.5, 4.9, 4.4, 5.1, 5.0, 4.5, 4.4, 5.0, 5.1, 4.8, 5.1, 4.6, 5.3, 5.0], \"y\": [3.5, 3.0, 3.2, 3.1, 3.6, 3.9, 3.4, 3.4, 2.9, 3.1, 3.7, 3.4, 3.0, 3.0, 4.0, 4.4, 3.9, 3.5, 3.8, 3.8, 3.4, 3.7, 3.6, 3.3, 3.4, 3.0, 3.4, 3.5, 3.4, 3.2, 3.1, 3.4, 4.1, 4.2, 3.1, 3.2, 3.5, 3.1, 3.0, 3.4, 3.5, 2.3, 3.2, 3.5, 3.8, 3.0, 3.8, 3.2, 3.7, 3.3], \"type\": \"scatter\", \"uid\": \"2d0f2967-534f-41d1-a396-24162b7e0af5\"}, {\"hoverinfo\": \"text\", \"mode\": \"markers\", \"name\": \"Iris-versicolor\", \"text\": [\"x=7.0, y=3.2, Flower=Iris-versicolor\", \"x=6.4, y=3.2, Flower=Iris-versicolor\", \"x=6.9, y=3.1, Flower=Iris-versicolor\", \"x=5.5, y=2.3, Flower=Iris-versicolor\", \"x=6.5, y=2.8, Flower=Iris-versicolor\", \"x=5.7, y=2.8, Flower=Iris-versicolor\", \"x=6.3, y=3.3, Flower=Iris-versicolor\", \"x=4.9, y=2.4, Flower=Iris-versicolor\", \"x=6.6, y=2.9, Flower=Iris-versicolor\", \"x=5.2, y=2.7, Flower=Iris-versicolor\", \"x=5.0, y=2.0, Flower=Iris-versicolor\", \"x=5.9, y=3.0, Flower=Iris-versicolor\", \"x=6.0, y=2.2, Flower=Iris-versicolor\", \"x=6.1, y=2.9, Flower=Iris-versicolor\", \"x=5.6, y=2.9, Flower=Iris-versicolor\", \"x=6.7, y=3.1, Flower=Iris-versicolor\", \"x=5.6, y=3.0, Flower=Iris-versicolor\", \"x=5.8, y=2.7, Flower=Iris-versicolor\", \"x=6.2, y=2.2, Flower=Iris-versicolor\", \"x=5.6, y=2.5, Flower=Iris-versicolor\", \"x=5.9, y=3.2, Flower=Iris-versicolor\", \"x=6.1, y=2.8, Flower=Iris-versicolor\", \"x=6.3, y=2.5, Flower=Iris-versicolor\", \"x=6.1, y=2.8, Flower=Iris-versicolor\", \"x=6.4, y=2.9, Flower=Iris-versicolor\", \"x=6.6, y=3.0, Flower=Iris-versicolor\", \"x=6.8, y=2.8, Flower=Iris-versicolor\", \"x=6.7, y=3.0, Flower=Iris-versicolor\", \"x=6.0, y=2.9, Flower=Iris-versicolor\", \"x=5.7, y=2.6, Flower=Iris-versicolor\", \"x=5.5, y=2.4, Flower=Iris-versicolor\", \"x=5.5, y=2.4, Flower=Iris-versicolor\", \"x=5.8, y=2.7, Flower=Iris-versicolor\", \"x=6.0, y=2.7, Flower=Iris-versicolor\", \"x=5.4, y=3.0, Flower=Iris-versicolor\", \"x=6.0, y=3.4, Flower=Iris-versicolor\", \"x=6.7, y=3.1, Flower=Iris-versicolor\", \"x=6.3, y=2.3, Flower=Iris-versicolor\", \"x=5.6, y=3.0, Flower=Iris-versicolor\", \"x=5.5, y=2.5, Flower=Iris-versicolor\", \"x=5.5, y=2.6, Flower=Iris-versicolor\", \"x=6.1, y=3.0, Flower=Iris-versicolor\", \"x=5.8, y=2.6, Flower=Iris-versicolor\", \"x=5.0, y=2.3, Flower=Iris-versicolor\", \"x=5.6, y=2.7, Flower=Iris-versicolor\", \"x=5.7, y=3.0, Flower=Iris-versicolor\", \"x=5.7, y=2.9, Flower=Iris-versicolor\", \"x=6.2, y=2.9, Flower=Iris-versicolor\", \"x=5.1, y=2.5, Flower=Iris-versicolor\", \"x=5.7, y=2.8, Flower=Iris-versicolor\"], \"x\": [7.0, 6.4, 6.9, 5.5, 6.5, 5.7, 6.3, 4.9, 6.6, 5.2, 5.0, 5.9, 6.0, 6.1, 5.6, 6.7, 5.6, 5.8, 6.2, 5.6, 5.9, 6.1, 6.3, 6.1, 6.4, 6.6, 6.8, 6.7, 6.0, 5.7, 5.5, 5.5, 5.8, 6.0, 5.4, 6.0, 6.7, 6.3, 5.6, 5.5, 5.5, 6.1, 5.8, 5.0, 5.6, 5.7, 5.7, 6.2, 5.1, 5.7], \"y\": [3.2, 3.2, 3.1, 2.3, 2.8, 2.8, 3.3, 2.4, 2.9, 2.7, 2.0, 3.0, 2.2, 2.9, 2.9, 3.1, 3.0, 2.7, 2.2, 2.5, 3.2, 2.8, 2.5, 2.8, 2.9, 3.0, 2.8, 3.0, 2.9, 2.6, 2.4, 2.4, 2.7, 2.7, 3.0, 3.4, 3.1, 2.3, 3.0, 2.5, 2.6, 3.0, 2.6, 2.3, 2.7, 3.0, 2.9, 2.9, 2.5, 2.8], \"type\": \"scatter\", \"uid\": \"c0dd8319-4366-49ad-8bd1-a1e82fbc063c\"}, {\"hoverinfo\": \"text\", \"mode\": \"markers\", \"name\": \"Iris-virginica\", \"text\": [\"x=6.3, y=3.3, Flower=Iris-virginica\", \"x=5.8, y=2.7, Flower=Iris-virginica\", \"x=7.1, y=3.0, Flower=Iris-virginica\", \"x=6.3, y=2.9, Flower=Iris-virginica\", \"x=6.5, y=3.0, Flower=Iris-virginica\", \"x=7.6, y=3.0, Flower=Iris-virginica\", \"x=4.9, y=2.5, Flower=Iris-virginica\", \"x=7.3, y=2.9, Flower=Iris-virginica\", \"x=6.7, y=2.5, Flower=Iris-virginica\", \"x=7.2, y=3.6, Flower=Iris-virginica\", \"x=6.5, y=3.2, Flower=Iris-virginica\", \"x=6.4, y=2.7, Flower=Iris-virginica\", \"x=6.8, y=3.0, Flower=Iris-virginica\", \"x=5.7, y=2.5, Flower=Iris-virginica\", \"x=5.8, y=2.8, Flower=Iris-virginica\", \"x=6.4, y=3.2, Flower=Iris-virginica\", \"x=6.5, y=3.0, Flower=Iris-virginica\", \"x=7.7, y=3.8, Flower=Iris-virginica\", \"x=7.7, y=2.6, Flower=Iris-virginica\", \"x=6.0, y=2.2, Flower=Iris-virginica\", \"x=6.9, y=3.2, Flower=Iris-virginica\", \"x=5.6, y=2.8, Flower=Iris-virginica\", \"x=7.7, y=2.8, Flower=Iris-virginica\", \"x=6.3, y=2.7, Flower=Iris-virginica\", \"x=6.7, y=3.3, Flower=Iris-virginica\", \"x=7.2, y=3.2, Flower=Iris-virginica\", \"x=6.2, y=2.8, Flower=Iris-virginica\", \"x=6.1, y=3.0, Flower=Iris-virginica\", \"x=6.4, y=2.8, Flower=Iris-virginica\", \"x=7.2, y=3.0, Flower=Iris-virginica\", \"x=7.4, y=2.8, Flower=Iris-virginica\", \"x=7.9, y=3.8, Flower=Iris-virginica\", \"x=6.4, y=2.8, Flower=Iris-virginica\", \"x=6.3, y=2.8, Flower=Iris-virginica\", \"x=6.1, y=2.6, Flower=Iris-virginica\", \"x=7.7, y=3.0, Flower=Iris-virginica\", \"x=6.3, y=3.4, Flower=Iris-virginica\", \"x=6.4, y=3.1, Flower=Iris-virginica\", \"x=6.0, y=3.0, Flower=Iris-virginica\", \"x=6.9, y=3.1, Flower=Iris-virginica\", \"x=6.7, y=3.1, Flower=Iris-virginica\", \"x=6.9, y=3.1, Flower=Iris-virginica\", \"x=5.8, y=2.7, Flower=Iris-virginica\", \"x=6.8, y=3.2, Flower=Iris-virginica\", \"x=6.7, y=3.3, Flower=Iris-virginica\", \"x=6.7, y=3.0, Flower=Iris-virginica\", \"x=6.3, y=2.5, Flower=Iris-virginica\", \"x=6.5, y=3.0, Flower=Iris-virginica\", \"x=6.2, y=3.4, Flower=Iris-virginica\", \"x=5.9, y=3.0, Flower=Iris-virginica\"], \"x\": [6.3, 5.8, 7.1, 6.3, 6.5, 7.6, 4.9, 7.3, 6.7, 7.2, 6.5, 6.4, 6.8, 5.7, 5.8, 6.4, 6.5, 7.7, 7.7, 6.0, 6.9, 5.6, 7.7, 6.3, 6.7, 7.2, 6.2, 6.1, 6.4, 7.2, 7.4, 7.9, 6.4, 6.3, 6.1, 7.7, 6.3, 6.4, 6.0, 6.9, 6.7, 6.9, 5.8, 6.8, 6.7, 6.7, 6.3, 6.5, 6.2, 5.9], \"y\": [3.3, 2.7, 3.0, 2.9, 3.0, 3.0, 2.5, 2.9, 2.5, 3.6, 3.2, 2.7, 3.0, 2.5, 2.8, 3.2, 3.0, 3.8, 2.6, 2.2, 3.2, 2.8, 2.8, 2.7, 3.3, 3.2, 2.8, 3.0, 2.8, 3.0, 2.8, 3.8, 2.8, 2.8, 2.6, 3.0, 3.4, 3.1, 3.0, 3.1, 3.1, 3.1, 2.7, 3.2, 3.3, 3.0, 2.5, 3.0, 3.4, 3.0], \"type\": \"scatter\", \"uid\": \"1c933a92-0577-41c1-82e5-1fe7735afaa3\"}], {\"hovermode\": \"closest\", \"title\": \"Sepal Length and Width\", \"xaxis\": {\"title\": \"Sepal Length\"}, \"yaxis\": {\"title\": \"Sepal Width\"}}, {\"showLink\": true, \"linkText\": \"Export to plot.ly\", \"plotlyServerURL\": \"https://plot.ly\"})});</script><script type=\"text/javascript\">window.addEventListener(\"resize\", function(){window._Plotly.Plots.resize(document.getElementById(\"af636ae4-9c10-4fd4-b81c-35d2ac28c440\"));});</script>"
      ],
      "text/vnd.plotly.v1+html": [
       "<div id=\"af636ae4-9c10-4fd4-b81c-35d2ac28c440\" style=\"height: 525px; width: 100%;\" class=\"plotly-graph-div\"></div><script type=\"text/javascript\">require([\"plotly\"], function(Plotly) { window.PLOTLYENV=window.PLOTLYENV || {};window.PLOTLYENV.BASE_URL=\"https://plot.ly\";Plotly.newPlot(\"af636ae4-9c10-4fd4-b81c-35d2ac28c440\", [{\"hoverinfo\": \"text\", \"mode\": \"markers\", \"name\": \"Iris-setosa\", \"text\": [\"x=5.1, y=3.5, Flower=Iris-setosa\", \"x=4.9, y=3.0, Flower=Iris-setosa\", \"x=4.7, y=3.2, Flower=Iris-setosa\", \"x=4.6, y=3.1, Flower=Iris-setosa\", \"x=5.0, y=3.6, Flower=Iris-setosa\", \"x=5.4, y=3.9, Flower=Iris-setosa\", \"x=4.6, y=3.4, Flower=Iris-setosa\", \"x=5.0, y=3.4, Flower=Iris-setosa\", \"x=4.4, y=2.9, Flower=Iris-setosa\", \"x=4.9, y=3.1, Flower=Iris-setosa\", \"x=5.4, y=3.7, Flower=Iris-setosa\", \"x=4.8, y=3.4, Flower=Iris-setosa\", \"x=4.8, y=3.0, Flower=Iris-setosa\", \"x=4.3, y=3.0, Flower=Iris-setosa\", \"x=5.8, y=4.0, Flower=Iris-setosa\", \"x=5.7, y=4.4, Flower=Iris-setosa\", \"x=5.4, y=3.9, Flower=Iris-setosa\", \"x=5.1, y=3.5, Flower=Iris-setosa\", \"x=5.7, y=3.8, Flower=Iris-setosa\", \"x=5.1, y=3.8, Flower=Iris-setosa\", \"x=5.4, y=3.4, Flower=Iris-setosa\", \"x=5.1, y=3.7, Flower=Iris-setosa\", \"x=4.6, y=3.6, Flower=Iris-setosa\", \"x=5.1, y=3.3, Flower=Iris-setosa\", \"x=4.8, y=3.4, Flower=Iris-setosa\", \"x=5.0, y=3.0, Flower=Iris-setosa\", \"x=5.0, y=3.4, Flower=Iris-setosa\", \"x=5.2, y=3.5, Flower=Iris-setosa\", \"x=5.2, y=3.4, Flower=Iris-setosa\", \"x=4.7, y=3.2, Flower=Iris-setosa\", \"x=4.8, y=3.1, Flower=Iris-setosa\", \"x=5.4, y=3.4, Flower=Iris-setosa\", \"x=5.2, y=4.1, Flower=Iris-setosa\", \"x=5.5, y=4.2, Flower=Iris-setosa\", \"x=4.9, y=3.1, Flower=Iris-setosa\", \"x=5.0, y=3.2, Flower=Iris-setosa\", \"x=5.5, y=3.5, Flower=Iris-setosa\", \"x=4.9, y=3.1, Flower=Iris-setosa\", \"x=4.4, y=3.0, Flower=Iris-setosa\", \"x=5.1, y=3.4, Flower=Iris-setosa\", \"x=5.0, y=3.5, Flower=Iris-setosa\", \"x=4.5, y=2.3, Flower=Iris-setosa\", \"x=4.4, y=3.2, Flower=Iris-setosa\", \"x=5.0, y=3.5, Flower=Iris-setosa\", \"x=5.1, y=3.8, Flower=Iris-setosa\", \"x=4.8, y=3.0, Flower=Iris-setosa\", \"x=5.1, y=3.8, Flower=Iris-setosa\", \"x=4.6, y=3.2, Flower=Iris-setosa\", \"x=5.3, y=3.7, Flower=Iris-setosa\", \"x=5.0, y=3.3, Flower=Iris-setosa\"], \"x\": [5.1, 4.9, 4.7, 4.6, 5.0, 5.4, 4.6, 5.0, 4.4, 4.9, 5.4, 4.8, 4.8, 4.3, 5.8, 5.7, 5.4, 5.1, 5.7, 5.1, 5.4, 5.1, 4.6, 5.1, 4.8, 5.0, 5.0, 5.2, 5.2, 4.7, 4.8, 5.4, 5.2, 5.5, 4.9, 5.0, 5.5, 4.9, 4.4, 5.1, 5.0, 4.5, 4.4, 5.0, 5.1, 4.8, 5.1, 4.6, 5.3, 5.0], \"y\": [3.5, 3.0, 3.2, 3.1, 3.6, 3.9, 3.4, 3.4, 2.9, 3.1, 3.7, 3.4, 3.0, 3.0, 4.0, 4.4, 3.9, 3.5, 3.8, 3.8, 3.4, 3.7, 3.6, 3.3, 3.4, 3.0, 3.4, 3.5, 3.4, 3.2, 3.1, 3.4, 4.1, 4.2, 3.1, 3.2, 3.5, 3.1, 3.0, 3.4, 3.5, 2.3, 3.2, 3.5, 3.8, 3.0, 3.8, 3.2, 3.7, 3.3], \"type\": \"scatter\", \"uid\": \"2d0f2967-534f-41d1-a396-24162b7e0af5\"}, {\"hoverinfo\": \"text\", \"mode\": \"markers\", \"name\": \"Iris-versicolor\", \"text\": [\"x=7.0, y=3.2, Flower=Iris-versicolor\", \"x=6.4, y=3.2, Flower=Iris-versicolor\", \"x=6.9, y=3.1, Flower=Iris-versicolor\", \"x=5.5, y=2.3, Flower=Iris-versicolor\", \"x=6.5, y=2.8, Flower=Iris-versicolor\", \"x=5.7, y=2.8, Flower=Iris-versicolor\", \"x=6.3, y=3.3, Flower=Iris-versicolor\", \"x=4.9, y=2.4, Flower=Iris-versicolor\", \"x=6.6, y=2.9, Flower=Iris-versicolor\", \"x=5.2, y=2.7, Flower=Iris-versicolor\", \"x=5.0, y=2.0, Flower=Iris-versicolor\", \"x=5.9, y=3.0, Flower=Iris-versicolor\", \"x=6.0, y=2.2, Flower=Iris-versicolor\", \"x=6.1, y=2.9, Flower=Iris-versicolor\", \"x=5.6, y=2.9, Flower=Iris-versicolor\", \"x=6.7, y=3.1, Flower=Iris-versicolor\", \"x=5.6, y=3.0, Flower=Iris-versicolor\", \"x=5.8, y=2.7, Flower=Iris-versicolor\", \"x=6.2, y=2.2, Flower=Iris-versicolor\", \"x=5.6, y=2.5, Flower=Iris-versicolor\", \"x=5.9, y=3.2, Flower=Iris-versicolor\", \"x=6.1, y=2.8, Flower=Iris-versicolor\", \"x=6.3, y=2.5, Flower=Iris-versicolor\", \"x=6.1, y=2.8, Flower=Iris-versicolor\", \"x=6.4, y=2.9, Flower=Iris-versicolor\", \"x=6.6, y=3.0, Flower=Iris-versicolor\", \"x=6.8, y=2.8, Flower=Iris-versicolor\", \"x=6.7, y=3.0, Flower=Iris-versicolor\", \"x=6.0, y=2.9, Flower=Iris-versicolor\", \"x=5.7, y=2.6, Flower=Iris-versicolor\", \"x=5.5, y=2.4, Flower=Iris-versicolor\", \"x=5.5, y=2.4, Flower=Iris-versicolor\", \"x=5.8, y=2.7, Flower=Iris-versicolor\", \"x=6.0, y=2.7, Flower=Iris-versicolor\", \"x=5.4, y=3.0, Flower=Iris-versicolor\", \"x=6.0, y=3.4, Flower=Iris-versicolor\", \"x=6.7, y=3.1, Flower=Iris-versicolor\", \"x=6.3, y=2.3, Flower=Iris-versicolor\", \"x=5.6, y=3.0, Flower=Iris-versicolor\", \"x=5.5, y=2.5, Flower=Iris-versicolor\", \"x=5.5, y=2.6, Flower=Iris-versicolor\", \"x=6.1, y=3.0, Flower=Iris-versicolor\", \"x=5.8, y=2.6, Flower=Iris-versicolor\", \"x=5.0, y=2.3, Flower=Iris-versicolor\", \"x=5.6, y=2.7, Flower=Iris-versicolor\", \"x=5.7, y=3.0, Flower=Iris-versicolor\", \"x=5.7, y=2.9, Flower=Iris-versicolor\", \"x=6.2, y=2.9, Flower=Iris-versicolor\", \"x=5.1, y=2.5, Flower=Iris-versicolor\", \"x=5.7, y=2.8, Flower=Iris-versicolor\"], \"x\": [7.0, 6.4, 6.9, 5.5, 6.5, 5.7, 6.3, 4.9, 6.6, 5.2, 5.0, 5.9, 6.0, 6.1, 5.6, 6.7, 5.6, 5.8, 6.2, 5.6, 5.9, 6.1, 6.3, 6.1, 6.4, 6.6, 6.8, 6.7, 6.0, 5.7, 5.5, 5.5, 5.8, 6.0, 5.4, 6.0, 6.7, 6.3, 5.6, 5.5, 5.5, 6.1, 5.8, 5.0, 5.6, 5.7, 5.7, 6.2, 5.1, 5.7], \"y\": [3.2, 3.2, 3.1, 2.3, 2.8, 2.8, 3.3, 2.4, 2.9, 2.7, 2.0, 3.0, 2.2, 2.9, 2.9, 3.1, 3.0, 2.7, 2.2, 2.5, 3.2, 2.8, 2.5, 2.8, 2.9, 3.0, 2.8, 3.0, 2.9, 2.6, 2.4, 2.4, 2.7, 2.7, 3.0, 3.4, 3.1, 2.3, 3.0, 2.5, 2.6, 3.0, 2.6, 2.3, 2.7, 3.0, 2.9, 2.9, 2.5, 2.8], \"type\": \"scatter\", \"uid\": \"c0dd8319-4366-49ad-8bd1-a1e82fbc063c\"}, {\"hoverinfo\": \"text\", \"mode\": \"markers\", \"name\": \"Iris-virginica\", \"text\": [\"x=6.3, y=3.3, Flower=Iris-virginica\", \"x=5.8, y=2.7, Flower=Iris-virginica\", \"x=7.1, y=3.0, Flower=Iris-virginica\", \"x=6.3, y=2.9, Flower=Iris-virginica\", \"x=6.5, y=3.0, Flower=Iris-virginica\", \"x=7.6, y=3.0, Flower=Iris-virginica\", \"x=4.9, y=2.5, Flower=Iris-virginica\", \"x=7.3, y=2.9, Flower=Iris-virginica\", \"x=6.7, y=2.5, Flower=Iris-virginica\", \"x=7.2, y=3.6, Flower=Iris-virginica\", \"x=6.5, y=3.2, Flower=Iris-virginica\", \"x=6.4, y=2.7, Flower=Iris-virginica\", \"x=6.8, y=3.0, Flower=Iris-virginica\", \"x=5.7, y=2.5, Flower=Iris-virginica\", \"x=5.8, y=2.8, Flower=Iris-virginica\", \"x=6.4, y=3.2, Flower=Iris-virginica\", \"x=6.5, y=3.0, Flower=Iris-virginica\", \"x=7.7, y=3.8, Flower=Iris-virginica\", \"x=7.7, y=2.6, Flower=Iris-virginica\", \"x=6.0, y=2.2, Flower=Iris-virginica\", \"x=6.9, y=3.2, Flower=Iris-virginica\", \"x=5.6, y=2.8, Flower=Iris-virginica\", \"x=7.7, y=2.8, Flower=Iris-virginica\", \"x=6.3, y=2.7, Flower=Iris-virginica\", \"x=6.7, y=3.3, Flower=Iris-virginica\", \"x=7.2, y=3.2, Flower=Iris-virginica\", \"x=6.2, y=2.8, Flower=Iris-virginica\", \"x=6.1, y=3.0, Flower=Iris-virginica\", \"x=6.4, y=2.8, Flower=Iris-virginica\", \"x=7.2, y=3.0, Flower=Iris-virginica\", \"x=7.4, y=2.8, Flower=Iris-virginica\", \"x=7.9, y=3.8, Flower=Iris-virginica\", \"x=6.4, y=2.8, Flower=Iris-virginica\", \"x=6.3, y=2.8, Flower=Iris-virginica\", \"x=6.1, y=2.6, Flower=Iris-virginica\", \"x=7.7, y=3.0, Flower=Iris-virginica\", \"x=6.3, y=3.4, Flower=Iris-virginica\", \"x=6.4, y=3.1, Flower=Iris-virginica\", \"x=6.0, y=3.0, Flower=Iris-virginica\", \"x=6.9, y=3.1, Flower=Iris-virginica\", \"x=6.7, y=3.1, Flower=Iris-virginica\", \"x=6.9, y=3.1, Flower=Iris-virginica\", \"x=5.8, y=2.7, Flower=Iris-virginica\", \"x=6.8, y=3.2, Flower=Iris-virginica\", \"x=6.7, y=3.3, Flower=Iris-virginica\", \"x=6.7, y=3.0, Flower=Iris-virginica\", \"x=6.3, y=2.5, Flower=Iris-virginica\", \"x=6.5, y=3.0, Flower=Iris-virginica\", \"x=6.2, y=3.4, Flower=Iris-virginica\", \"x=5.9, y=3.0, Flower=Iris-virginica\"], \"x\": [6.3, 5.8, 7.1, 6.3, 6.5, 7.6, 4.9, 7.3, 6.7, 7.2, 6.5, 6.4, 6.8, 5.7, 5.8, 6.4, 6.5, 7.7, 7.7, 6.0, 6.9, 5.6, 7.7, 6.3, 6.7, 7.2, 6.2, 6.1, 6.4, 7.2, 7.4, 7.9, 6.4, 6.3, 6.1, 7.7, 6.3, 6.4, 6.0, 6.9, 6.7, 6.9, 5.8, 6.8, 6.7, 6.7, 6.3, 6.5, 6.2, 5.9], \"y\": [3.3, 2.7, 3.0, 2.9, 3.0, 3.0, 2.5, 2.9, 2.5, 3.6, 3.2, 2.7, 3.0, 2.5, 2.8, 3.2, 3.0, 3.8, 2.6, 2.2, 3.2, 2.8, 2.8, 2.7, 3.3, 3.2, 2.8, 3.0, 2.8, 3.0, 2.8, 3.8, 2.8, 2.8, 2.6, 3.0, 3.4, 3.1, 3.0, 3.1, 3.1, 3.1, 2.7, 3.2, 3.3, 3.0, 2.5, 3.0, 3.4, 3.0], \"type\": \"scatter\", \"uid\": \"1c933a92-0577-41c1-82e5-1fe7735afaa3\"}], {\"hovermode\": \"closest\", \"title\": \"Sepal Length and Width\", \"xaxis\": {\"title\": \"Sepal Length\"}, \"yaxis\": {\"title\": \"Sepal Width\"}}, {\"showLink\": true, \"linkText\": \"Export to plot.ly\", \"plotlyServerURL\": \"https://plot.ly\"})});</script><script type=\"text/javascript\">window.addEventListener(\"resize\", function(){window._Plotly.Plots.resize(document.getElementById(\"af636ae4-9c10-4fd4-b81c-35d2ac28c440\"));});</script>"
      ]
     },
     "metadata": {},
     "output_type": "display_data"
    }
   ],
   "source": [
    "pyo.iplot(fig)"
   ]
  },
  {
   "cell_type": "markdown",
   "metadata": {},
   "source": [
    "# Different types of Graphs"
   ]
  },
  {
   "cell_type": "code",
   "execution_count": 33,
   "metadata": {},
   "outputs": [],
   "source": [
    "data = [\n",
    "    go.Histogram(\n",
    "        x=setosa['Sepal Length']\n",
    "    )\n",
    "]"
   ]
  },
  {
   "cell_type": "code",
   "execution_count": 34,
   "metadata": {},
   "outputs": [],
   "source": [
    "layout = go.Layout(\n",
    "    title=\"Setosa Sepal Length Histogram\",\n",
    "    xaxis=dict(title=\"Sepal Length\"),\n",
    "    yaxis=dict(title=\"Frequency\")\n",
    ")"
   ]
  },
  {
   "cell_type": "code",
   "execution_count": 35,
   "metadata": {},
   "outputs": [],
   "source": [
    "fig = go.Figure(data=data, layout=layout)"
   ]
  },
  {
   "cell_type": "code",
   "execution_count": 36,
   "metadata": {},
   "outputs": [
    {
     "data": {
      "application/vnd.plotly.v1+json": {
       "config": {
        "linkText": "Export to plot.ly",
        "plotlyServerURL": "https://plot.ly",
        "showLink": true
       },
       "data": [
        {
         "type": "histogram",
         "uid": "acc82a76-9e36-44f4-ae5e-fbba436cf1ba",
         "x": [
          5.1,
          4.9,
          4.7,
          4.6,
          5,
          5.4,
          4.6,
          5,
          4.4,
          4.9,
          5.4,
          4.8,
          4.8,
          4.3,
          5.8,
          5.7,
          5.4,
          5.1,
          5.7,
          5.1,
          5.4,
          5.1,
          4.6,
          5.1,
          4.8,
          5,
          5,
          5.2,
          5.2,
          4.7,
          4.8,
          5.4,
          5.2,
          5.5,
          4.9,
          5,
          5.5,
          4.9,
          4.4,
          5.1,
          5,
          4.5,
          4.4,
          5,
          5.1,
          4.8,
          5.1,
          4.6,
          5.3,
          5
         ]
        }
       ],
       "layout": {
        "title": "Setosa Sepal Length Histogram",
        "xaxis": {
         "title": "Sepal Length"
        },
        "yaxis": {
         "title": "Frequency"
        }
       }
      },
      "text/html": [
       "<div id=\"0896fcc7-b703-4896-808f-9f7bc2c0666b\" style=\"height: 525px; width: 100%;\" class=\"plotly-graph-div\"></div><script type=\"text/javascript\">require([\"plotly\"], function(Plotly) { window.PLOTLYENV=window.PLOTLYENV || {};window.PLOTLYENV.BASE_URL=\"https://plot.ly\";Plotly.newPlot(\"0896fcc7-b703-4896-808f-9f7bc2c0666b\", [{\"x\": [5.1, 4.9, 4.7, 4.6, 5.0, 5.4, 4.6, 5.0, 4.4, 4.9, 5.4, 4.8, 4.8, 4.3, 5.8, 5.7, 5.4, 5.1, 5.7, 5.1, 5.4, 5.1, 4.6, 5.1, 4.8, 5.0, 5.0, 5.2, 5.2, 4.7, 4.8, 5.4, 5.2, 5.5, 4.9, 5.0, 5.5, 4.9, 4.4, 5.1, 5.0, 4.5, 4.4, 5.0, 5.1, 4.8, 5.1, 4.6, 5.3, 5.0], \"type\": \"histogram\", \"uid\": \"acc82a76-9e36-44f4-ae5e-fbba436cf1ba\"}], {\"title\": \"Setosa Sepal Length Histogram\", \"xaxis\": {\"title\": \"Sepal Length\"}, \"yaxis\": {\"title\": \"Frequency\"}}, {\"showLink\": true, \"linkText\": \"Export to plot.ly\", \"plotlyServerURL\": \"https://plot.ly\"})});</script><script type=\"text/javascript\">window.addEventListener(\"resize\", function(){window._Plotly.Plots.resize(document.getElementById(\"0896fcc7-b703-4896-808f-9f7bc2c0666b\"));});</script>"
      ],
      "text/vnd.plotly.v1+html": [
       "<div id=\"0896fcc7-b703-4896-808f-9f7bc2c0666b\" style=\"height: 525px; width: 100%;\" class=\"plotly-graph-div\"></div><script type=\"text/javascript\">require([\"plotly\"], function(Plotly) { window.PLOTLYENV=window.PLOTLYENV || {};window.PLOTLYENV.BASE_URL=\"https://plot.ly\";Plotly.newPlot(\"0896fcc7-b703-4896-808f-9f7bc2c0666b\", [{\"x\": [5.1, 4.9, 4.7, 4.6, 5.0, 5.4, 4.6, 5.0, 4.4, 4.9, 5.4, 4.8, 4.8, 4.3, 5.8, 5.7, 5.4, 5.1, 5.7, 5.1, 5.4, 5.1, 4.6, 5.1, 4.8, 5.0, 5.0, 5.2, 5.2, 4.7, 4.8, 5.4, 5.2, 5.5, 4.9, 5.0, 5.5, 4.9, 4.4, 5.1, 5.0, 4.5, 4.4, 5.0, 5.1, 4.8, 5.1, 4.6, 5.3, 5.0], \"type\": \"histogram\", \"uid\": \"acc82a76-9e36-44f4-ae5e-fbba436cf1ba\"}], {\"title\": \"Setosa Sepal Length Histogram\", \"xaxis\": {\"title\": \"Sepal Length\"}, \"yaxis\": {\"title\": \"Frequency\"}}, {\"showLink\": true, \"linkText\": \"Export to plot.ly\", \"plotlyServerURL\": \"https://plot.ly\"})});</script><script type=\"text/javascript\">window.addEventListener(\"resize\", function(){window._Plotly.Plots.resize(document.getElementById(\"0896fcc7-b703-4896-808f-9f7bc2c0666b\"));});</script>"
      ]
     },
     "metadata": {},
     "output_type": "display_data"
    }
   ],
   "source": [
    "pyo.iplot(fig)"
   ]
  },
  {
   "cell_type": "markdown",
   "metadata": {},
   "source": [
    "## Using the nested dictionaries to style the graph\n",
    "\n",
    "We can also change the y-axis to represent a probability mass function (PMF)"
   ]
  },
  {
   "cell_type": "code",
   "execution_count": 37,
   "metadata": {},
   "outputs": [],
   "source": [
    "data = [\n",
    "    go.Histogram(\n",
    "        x=setosa['Sepal Length'],\n",
    "        nbinsx=20,\n",
    "        histnorm='probability',\n",
    "        marker=dict(\n",
    "            line=dict(\n",
    "                width=1,\n",
    "                color='white'\n",
    "            )\n",
    "        )\n",
    "    )\n",
    "]"
   ]
  },
  {
   "cell_type": "code",
   "execution_count": 38,
   "metadata": {},
   "outputs": [],
   "source": [
    "layout = go.Layout(\n",
    "    title=\"Setosa Sepal Length PMF Histogram\",\n",
    "    xaxis=dict(title=\"Sepal Length\"),\n",
    "    yaxis=dict(title=\"Probability\")\n",
    ")"
   ]
  },
  {
   "cell_type": "code",
   "execution_count": 39,
   "metadata": {},
   "outputs": [],
   "source": [
    "fig = go.Figure(data=data, layout=layout)"
   ]
  },
  {
   "cell_type": "code",
   "execution_count": 40,
   "metadata": {},
   "outputs": [
    {
     "data": {
      "application/vnd.plotly.v1+json": {
       "config": {
        "linkText": "Export to plot.ly",
        "plotlyServerURL": "https://plot.ly",
        "showLink": true
       },
       "data": [
        {
         "histnorm": "probability",
         "marker": {
          "line": {
           "color": "white",
           "width": 1
          }
         },
         "nbinsx": 20,
         "type": "histogram",
         "uid": "2081512b-3298-4076-93d2-cb6998b88d95",
         "x": [
          5.1,
          4.9,
          4.7,
          4.6,
          5,
          5.4,
          4.6,
          5,
          4.4,
          4.9,
          5.4,
          4.8,
          4.8,
          4.3,
          5.8,
          5.7,
          5.4,
          5.1,
          5.7,
          5.1,
          5.4,
          5.1,
          4.6,
          5.1,
          4.8,
          5,
          5,
          5.2,
          5.2,
          4.7,
          4.8,
          5.4,
          5.2,
          5.5,
          4.9,
          5,
          5.5,
          4.9,
          4.4,
          5.1,
          5,
          4.5,
          4.4,
          5,
          5.1,
          4.8,
          5.1,
          4.6,
          5.3,
          5
         ]
        }
       ],
       "layout": {
        "title": "Setosa Sepal Length PMF Histogram",
        "xaxis": {
         "title": "Sepal Length"
        },
        "yaxis": {
         "title": "Probability"
        }
       }
      },
      "text/html": [
       "<div id=\"28753206-3ead-4255-8c1b-0cd4711c0b94\" style=\"height: 525px; width: 100%;\" class=\"plotly-graph-div\"></div><script type=\"text/javascript\">require([\"plotly\"], function(Plotly) { window.PLOTLYENV=window.PLOTLYENV || {};window.PLOTLYENV.BASE_URL=\"https://plot.ly\";Plotly.newPlot(\"28753206-3ead-4255-8c1b-0cd4711c0b94\", [{\"histnorm\": \"probability\", \"marker\": {\"line\": {\"color\": \"white\", \"width\": 1}}, \"nbinsx\": 20, \"x\": [5.1, 4.9, 4.7, 4.6, 5.0, 5.4, 4.6, 5.0, 4.4, 4.9, 5.4, 4.8, 4.8, 4.3, 5.8, 5.7, 5.4, 5.1, 5.7, 5.1, 5.4, 5.1, 4.6, 5.1, 4.8, 5.0, 5.0, 5.2, 5.2, 4.7, 4.8, 5.4, 5.2, 5.5, 4.9, 5.0, 5.5, 4.9, 4.4, 5.1, 5.0, 4.5, 4.4, 5.0, 5.1, 4.8, 5.1, 4.6, 5.3, 5.0], \"type\": \"histogram\", \"uid\": \"2081512b-3298-4076-93d2-cb6998b88d95\"}], {\"title\": \"Setosa Sepal Length PMF Histogram\", \"xaxis\": {\"title\": \"Sepal Length\"}, \"yaxis\": {\"title\": \"Probability\"}}, {\"showLink\": true, \"linkText\": \"Export to plot.ly\", \"plotlyServerURL\": \"https://plot.ly\"})});</script><script type=\"text/javascript\">window.addEventListener(\"resize\", function(){window._Plotly.Plots.resize(document.getElementById(\"28753206-3ead-4255-8c1b-0cd4711c0b94\"));});</script>"
      ],
      "text/vnd.plotly.v1+html": [
       "<div id=\"28753206-3ead-4255-8c1b-0cd4711c0b94\" style=\"height: 525px; width: 100%;\" class=\"plotly-graph-div\"></div><script type=\"text/javascript\">require([\"plotly\"], function(Plotly) { window.PLOTLYENV=window.PLOTLYENV || {};window.PLOTLYENV.BASE_URL=\"https://plot.ly\";Plotly.newPlot(\"28753206-3ead-4255-8c1b-0cd4711c0b94\", [{\"histnorm\": \"probability\", \"marker\": {\"line\": {\"color\": \"white\", \"width\": 1}}, \"nbinsx\": 20, \"x\": [5.1, 4.9, 4.7, 4.6, 5.0, 5.4, 4.6, 5.0, 4.4, 4.9, 5.4, 4.8, 4.8, 4.3, 5.8, 5.7, 5.4, 5.1, 5.7, 5.1, 5.4, 5.1, 4.6, 5.1, 4.8, 5.0, 5.0, 5.2, 5.2, 4.7, 4.8, 5.4, 5.2, 5.5, 4.9, 5.0, 5.5, 4.9, 4.4, 5.1, 5.0, 4.5, 4.4, 5.0, 5.1, 4.8, 5.1, 4.6, 5.3, 5.0], \"type\": \"histogram\", \"uid\": \"2081512b-3298-4076-93d2-cb6998b88d95\"}], {\"title\": \"Setosa Sepal Length PMF Histogram\", \"xaxis\": {\"title\": \"Sepal Length\"}, \"yaxis\": {\"title\": \"Probability\"}}, {\"showLink\": true, \"linkText\": \"Export to plot.ly\", \"plotlyServerURL\": \"https://plot.ly\"})});</script><script type=\"text/javascript\">window.addEventListener(\"resize\", function(){window._Plotly.Plots.resize(document.getElementById(\"28753206-3ead-4255-8c1b-0cd4711c0b94\"));});</script>"
      ]
     },
     "metadata": {},
     "output_type": "display_data"
    }
   ],
   "source": [
    "pyo.iplot(fig)"
   ]
  },
  {
   "cell_type": "markdown",
   "metadata": {},
   "source": [
    "## Histograms of multiple classes"
   ]
  },
  {
   "cell_type": "code",
   "execution_count": 41,
   "metadata": {},
   "outputs": [],
   "source": [
    "data = [\n",
    "    go.Histogram(\n",
    "        x=iris.loc[iris['Flower'] == name]['Sepal Length'],\n",
    "        marker=dict(\n",
    "            line=dict(\n",
    "                width=1,\n",
    "                color='white'\n",
    "            )\n",
    "        ),\n",
    "        name=name\n",
    "    ) for name in iris_plants\n",
    "]"
   ]
  },
  {
   "cell_type": "code",
   "execution_count": 42,
   "metadata": {},
   "outputs": [],
   "source": [
    "layout = go.Layout(\n",
    "    title=\"Setosa Sepal Length PMF Histogram\",\n",
    "    xaxis=dict(title=\"Sepal Length\"),\n",
    "    yaxis=dict(title=\"Frequency\")\n",
    ")"
   ]
  },
  {
   "cell_type": "code",
   "execution_count": 43,
   "metadata": {},
   "outputs": [],
   "source": [
    "fig = go.Figure(data=data, layout=layout)"
   ]
  },
  {
   "cell_type": "markdown",
   "metadata": {},
   "source": [
    "#### This first example separates out the different classes"
   ]
  },
  {
   "cell_type": "code",
   "execution_count": 44,
   "metadata": {},
   "outputs": [
    {
     "data": {
      "application/vnd.plotly.v1+json": {
       "config": {
        "linkText": "Export to plot.ly",
        "plotlyServerURL": "https://plot.ly",
        "showLink": true
       },
       "data": [
        {
         "marker": {
          "line": {
           "color": "white",
           "width": 1
          }
         },
         "name": "Iris-setosa",
         "type": "histogram",
         "uid": "34052e1c-24c4-48ce-9801-a18219147e3a",
         "x": [
          5.1,
          4.9,
          4.7,
          4.6,
          5,
          5.4,
          4.6,
          5,
          4.4,
          4.9,
          5.4,
          4.8,
          4.8,
          4.3,
          5.8,
          5.7,
          5.4,
          5.1,
          5.7,
          5.1,
          5.4,
          5.1,
          4.6,
          5.1,
          4.8,
          5,
          5,
          5.2,
          5.2,
          4.7,
          4.8,
          5.4,
          5.2,
          5.5,
          4.9,
          5,
          5.5,
          4.9,
          4.4,
          5.1,
          5,
          4.5,
          4.4,
          5,
          5.1,
          4.8,
          5.1,
          4.6,
          5.3,
          5
         ]
        },
        {
         "marker": {
          "line": {
           "color": "white",
           "width": 1
          }
         },
         "name": "Iris-versicolor",
         "type": "histogram",
         "uid": "f5794f24-ed0a-41b0-a335-27f69302b21a",
         "x": [
          7,
          6.4,
          6.9,
          5.5,
          6.5,
          5.7,
          6.3,
          4.9,
          6.6,
          5.2,
          5,
          5.9,
          6,
          6.1,
          5.6,
          6.7,
          5.6,
          5.8,
          6.2,
          5.6,
          5.9,
          6.1,
          6.3,
          6.1,
          6.4,
          6.6,
          6.8,
          6.7,
          6,
          5.7,
          5.5,
          5.5,
          5.8,
          6,
          5.4,
          6,
          6.7,
          6.3,
          5.6,
          5.5,
          5.5,
          6.1,
          5.8,
          5,
          5.6,
          5.7,
          5.7,
          6.2,
          5.1,
          5.7
         ]
        },
        {
         "marker": {
          "line": {
           "color": "white",
           "width": 1
          }
         },
         "name": "Iris-virginica",
         "type": "histogram",
         "uid": "df848b35-0832-4563-b59d-5a175b53ef81",
         "x": [
          6.3,
          5.8,
          7.1,
          6.3,
          6.5,
          7.6,
          4.9,
          7.3,
          6.7,
          7.2,
          6.5,
          6.4,
          6.8,
          5.7,
          5.8,
          6.4,
          6.5,
          7.7,
          7.7,
          6,
          6.9,
          5.6,
          7.7,
          6.3,
          6.7,
          7.2,
          6.2,
          6.1,
          6.4,
          7.2,
          7.4,
          7.9,
          6.4,
          6.3,
          6.1,
          7.7,
          6.3,
          6.4,
          6,
          6.9,
          6.7,
          6.9,
          5.8,
          6.8,
          6.7,
          6.7,
          6.3,
          6.5,
          6.2,
          5.9
         ]
        }
       ],
       "layout": {
        "title": "Setosa Sepal Length PMF Histogram",
        "xaxis": {
         "title": "Sepal Length"
        },
        "yaxis": {
         "title": "Frequency"
        }
       }
      },
      "text/html": [
       "<div id=\"b61acc46-b506-4870-a193-223978f87754\" style=\"height: 525px; width: 100%;\" class=\"plotly-graph-div\"></div><script type=\"text/javascript\">require([\"plotly\"], function(Plotly) { window.PLOTLYENV=window.PLOTLYENV || {};window.PLOTLYENV.BASE_URL=\"https://plot.ly\";Plotly.newPlot(\"b61acc46-b506-4870-a193-223978f87754\", [{\"marker\": {\"line\": {\"color\": \"white\", \"width\": 1}}, \"name\": \"Iris-setosa\", \"x\": [5.1, 4.9, 4.7, 4.6, 5.0, 5.4, 4.6, 5.0, 4.4, 4.9, 5.4, 4.8, 4.8, 4.3, 5.8, 5.7, 5.4, 5.1, 5.7, 5.1, 5.4, 5.1, 4.6, 5.1, 4.8, 5.0, 5.0, 5.2, 5.2, 4.7, 4.8, 5.4, 5.2, 5.5, 4.9, 5.0, 5.5, 4.9, 4.4, 5.1, 5.0, 4.5, 4.4, 5.0, 5.1, 4.8, 5.1, 4.6, 5.3, 5.0], \"type\": \"histogram\", \"uid\": \"34052e1c-24c4-48ce-9801-a18219147e3a\"}, {\"marker\": {\"line\": {\"color\": \"white\", \"width\": 1}}, \"name\": \"Iris-versicolor\", \"x\": [7.0, 6.4, 6.9, 5.5, 6.5, 5.7, 6.3, 4.9, 6.6, 5.2, 5.0, 5.9, 6.0, 6.1, 5.6, 6.7, 5.6, 5.8, 6.2, 5.6, 5.9, 6.1, 6.3, 6.1, 6.4, 6.6, 6.8, 6.7, 6.0, 5.7, 5.5, 5.5, 5.8, 6.0, 5.4, 6.0, 6.7, 6.3, 5.6, 5.5, 5.5, 6.1, 5.8, 5.0, 5.6, 5.7, 5.7, 6.2, 5.1, 5.7], \"type\": \"histogram\", \"uid\": \"f5794f24-ed0a-41b0-a335-27f69302b21a\"}, {\"marker\": {\"line\": {\"color\": \"white\", \"width\": 1}}, \"name\": \"Iris-virginica\", \"x\": [6.3, 5.8, 7.1, 6.3, 6.5, 7.6, 4.9, 7.3, 6.7, 7.2, 6.5, 6.4, 6.8, 5.7, 5.8, 6.4, 6.5, 7.7, 7.7, 6.0, 6.9, 5.6, 7.7, 6.3, 6.7, 7.2, 6.2, 6.1, 6.4, 7.2, 7.4, 7.9, 6.4, 6.3, 6.1, 7.7, 6.3, 6.4, 6.0, 6.9, 6.7, 6.9, 5.8, 6.8, 6.7, 6.7, 6.3, 6.5, 6.2, 5.9], \"type\": \"histogram\", \"uid\": \"df848b35-0832-4563-b59d-5a175b53ef81\"}], {\"title\": \"Setosa Sepal Length PMF Histogram\", \"xaxis\": {\"title\": \"Sepal Length\"}, \"yaxis\": {\"title\": \"Frequency\"}}, {\"showLink\": true, \"linkText\": \"Export to plot.ly\", \"plotlyServerURL\": \"https://plot.ly\"})});</script><script type=\"text/javascript\">window.addEventListener(\"resize\", function(){window._Plotly.Plots.resize(document.getElementById(\"b61acc46-b506-4870-a193-223978f87754\"));});</script>"
      ],
      "text/vnd.plotly.v1+html": [
       "<div id=\"b61acc46-b506-4870-a193-223978f87754\" style=\"height: 525px; width: 100%;\" class=\"plotly-graph-div\"></div><script type=\"text/javascript\">require([\"plotly\"], function(Plotly) { window.PLOTLYENV=window.PLOTLYENV || {};window.PLOTLYENV.BASE_URL=\"https://plot.ly\";Plotly.newPlot(\"b61acc46-b506-4870-a193-223978f87754\", [{\"marker\": {\"line\": {\"color\": \"white\", \"width\": 1}}, \"name\": \"Iris-setosa\", \"x\": [5.1, 4.9, 4.7, 4.6, 5.0, 5.4, 4.6, 5.0, 4.4, 4.9, 5.4, 4.8, 4.8, 4.3, 5.8, 5.7, 5.4, 5.1, 5.7, 5.1, 5.4, 5.1, 4.6, 5.1, 4.8, 5.0, 5.0, 5.2, 5.2, 4.7, 4.8, 5.4, 5.2, 5.5, 4.9, 5.0, 5.5, 4.9, 4.4, 5.1, 5.0, 4.5, 4.4, 5.0, 5.1, 4.8, 5.1, 4.6, 5.3, 5.0], \"type\": \"histogram\", \"uid\": \"34052e1c-24c4-48ce-9801-a18219147e3a\"}, {\"marker\": {\"line\": {\"color\": \"white\", \"width\": 1}}, \"name\": \"Iris-versicolor\", \"x\": [7.0, 6.4, 6.9, 5.5, 6.5, 5.7, 6.3, 4.9, 6.6, 5.2, 5.0, 5.9, 6.0, 6.1, 5.6, 6.7, 5.6, 5.8, 6.2, 5.6, 5.9, 6.1, 6.3, 6.1, 6.4, 6.6, 6.8, 6.7, 6.0, 5.7, 5.5, 5.5, 5.8, 6.0, 5.4, 6.0, 6.7, 6.3, 5.6, 5.5, 5.5, 6.1, 5.8, 5.0, 5.6, 5.7, 5.7, 6.2, 5.1, 5.7], \"type\": \"histogram\", \"uid\": \"f5794f24-ed0a-41b0-a335-27f69302b21a\"}, {\"marker\": {\"line\": {\"color\": \"white\", \"width\": 1}}, \"name\": \"Iris-virginica\", \"x\": [6.3, 5.8, 7.1, 6.3, 6.5, 7.6, 4.9, 7.3, 6.7, 7.2, 6.5, 6.4, 6.8, 5.7, 5.8, 6.4, 6.5, 7.7, 7.7, 6.0, 6.9, 5.6, 7.7, 6.3, 6.7, 7.2, 6.2, 6.1, 6.4, 7.2, 7.4, 7.9, 6.4, 6.3, 6.1, 7.7, 6.3, 6.4, 6.0, 6.9, 6.7, 6.9, 5.8, 6.8, 6.7, 6.7, 6.3, 6.5, 6.2, 5.9], \"type\": \"histogram\", \"uid\": \"df848b35-0832-4563-b59d-5a175b53ef81\"}], {\"title\": \"Setosa Sepal Length PMF Histogram\", \"xaxis\": {\"title\": \"Sepal Length\"}, \"yaxis\": {\"title\": \"Frequency\"}}, {\"showLink\": true, \"linkText\": \"Export to plot.ly\", \"plotlyServerURL\": \"https://plot.ly\"})});</script><script type=\"text/javascript\">window.addEventListener(\"resize\", function(){window._Plotly.Plots.resize(document.getElementById(\"b61acc46-b506-4870-a193-223978f87754\"));});</script>"
      ]
     },
     "metadata": {},
     "output_type": "display_data"
    }
   ],
   "source": [
    "pyo.iplot(fig)"
   ]
  },
  {
   "cell_type": "markdown",
   "metadata": {},
   "source": [
    "#### The following graphs show overlapping histograms\n",
    "\n",
    "* This is done by changing the `barmode` value to `overlay`\n",
    "* Note that we need to change the `opacity` value in order to see bars behind others\n",
    "    * This is similar to the `alpha` parameter used in `matplotlib`"
   ]
  },
  {
   "cell_type": "code",
   "execution_count": 45,
   "metadata": {},
   "outputs": [],
   "source": [
    "data = [\n",
    "    go.Histogram(\n",
    "        x=iris.loc[iris['Flower'] == name]['Sepal Length'],\n",
    "        marker=dict(\n",
    "            line=dict(\n",
    "                width=1,\n",
    "                color='white'\n",
    "            )\n",
    "        ),\n",
    "        name=name,\n",
    "        opacity=0.6\n",
    "    ) for name in iris_plants\n",
    "]"
   ]
  },
  {
   "cell_type": "code",
   "execution_count": 46,
   "metadata": {},
   "outputs": [],
   "source": [
    "layout = go.Layout(\n",
    "    title=\"Setosa Sepal Length PMF Histogram\",\n",
    "    xaxis=dict(title=\"Sepal Length\"),\n",
    "    yaxis=dict(title=\"Frequency\"),\n",
    "    barmode='overlay'\n",
    ")"
   ]
  },
  {
   "cell_type": "code",
   "execution_count": 47,
   "metadata": {},
   "outputs": [],
   "source": [
    "fig = go.Figure(data=data, layout=layout)"
   ]
  },
  {
   "cell_type": "markdown",
   "metadata": {},
   "source": [
    "#### However - the bin sizes are not uniform"
   ]
  },
  {
   "cell_type": "code",
   "execution_count": 48,
   "metadata": {},
   "outputs": [
    {
     "data": {
      "application/vnd.plotly.v1+json": {
       "config": {
        "linkText": "Export to plot.ly",
        "plotlyServerURL": "https://plot.ly",
        "showLink": true
       },
       "data": [
        {
         "marker": {
          "line": {
           "color": "white",
           "width": 1
          }
         },
         "name": "Iris-setosa",
         "opacity": 0.6,
         "type": "histogram",
         "uid": "12de19fe-45c6-4ba4-9d67-766a75d78e56",
         "x": [
          5.1,
          4.9,
          4.7,
          4.6,
          5,
          5.4,
          4.6,
          5,
          4.4,
          4.9,
          5.4,
          4.8,
          4.8,
          4.3,
          5.8,
          5.7,
          5.4,
          5.1,
          5.7,
          5.1,
          5.4,
          5.1,
          4.6,
          5.1,
          4.8,
          5,
          5,
          5.2,
          5.2,
          4.7,
          4.8,
          5.4,
          5.2,
          5.5,
          4.9,
          5,
          5.5,
          4.9,
          4.4,
          5.1,
          5,
          4.5,
          4.4,
          5,
          5.1,
          4.8,
          5.1,
          4.6,
          5.3,
          5
         ]
        },
        {
         "marker": {
          "line": {
           "color": "white",
           "width": 1
          }
         },
         "name": "Iris-versicolor",
         "opacity": 0.6,
         "type": "histogram",
         "uid": "7fadf9b9-dcb7-456a-82b8-89a346b30447",
         "x": [
          7,
          6.4,
          6.9,
          5.5,
          6.5,
          5.7,
          6.3,
          4.9,
          6.6,
          5.2,
          5,
          5.9,
          6,
          6.1,
          5.6,
          6.7,
          5.6,
          5.8,
          6.2,
          5.6,
          5.9,
          6.1,
          6.3,
          6.1,
          6.4,
          6.6,
          6.8,
          6.7,
          6,
          5.7,
          5.5,
          5.5,
          5.8,
          6,
          5.4,
          6,
          6.7,
          6.3,
          5.6,
          5.5,
          5.5,
          6.1,
          5.8,
          5,
          5.6,
          5.7,
          5.7,
          6.2,
          5.1,
          5.7
         ]
        },
        {
         "marker": {
          "line": {
           "color": "white",
           "width": 1
          }
         },
         "name": "Iris-virginica",
         "opacity": 0.6,
         "type": "histogram",
         "uid": "b34c79fc-5c17-4a77-877d-2b6fa04d339e",
         "x": [
          6.3,
          5.8,
          7.1,
          6.3,
          6.5,
          7.6,
          4.9,
          7.3,
          6.7,
          7.2,
          6.5,
          6.4,
          6.8,
          5.7,
          5.8,
          6.4,
          6.5,
          7.7,
          7.7,
          6,
          6.9,
          5.6,
          7.7,
          6.3,
          6.7,
          7.2,
          6.2,
          6.1,
          6.4,
          7.2,
          7.4,
          7.9,
          6.4,
          6.3,
          6.1,
          7.7,
          6.3,
          6.4,
          6,
          6.9,
          6.7,
          6.9,
          5.8,
          6.8,
          6.7,
          6.7,
          6.3,
          6.5,
          6.2,
          5.9
         ]
        }
       ],
       "layout": {
        "barmode": "overlay",
        "title": "Setosa Sepal Length PMF Histogram",
        "xaxis": {
         "title": "Sepal Length"
        },
        "yaxis": {
         "title": "Frequency"
        }
       }
      },
      "text/html": [
       "<div id=\"40133c14-eeb1-48d6-90e1-6575cf897001\" style=\"height: 525px; width: 100%;\" class=\"plotly-graph-div\"></div><script type=\"text/javascript\">require([\"plotly\"], function(Plotly) { window.PLOTLYENV=window.PLOTLYENV || {};window.PLOTLYENV.BASE_URL=\"https://plot.ly\";Plotly.newPlot(\"40133c14-eeb1-48d6-90e1-6575cf897001\", [{\"marker\": {\"line\": {\"color\": \"white\", \"width\": 1}}, \"name\": \"Iris-setosa\", \"opacity\": 0.6, \"x\": [5.1, 4.9, 4.7, 4.6, 5.0, 5.4, 4.6, 5.0, 4.4, 4.9, 5.4, 4.8, 4.8, 4.3, 5.8, 5.7, 5.4, 5.1, 5.7, 5.1, 5.4, 5.1, 4.6, 5.1, 4.8, 5.0, 5.0, 5.2, 5.2, 4.7, 4.8, 5.4, 5.2, 5.5, 4.9, 5.0, 5.5, 4.9, 4.4, 5.1, 5.0, 4.5, 4.4, 5.0, 5.1, 4.8, 5.1, 4.6, 5.3, 5.0], \"type\": \"histogram\", \"uid\": \"12de19fe-45c6-4ba4-9d67-766a75d78e56\"}, {\"marker\": {\"line\": {\"color\": \"white\", \"width\": 1}}, \"name\": \"Iris-versicolor\", \"opacity\": 0.6, \"x\": [7.0, 6.4, 6.9, 5.5, 6.5, 5.7, 6.3, 4.9, 6.6, 5.2, 5.0, 5.9, 6.0, 6.1, 5.6, 6.7, 5.6, 5.8, 6.2, 5.6, 5.9, 6.1, 6.3, 6.1, 6.4, 6.6, 6.8, 6.7, 6.0, 5.7, 5.5, 5.5, 5.8, 6.0, 5.4, 6.0, 6.7, 6.3, 5.6, 5.5, 5.5, 6.1, 5.8, 5.0, 5.6, 5.7, 5.7, 6.2, 5.1, 5.7], \"type\": \"histogram\", \"uid\": \"7fadf9b9-dcb7-456a-82b8-89a346b30447\"}, {\"marker\": {\"line\": {\"color\": \"white\", \"width\": 1}}, \"name\": \"Iris-virginica\", \"opacity\": 0.6, \"x\": [6.3, 5.8, 7.1, 6.3, 6.5, 7.6, 4.9, 7.3, 6.7, 7.2, 6.5, 6.4, 6.8, 5.7, 5.8, 6.4, 6.5, 7.7, 7.7, 6.0, 6.9, 5.6, 7.7, 6.3, 6.7, 7.2, 6.2, 6.1, 6.4, 7.2, 7.4, 7.9, 6.4, 6.3, 6.1, 7.7, 6.3, 6.4, 6.0, 6.9, 6.7, 6.9, 5.8, 6.8, 6.7, 6.7, 6.3, 6.5, 6.2, 5.9], \"type\": \"histogram\", \"uid\": \"b34c79fc-5c17-4a77-877d-2b6fa04d339e\"}], {\"barmode\": \"overlay\", \"title\": \"Setosa Sepal Length PMF Histogram\", \"xaxis\": {\"title\": \"Sepal Length\"}, \"yaxis\": {\"title\": \"Frequency\"}}, {\"showLink\": true, \"linkText\": \"Export to plot.ly\", \"plotlyServerURL\": \"https://plot.ly\"})});</script><script type=\"text/javascript\">window.addEventListener(\"resize\", function(){window._Plotly.Plots.resize(document.getElementById(\"40133c14-eeb1-48d6-90e1-6575cf897001\"));});</script>"
      ],
      "text/vnd.plotly.v1+html": [
       "<div id=\"40133c14-eeb1-48d6-90e1-6575cf897001\" style=\"height: 525px; width: 100%;\" class=\"plotly-graph-div\"></div><script type=\"text/javascript\">require([\"plotly\"], function(Plotly) { window.PLOTLYENV=window.PLOTLYENV || {};window.PLOTLYENV.BASE_URL=\"https://plot.ly\";Plotly.newPlot(\"40133c14-eeb1-48d6-90e1-6575cf897001\", [{\"marker\": {\"line\": {\"color\": \"white\", \"width\": 1}}, \"name\": \"Iris-setosa\", \"opacity\": 0.6, \"x\": [5.1, 4.9, 4.7, 4.6, 5.0, 5.4, 4.6, 5.0, 4.4, 4.9, 5.4, 4.8, 4.8, 4.3, 5.8, 5.7, 5.4, 5.1, 5.7, 5.1, 5.4, 5.1, 4.6, 5.1, 4.8, 5.0, 5.0, 5.2, 5.2, 4.7, 4.8, 5.4, 5.2, 5.5, 4.9, 5.0, 5.5, 4.9, 4.4, 5.1, 5.0, 4.5, 4.4, 5.0, 5.1, 4.8, 5.1, 4.6, 5.3, 5.0], \"type\": \"histogram\", \"uid\": \"12de19fe-45c6-4ba4-9d67-766a75d78e56\"}, {\"marker\": {\"line\": {\"color\": \"white\", \"width\": 1}}, \"name\": \"Iris-versicolor\", \"opacity\": 0.6, \"x\": [7.0, 6.4, 6.9, 5.5, 6.5, 5.7, 6.3, 4.9, 6.6, 5.2, 5.0, 5.9, 6.0, 6.1, 5.6, 6.7, 5.6, 5.8, 6.2, 5.6, 5.9, 6.1, 6.3, 6.1, 6.4, 6.6, 6.8, 6.7, 6.0, 5.7, 5.5, 5.5, 5.8, 6.0, 5.4, 6.0, 6.7, 6.3, 5.6, 5.5, 5.5, 6.1, 5.8, 5.0, 5.6, 5.7, 5.7, 6.2, 5.1, 5.7], \"type\": \"histogram\", \"uid\": \"7fadf9b9-dcb7-456a-82b8-89a346b30447\"}, {\"marker\": {\"line\": {\"color\": \"white\", \"width\": 1}}, \"name\": \"Iris-virginica\", \"opacity\": 0.6, \"x\": [6.3, 5.8, 7.1, 6.3, 6.5, 7.6, 4.9, 7.3, 6.7, 7.2, 6.5, 6.4, 6.8, 5.7, 5.8, 6.4, 6.5, 7.7, 7.7, 6.0, 6.9, 5.6, 7.7, 6.3, 6.7, 7.2, 6.2, 6.1, 6.4, 7.2, 7.4, 7.9, 6.4, 6.3, 6.1, 7.7, 6.3, 6.4, 6.0, 6.9, 6.7, 6.9, 5.8, 6.8, 6.7, 6.7, 6.3, 6.5, 6.2, 5.9], \"type\": \"histogram\", \"uid\": \"b34c79fc-5c17-4a77-877d-2b6fa04d339e\"}], {\"barmode\": \"overlay\", \"title\": \"Setosa Sepal Length PMF Histogram\", \"xaxis\": {\"title\": \"Sepal Length\"}, \"yaxis\": {\"title\": \"Frequency\"}}, {\"showLink\": true, \"linkText\": \"Export to plot.ly\", \"plotlyServerURL\": \"https://plot.ly\"})});</script><script type=\"text/javascript\">window.addEventListener(\"resize\", function(){window._Plotly.Plots.resize(document.getElementById(\"40133c14-eeb1-48d6-90e1-6575cf897001\"));});</script>"
      ]
     },
     "metadata": {},
     "output_type": "display_data"
    }
   ],
   "source": [
    "pyo.iplot(fig)"
   ]
  },
  {
   "cell_type": "markdown",
   "metadata": {},
   "source": [
    "#### This has to be corrected by setting the size of the bins for all classes"
   ]
  },
  {
   "cell_type": "code",
   "execution_count": 49,
   "metadata": {},
   "outputs": [],
   "source": [
    "data = [\n",
    "    go.Histogram(\n",
    "        x=iris.loc[iris['Flower'] == name]['Sepal Length'],\n",
    "        marker=dict(\n",
    "            line=dict(\n",
    "                width=1,\n",
    "                color='white'\n",
    "            )\n",
    "        ),\n",
    "        name=name,\n",
    "        opacity=0.6,\n",
    "        xbins=dict(\n",
    "            start=0,\n",
    "            end=iris['Sepal Length'].max() + 0.1,\n",
    "            size=0.2\n",
    "        )\n",
    "    ) for name in iris_plants\n",
    "]"
   ]
  },
  {
   "cell_type": "code",
   "execution_count": 50,
   "metadata": {},
   "outputs": [],
   "source": [
    "fig = go.Figure(data=data, layout=layout)"
   ]
  },
  {
   "cell_type": "code",
   "execution_count": 51,
   "metadata": {},
   "outputs": [
    {
     "data": {
      "application/vnd.plotly.v1+json": {
       "config": {
        "linkText": "Export to plot.ly",
        "plotlyServerURL": "https://plot.ly",
        "showLink": true
       },
       "data": [
        {
         "marker": {
          "line": {
           "color": "white",
           "width": 1
          }
         },
         "name": "Iris-setosa",
         "opacity": 0.6,
         "type": "histogram",
         "uid": "1edb140e-aea9-4ecc-a30f-cc68f7e82e35",
         "x": [
          5.1,
          4.9,
          4.7,
          4.6,
          5,
          5.4,
          4.6,
          5,
          4.4,
          4.9,
          5.4,
          4.8,
          4.8,
          4.3,
          5.8,
          5.7,
          5.4,
          5.1,
          5.7,
          5.1,
          5.4,
          5.1,
          4.6,
          5.1,
          4.8,
          5,
          5,
          5.2,
          5.2,
          4.7,
          4.8,
          5.4,
          5.2,
          5.5,
          4.9,
          5,
          5.5,
          4.9,
          4.4,
          5.1,
          5,
          4.5,
          4.4,
          5,
          5.1,
          4.8,
          5.1,
          4.6,
          5.3,
          5
         ],
         "xbins": {
          "end": 8,
          "size": 0.2,
          "start": 0
         }
        },
        {
         "marker": {
          "line": {
           "color": "white",
           "width": 1
          }
         },
         "name": "Iris-versicolor",
         "opacity": 0.6,
         "type": "histogram",
         "uid": "9b67b249-fc46-46f9-b095-d2a8d6688291",
         "x": [
          7,
          6.4,
          6.9,
          5.5,
          6.5,
          5.7,
          6.3,
          4.9,
          6.6,
          5.2,
          5,
          5.9,
          6,
          6.1,
          5.6,
          6.7,
          5.6,
          5.8,
          6.2,
          5.6,
          5.9,
          6.1,
          6.3,
          6.1,
          6.4,
          6.6,
          6.8,
          6.7,
          6,
          5.7,
          5.5,
          5.5,
          5.8,
          6,
          5.4,
          6,
          6.7,
          6.3,
          5.6,
          5.5,
          5.5,
          6.1,
          5.8,
          5,
          5.6,
          5.7,
          5.7,
          6.2,
          5.1,
          5.7
         ],
         "xbins": {
          "end": 8,
          "size": 0.2,
          "start": 0
         }
        },
        {
         "marker": {
          "line": {
           "color": "white",
           "width": 1
          }
         },
         "name": "Iris-virginica",
         "opacity": 0.6,
         "type": "histogram",
         "uid": "2e3251c6-bd0c-4382-bd13-830ec7a9ee83",
         "x": [
          6.3,
          5.8,
          7.1,
          6.3,
          6.5,
          7.6,
          4.9,
          7.3,
          6.7,
          7.2,
          6.5,
          6.4,
          6.8,
          5.7,
          5.8,
          6.4,
          6.5,
          7.7,
          7.7,
          6,
          6.9,
          5.6,
          7.7,
          6.3,
          6.7,
          7.2,
          6.2,
          6.1,
          6.4,
          7.2,
          7.4,
          7.9,
          6.4,
          6.3,
          6.1,
          7.7,
          6.3,
          6.4,
          6,
          6.9,
          6.7,
          6.9,
          5.8,
          6.8,
          6.7,
          6.7,
          6.3,
          6.5,
          6.2,
          5.9
         ],
         "xbins": {
          "end": 8,
          "size": 0.2,
          "start": 0
         }
        }
       ],
       "layout": {
        "barmode": "overlay",
        "title": "Setosa Sepal Length PMF Histogram",
        "xaxis": {
         "title": "Sepal Length"
        },
        "yaxis": {
         "title": "Frequency"
        }
       }
      },
      "text/html": [
       "<div id=\"20fe7a5d-d345-49d2-a1ae-1eacdb054c88\" style=\"height: 525px; width: 100%;\" class=\"plotly-graph-div\"></div><script type=\"text/javascript\">require([\"plotly\"], function(Plotly) { window.PLOTLYENV=window.PLOTLYENV || {};window.PLOTLYENV.BASE_URL=\"https://plot.ly\";Plotly.newPlot(\"20fe7a5d-d345-49d2-a1ae-1eacdb054c88\", [{\"marker\": {\"line\": {\"color\": \"white\", \"width\": 1}}, \"name\": \"Iris-setosa\", \"opacity\": 0.6, \"x\": [5.1, 4.9, 4.7, 4.6, 5.0, 5.4, 4.6, 5.0, 4.4, 4.9, 5.4, 4.8, 4.8, 4.3, 5.8, 5.7, 5.4, 5.1, 5.7, 5.1, 5.4, 5.1, 4.6, 5.1, 4.8, 5.0, 5.0, 5.2, 5.2, 4.7, 4.8, 5.4, 5.2, 5.5, 4.9, 5.0, 5.5, 4.9, 4.4, 5.1, 5.0, 4.5, 4.4, 5.0, 5.1, 4.8, 5.1, 4.6, 5.3, 5.0], \"xbins\": {\"end\": 8.0, \"size\": 0.2, \"start\": 0}, \"type\": \"histogram\", \"uid\": \"1edb140e-aea9-4ecc-a30f-cc68f7e82e35\"}, {\"marker\": {\"line\": {\"color\": \"white\", \"width\": 1}}, \"name\": \"Iris-versicolor\", \"opacity\": 0.6, \"x\": [7.0, 6.4, 6.9, 5.5, 6.5, 5.7, 6.3, 4.9, 6.6, 5.2, 5.0, 5.9, 6.0, 6.1, 5.6, 6.7, 5.6, 5.8, 6.2, 5.6, 5.9, 6.1, 6.3, 6.1, 6.4, 6.6, 6.8, 6.7, 6.0, 5.7, 5.5, 5.5, 5.8, 6.0, 5.4, 6.0, 6.7, 6.3, 5.6, 5.5, 5.5, 6.1, 5.8, 5.0, 5.6, 5.7, 5.7, 6.2, 5.1, 5.7], \"xbins\": {\"end\": 8.0, \"size\": 0.2, \"start\": 0}, \"type\": \"histogram\", \"uid\": \"9b67b249-fc46-46f9-b095-d2a8d6688291\"}, {\"marker\": {\"line\": {\"color\": \"white\", \"width\": 1}}, \"name\": \"Iris-virginica\", \"opacity\": 0.6, \"x\": [6.3, 5.8, 7.1, 6.3, 6.5, 7.6, 4.9, 7.3, 6.7, 7.2, 6.5, 6.4, 6.8, 5.7, 5.8, 6.4, 6.5, 7.7, 7.7, 6.0, 6.9, 5.6, 7.7, 6.3, 6.7, 7.2, 6.2, 6.1, 6.4, 7.2, 7.4, 7.9, 6.4, 6.3, 6.1, 7.7, 6.3, 6.4, 6.0, 6.9, 6.7, 6.9, 5.8, 6.8, 6.7, 6.7, 6.3, 6.5, 6.2, 5.9], \"xbins\": {\"end\": 8.0, \"size\": 0.2, \"start\": 0}, \"type\": \"histogram\", \"uid\": \"2e3251c6-bd0c-4382-bd13-830ec7a9ee83\"}], {\"barmode\": \"overlay\", \"title\": \"Setosa Sepal Length PMF Histogram\", \"xaxis\": {\"title\": \"Sepal Length\"}, \"yaxis\": {\"title\": \"Frequency\"}}, {\"showLink\": true, \"linkText\": \"Export to plot.ly\", \"plotlyServerURL\": \"https://plot.ly\"})});</script><script type=\"text/javascript\">window.addEventListener(\"resize\", function(){window._Plotly.Plots.resize(document.getElementById(\"20fe7a5d-d345-49d2-a1ae-1eacdb054c88\"));});</script>"
      ],
      "text/vnd.plotly.v1+html": [
       "<div id=\"20fe7a5d-d345-49d2-a1ae-1eacdb054c88\" style=\"height: 525px; width: 100%;\" class=\"plotly-graph-div\"></div><script type=\"text/javascript\">require([\"plotly\"], function(Plotly) { window.PLOTLYENV=window.PLOTLYENV || {};window.PLOTLYENV.BASE_URL=\"https://plot.ly\";Plotly.newPlot(\"20fe7a5d-d345-49d2-a1ae-1eacdb054c88\", [{\"marker\": {\"line\": {\"color\": \"white\", \"width\": 1}}, \"name\": \"Iris-setosa\", \"opacity\": 0.6, \"x\": [5.1, 4.9, 4.7, 4.6, 5.0, 5.4, 4.6, 5.0, 4.4, 4.9, 5.4, 4.8, 4.8, 4.3, 5.8, 5.7, 5.4, 5.1, 5.7, 5.1, 5.4, 5.1, 4.6, 5.1, 4.8, 5.0, 5.0, 5.2, 5.2, 4.7, 4.8, 5.4, 5.2, 5.5, 4.9, 5.0, 5.5, 4.9, 4.4, 5.1, 5.0, 4.5, 4.4, 5.0, 5.1, 4.8, 5.1, 4.6, 5.3, 5.0], \"xbins\": {\"end\": 8.0, \"size\": 0.2, \"start\": 0}, \"type\": \"histogram\", \"uid\": \"1edb140e-aea9-4ecc-a30f-cc68f7e82e35\"}, {\"marker\": {\"line\": {\"color\": \"white\", \"width\": 1}}, \"name\": \"Iris-versicolor\", \"opacity\": 0.6, \"x\": [7.0, 6.4, 6.9, 5.5, 6.5, 5.7, 6.3, 4.9, 6.6, 5.2, 5.0, 5.9, 6.0, 6.1, 5.6, 6.7, 5.6, 5.8, 6.2, 5.6, 5.9, 6.1, 6.3, 6.1, 6.4, 6.6, 6.8, 6.7, 6.0, 5.7, 5.5, 5.5, 5.8, 6.0, 5.4, 6.0, 6.7, 6.3, 5.6, 5.5, 5.5, 6.1, 5.8, 5.0, 5.6, 5.7, 5.7, 6.2, 5.1, 5.7], \"xbins\": {\"end\": 8.0, \"size\": 0.2, \"start\": 0}, \"type\": \"histogram\", \"uid\": \"9b67b249-fc46-46f9-b095-d2a8d6688291\"}, {\"marker\": {\"line\": {\"color\": \"white\", \"width\": 1}}, \"name\": \"Iris-virginica\", \"opacity\": 0.6, \"x\": [6.3, 5.8, 7.1, 6.3, 6.5, 7.6, 4.9, 7.3, 6.7, 7.2, 6.5, 6.4, 6.8, 5.7, 5.8, 6.4, 6.5, 7.7, 7.7, 6.0, 6.9, 5.6, 7.7, 6.3, 6.7, 7.2, 6.2, 6.1, 6.4, 7.2, 7.4, 7.9, 6.4, 6.3, 6.1, 7.7, 6.3, 6.4, 6.0, 6.9, 6.7, 6.9, 5.8, 6.8, 6.7, 6.7, 6.3, 6.5, 6.2, 5.9], \"xbins\": {\"end\": 8.0, \"size\": 0.2, \"start\": 0}, \"type\": \"histogram\", \"uid\": \"2e3251c6-bd0c-4382-bd13-830ec7a9ee83\"}], {\"barmode\": \"overlay\", \"title\": \"Setosa Sepal Length PMF Histogram\", \"xaxis\": {\"title\": \"Sepal Length\"}, \"yaxis\": {\"title\": \"Frequency\"}}, {\"showLink\": true, \"linkText\": \"Export to plot.ly\", \"plotlyServerURL\": \"https://plot.ly\"})});</script><script type=\"text/javascript\">window.addEventListener(\"resize\", function(){window._Plotly.Plots.resize(document.getElementById(\"20fe7a5d-d345-49d2-a1ae-1eacdb054c88\"));});</script>"
      ]
     },
     "metadata": {},
     "output_type": "display_data"
    }
   ],
   "source": [
    "pyo.iplot(fig)"
   ]
  },
  {
   "cell_type": "markdown",
   "metadata": {},
   "source": [
    "# Using `figure_factory` to simplify the process\n",
    "\n",
    "This library can be used to simplify the process of creating some popular graphs. This is in active development, and sometimes, some research is required to find out how to enter the data.\n",
    "\n",
    "This can be done using the notebook:\n",
    "\n",
    "* Type in `ff.` and then hit `<Shift>` and `<Tab>` together - this shows you a list of all of the available types of plots\n",
    "* These can then be examined using the `?` tool in the notebook"
   ]
  },
  {
   "cell_type": "code",
   "execution_count": 52,
   "metadata": {},
   "outputs": [],
   "source": [
    "import plotly.figure_factory as ff"
   ]
  },
  {
   "cell_type": "code",
   "execution_count": 53,
   "metadata": {},
   "outputs": [],
   "source": [
    "ff.create_distplot?"
   ]
  },
  {
   "cell_type": "markdown",
   "metadata": {},
   "source": [
    "#### This particular plot takes a list of the different sets of values for each plant"
   ]
  },
  {
   "cell_type": "code",
   "execution_count": 54,
   "metadata": {},
   "outputs": [],
   "source": [
    "sepal_lengths = [iris.loc[iris['Flower'] == name]['Sepal Length'].values for name in iris_plants]"
   ]
  },
  {
   "cell_type": "code",
   "execution_count": 56,
   "metadata": {},
   "outputs": [
    {
     "ename": "ImportError",
     "evalue": "FigureFactory.create_distplot requires scipy",
     "output_type": "error",
     "traceback": [
      "\u001b[0;31m---------------------------------------------------------------------------\u001b[0m",
      "\u001b[0;31mImportError\u001b[0m                               Traceback (most recent call last)",
      "\u001b[0;32m<ipython-input-56-ba3f8e7bfd6b>\u001b[0m in \u001b[0;36m<module>\u001b[0;34m\u001b[0m\n\u001b[0;32m----> 1\u001b[0;31m \u001b[0mfig\u001b[0m \u001b[0;34m=\u001b[0m \u001b[0mff\u001b[0m\u001b[0;34m.\u001b[0m\u001b[0mcreate_distplot\u001b[0m\u001b[0;34m(\u001b[0m\u001b[0msepal_lengths\u001b[0m\u001b[0;34m,\u001b[0m \u001b[0miris_plants\u001b[0m\u001b[0;34m,\u001b[0m \u001b[0mbin_size\u001b[0m\u001b[0;34m=\u001b[0m\u001b[0;36m0.2\u001b[0m\u001b[0;34m)\u001b[0m\u001b[0;34m\u001b[0m\u001b[0;34m\u001b[0m\u001b[0m\n\u001b[0m",
      "\u001b[0;32m~/miniconda3/envs/dash/lib/python3.7/site-packages/plotly/figure_factory/_distplot.py\u001b[0m in \u001b[0;36mcreate_distplot\u001b[0;34m(hist_data, group_labels, bin_size, curve_type, colors, rug_text, histnorm, show_hist, show_curve, show_rug)\u001b[0m\n\u001b[1;32m    170\u001b[0m         \u001b[0mrug_text\u001b[0m \u001b[0;34m=\u001b[0m \u001b[0;34m[\u001b[0m\u001b[0;34m]\u001b[0m\u001b[0;34m\u001b[0m\u001b[0;34m\u001b[0m\u001b[0m\n\u001b[1;32m    171\u001b[0m \u001b[0;34m\u001b[0m\u001b[0m\n\u001b[0;32m--> 172\u001b[0;31m     \u001b[0mvalidate_distplot\u001b[0m\u001b[0;34m(\u001b[0m\u001b[0mhist_data\u001b[0m\u001b[0;34m,\u001b[0m \u001b[0mcurve_type\u001b[0m\u001b[0;34m)\u001b[0m\u001b[0;34m\u001b[0m\u001b[0;34m\u001b[0m\u001b[0m\n\u001b[0m\u001b[1;32m    173\u001b[0m     \u001b[0mutils\u001b[0m\u001b[0;34m.\u001b[0m\u001b[0mvalidate_equal_length\u001b[0m\u001b[0;34m(\u001b[0m\u001b[0mhist_data\u001b[0m\u001b[0;34m,\u001b[0m \u001b[0mgroup_labels\u001b[0m\u001b[0;34m)\u001b[0m\u001b[0;34m\u001b[0m\u001b[0;34m\u001b[0m\u001b[0m\n\u001b[1;32m    174\u001b[0m \u001b[0;34m\u001b[0m\u001b[0m\n",
      "\u001b[0;32m~/miniconda3/envs/dash/lib/python3.7/site-packages/plotly/figure_factory/_distplot.py\u001b[0m in \u001b[0;36mvalidate_distplot\u001b[0;34m(hist_data, curve_type)\u001b[0m\n\u001b[1;32m     44\u001b[0m \u001b[0;34m\u001b[0m\u001b[0m\n\u001b[1;32m     45\u001b[0m     \u001b[0;32mif\u001b[0m \u001b[0;32mnot\u001b[0m \u001b[0mscipy\u001b[0m\u001b[0;34m:\u001b[0m\u001b[0;34m\u001b[0m\u001b[0;34m\u001b[0m\u001b[0m\n\u001b[0;32m---> 46\u001b[0;31m         \u001b[0;32mraise\u001b[0m \u001b[0mImportError\u001b[0m\u001b[0;34m(\u001b[0m\u001b[0;34m\"FigureFactory.create_distplot requires scipy\"\u001b[0m\u001b[0;34m)\u001b[0m\u001b[0;34m\u001b[0m\u001b[0;34m\u001b[0m\u001b[0m\n\u001b[0m\u001b[1;32m     47\u001b[0m \u001b[0;34m\u001b[0m\u001b[0m\n\u001b[1;32m     48\u001b[0m \u001b[0;34m\u001b[0m\u001b[0m\n",
      "\u001b[0;31mImportError\u001b[0m: FigureFactory.create_distplot requires scipy"
     ]
    }
   ],
   "source": [
    "fig = ff.create_distplot(sepal_lengths, iris_plants, bin_size=0.2)"
   ]
  },
  {
   "cell_type": "code",
   "execution_count": null,
   "metadata": {},
   "outputs": [],
   "source": [
    "pyo.iplot(fig)"
   ]
  },
  {
   "cell_type": "markdown",
   "metadata": {},
   "source": [
    "#### The following cell shows what the `figure_factory` has done for us\n",
    "\n",
    "We can also manually update parts of the plot - in this case, I want to get the white lines between the bars again"
   ]
  },
  {
   "cell_type": "code",
   "execution_count": null,
   "metadata": {},
   "outputs": [],
   "source": [
    "fig"
   ]
  },
  {
   "cell_type": "code",
   "execution_count": null,
   "metadata": {},
   "outputs": [],
   "source": [
    "for hist in fig['data']:\n",
    "    hist['marker']['line'] = dict(width=1, color='white')"
   ]
  },
  {
   "cell_type": "code",
   "execution_count": null,
   "metadata": {},
   "outputs": [],
   "source": [
    "pyo.iplot(fig)"
   ]
  },
  {
   "cell_type": "markdown",
   "metadata": {},
   "source": [
    "#### Another very useful plot to quickly examine the relationship between the columns in the dataframes\n",
    "\n",
    "This is very similar to `pairplot` in the `seaborn` library"
   ]
  },
  {
   "cell_type": "code",
   "execution_count": null,
   "metadata": {},
   "outputs": [],
   "source": [
    "fig = ff.create_scatterplotmatrix(iris, index='Flower', height=700, width=700,\n",
    "                                  diag='histogram', title='Scatter Matrix of Iris Features')"
   ]
  },
  {
   "cell_type": "code",
   "execution_count": null,
   "metadata": {},
   "outputs": [],
   "source": [
    "pyo.iplot(fig)"
   ]
  },
  {
   "cell_type": "code",
   "execution_count": null,
   "metadata": {},
   "outputs": [],
   "source": [
    "fig"
   ]
  },
  {
   "cell_type": "code",
   "execution_count": null,
   "metadata": {},
   "outputs": [],
   "source": [
    "for graph in fig['data']:\n",
    "    if graph['type'] == 'histogram':\n",
    "        graph['opacity'] = 0.6\n",
    "        \n",
    "fig['layout']['barmode'] = 'overlay'"
   ]
  },
  {
   "cell_type": "code",
   "execution_count": null,
   "metadata": {},
   "outputs": [],
   "source": [
    "pyo.iplot(fig)"
   ]
  }
 ],
 "metadata": {
  "kernelspec": {
   "display_name": "Python 3",
   "language": "python",
   "name": "python3"
  },
  "language_info": {
   "codemirror_mode": {
    "name": "ipython",
    "version": 3
   },
   "file_extension": ".py",
   "mimetype": "text/x-python",
   "name": "python",
   "nbconvert_exporter": "python",
   "pygments_lexer": "ipython3",
   "version": "3.7.1"
  }
 },
 "nbformat": 4,
 "nbformat_minor": 2
}
